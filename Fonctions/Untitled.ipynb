{
 "cells": [
  {
   "cell_type": "code",
   "execution_count": 3,
   "id": "7aa241b7-4bc3-4ec9-9280-f9fd06bfe5bc",
   "metadata": {},
   "outputs": [
    {
     "name": "stdout",
     "output_type": "stream",
     "text": [
      "Help on built-in function isqrt in module math:\n",
      "\n",
      "isqrt(n, /)\n",
      "    Return the integer part of the square root of the input.\n",
      "\n"
     ]
    }
   ],
   "source": [
    "from math import isqrt, sqrt\n",
    "help(isqrt)"
   ]
  },
  {
   "cell_type": "code",
   "execution_count": 4,
   "id": "595d188c-12ae-48bb-b4fe-834c29768f4e",
   "metadata": {},
   "outputs": [
    {
     "data": {
      "text/plain": [
       "1.4142135623730951"
      ]
     },
     "execution_count": 4,
     "metadata": {},
     "output_type": "execute_result"
    }
   ],
   "source": [
    "sqrt(2)"
   ]
  },
  {
   "cell_type": "code",
   "execution_count": null,
   "id": "c3c1124f-b9c4-4388-bee3-cb12bfc5d173",
   "metadata": {},
   "outputs": [],
   "source": []
  }
 ],
 "metadata": {
  "kernelspec": {
   "display_name": "Python 3 (ipykernel)",
   "language": "python",
   "name": "python3"
  },
  "language_info": {
   "codemirror_mode": {
    "name": "ipython",
    "version": 3
   },
   "file_extension": ".py",
   "mimetype": "text/x-python",
   "name": "python",
   "nbconvert_exporter": "python",
   "pygments_lexer": "ipython3",
   "version": "3.9.9"
  }
 },
 "nbformat": 4,
 "nbformat_minor": 5
}
