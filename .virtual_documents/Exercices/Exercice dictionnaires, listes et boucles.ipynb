import json
import pprint

with open("data/json/youtube.json") as f:
    youtube = json.load(f)
    
# Visualisation
pprint.pprint(youtube)


import json
import pprint

with open("data/json/twitter.humanitesnumeriques2.json") as f:
    twitter = json.load(f)
    
# Visualisation
print(twitter)


# Consigne
kind = None
print(kind)
assert kind == "youtube#playlistItemListResponse", "Mauvaise clé"


k=0
for _ in range(10):
    k+=1
    print(k)


# Exercice réalisé
# On recommendera l'utilisation de la commande rechercher pour trouver où se situe une valeur 
#   demandée dans le JSON
kind = youtube["kind"]
# On débugue
print(kind)
# On teste
assert kind == "youtube#playlistItemListResponse", "Mauvaise clé"


# A.1
total_results = None
print(total_results)
assert total_results == 84, "Mauvaise clé !"


title = None
print(title)
assert title == "Zig Zag Decryption - Computerphile", "Mauvaise clé !"


# A.3
videoId = None
print(videoId)
assert videoId == "yxx3Bkmv3ck", "Mauvaise clé !"


# A.4 (Trois possibilités)
url = None
print(url)
assert url == "https://i.ytimg.com/vi/Ou_9ntYRzzw/default.jpg", "Mauvaise clé !"


# Consigne
publishedAt = None
print(publishedAt)
assert publishedAt == "2015-10-20T09:43:34.000Z", "Mauvaise clé !"


# A.6
ViolaineTissier = None
print(ViolaineTissier)
assert ViolaineTissier == "ViolaineTissier", "Mauvaise clé !"


# Consigne
debut_texte = None
print(debut_texte)
assert texte.startswith("Comment donner une place aux") == True, "Mauvaise clé !"


# Consigne
id_tweet = None
print(id_tweet)
assert id_tweet == "943033503729553408", "Mauvaise clé !"


# B. 1
liste_de_titre = []

# Votre code ici
    
assert liste_de_titre == ['Zig Zag Decryption - Computerphile',
 "Fishy Codes: Bletchley's Other Secret - Computerphile",
 'The Great 202 Jailbreak - Computerphile',
 'Why Electronic Voting is a BAD Idea - Computerphile',
 '"C" Programming Language: Brian Kernighan - Computerphile',
 'Colossus & Bletchley Park - Computerphile',
 'The Most Difficult Program to Compute? - Computerphile',
 "Turing's Enigma Problem (Part 1) - Computerphile",
 "Tackling Enigma (Turing's Enigma Problem Part 2) - Computerphile",
 'Connecting Universities - Computerphile',
 'Why Do We Need IP Addresses? - Computerphile',
 'Chip & PIN Fraud Explained - Computerphile',
 'Flip Flops, Latches & Memory Details - Computerphile',
 'The Factory of Ideas: Working at Bell Labs - Computerphile',
 'Raspberry Pi Zero - the $5 Computer - Computerphile',
 'How Bitcoin Works - Computerphile',
 'Unix Pipeline (Brian Kernighan) - Computerphile',
 'UNIX Special: Profs Kernighan & Brailsford - Computerphile',
 'Turing Machine Primer - Computerphile',
 "Why Asimov's Laws of Robotics Don't Work - Computerphile"]


hashtags = []

# Votre code ici


# Le test
assert hashtags == ['elieallouche',
 'michaelbourgatt',
 'seeksanusername',
 'glennhroe',
 'elieallouche',
 'michaelbourgatt',
 'elieallouche',
 'michaelbourgatt',
 'elieallouche',
 'michaelbourgatt',
 'elieallouche',
 'michaelbourgatt',
 'elieallouche',
 'michaelbourgatt',
 'michaelbourgatt',
 'seeksanusername',
 'seeksanusername',
 'glennhroe',
 'seeksanusername',
 'carnetamericas',
 'carnetamericas',
 'seeksanusername',
 'seeksanusername',
 'seeksanusername',
 'seeksanusername']


# B. 3
liste_de_titre_et_de_miniatures = []

# Votre code ici

assert liste_de_titre_et_de_miniatures == [['Zig Zag Decryption - Computerphile',
  ['https://i.ytimg.com/vi/yxx3Bkmv3ck/mqdefault.jpg',
   'https://i.ytimg.com/vi/yxx3Bkmv3ck/hqdefault.jpg',
   'https://i.ytimg.com/vi/yxx3Bkmv3ck/default.jpg',
   'https://i.ytimg.com/vi/yxx3Bkmv3ck/sddefault.jpg',
   'https://i.ytimg.com/vi/yxx3Bkmv3ck/maxresdefault.jpg']],
 ["Fishy Codes: Bletchley's Other Secret - Computerphile",
  ['https://i.ytimg.com/vi/Ou_9ntYRzzw/mqdefault.jpg',
   'https://i.ytimg.com/vi/Ou_9ntYRzzw/hqdefault.jpg',
   'https://i.ytimg.com/vi/Ou_9ntYRzzw/default.jpg',
   'https://i.ytimg.com/vi/Ou_9ntYRzzw/sddefault.jpg',
   'https://i.ytimg.com/vi/Ou_9ntYRzzw/maxresdefault.jpg']],
 ['The Great 202 Jailbreak - Computerphile',
  ['https://i.ytimg.com/vi/CVxeuwlvf8w/mqdefault.jpg',
   'https://i.ytimg.com/vi/CVxeuwlvf8w/hqdefault.jpg',
   'https://i.ytimg.com/vi/CVxeuwlvf8w/default.jpg',
   'https://i.ytimg.com/vi/CVxeuwlvf8w/sddefault.jpg',
   'https://i.ytimg.com/vi/CVxeuwlvf8w/maxresdefault.jpg']],
 ['Why Electronic Voting is a BAD Idea - Computerphile',
  ['https://i.ytimg.com/vi/w3_0x6oaDmI/mqdefault.jpg',
   'https://i.ytimg.com/vi/w3_0x6oaDmI/hqdefault.jpg',
   'https://i.ytimg.com/vi/w3_0x6oaDmI/default.jpg',
   'https://i.ytimg.com/vi/w3_0x6oaDmI/sddefault.jpg',
   'https://i.ytimg.com/vi/w3_0x6oaDmI/maxresdefault.jpg']],
 ['"C" Programming Language: Brian Kernighan - Computerphile',
  ['https://i.ytimg.com/vi/de2Hsvxaf8M/mqdefault.jpg',
   'https://i.ytimg.com/vi/de2Hsvxaf8M/hqdefault.jpg',
   'https://i.ytimg.com/vi/de2Hsvxaf8M/default.jpg',
   'https://i.ytimg.com/vi/de2Hsvxaf8M/sddefault.jpg',
   'https://i.ytimg.com/vi/de2Hsvxaf8M/maxresdefault.jpg']],
 ['Colossus & Bletchley Park - Computerphile',
  ['https://i.ytimg.com/vi/9HH-asvLAj4/mqdefault.jpg',
   'https://i.ytimg.com/vi/9HH-asvLAj4/hqdefault.jpg',
   'https://i.ytimg.com/vi/9HH-asvLAj4/default.jpg',
   'https://i.ytimg.com/vi/9HH-asvLAj4/sddefault.jpg',
   'https://i.ytimg.com/vi/9HH-asvLAj4/maxresdefault.jpg']],
 ['The Most Difficult Program to Compute? - Computerphile',
  ['https://i.ytimg.com/vi/i7sm9dzFtEI/mqdefault.jpg',
   'https://i.ytimg.com/vi/i7sm9dzFtEI/hqdefault.jpg',
   'https://i.ytimg.com/vi/i7sm9dzFtEI/default.jpg',
   'https://i.ytimg.com/vi/i7sm9dzFtEI/sddefault.jpg',
   'https://i.ytimg.com/vi/i7sm9dzFtEI/maxresdefault.jpg']],
 ["Turing's Enigma Problem (Part 1) - Computerphile",
  ['https://i.ytimg.com/vi/d2NWPG2gB_A/mqdefault.jpg',
   'https://i.ytimg.com/vi/d2NWPG2gB_A/hqdefault.jpg',
   'https://i.ytimg.com/vi/d2NWPG2gB_A/default.jpg',
   'https://i.ytimg.com/vi/d2NWPG2gB_A/sddefault.jpg',
   'https://i.ytimg.com/vi/d2NWPG2gB_A/maxresdefault.jpg']],
 ["Tackling Enigma (Turing's Enigma Problem Part 2) - Computerphile",
  ['https://i.ytimg.com/vi/kj_7Jc1mS9k/mqdefault.jpg',
   'https://i.ytimg.com/vi/kj_7Jc1mS9k/hqdefault.jpg',
   'https://i.ytimg.com/vi/kj_7Jc1mS9k/default.jpg',
   'https://i.ytimg.com/vi/kj_7Jc1mS9k/sddefault.jpg',
   'https://i.ytimg.com/vi/kj_7Jc1mS9k/maxresdefault.jpg']],
 ['Connecting Universities - Computerphile',
  ['https://i.ytimg.com/vi/Bq1b4wixxJM/mqdefault.jpg',
   'https://i.ytimg.com/vi/Bq1b4wixxJM/hqdefault.jpg',
   'https://i.ytimg.com/vi/Bq1b4wixxJM/default.jpg',
   'https://i.ytimg.com/vi/Bq1b4wixxJM/sddefault.jpg',
   'https://i.ytimg.com/vi/Bq1b4wixxJM/maxresdefault.jpg']],
 ['Why Do We Need IP Addresses? - Computerphile',
  ['https://i.ytimg.com/vi/iGPXkxeOfdk/mqdefault.jpg',
   'https://i.ytimg.com/vi/iGPXkxeOfdk/hqdefault.jpg',
   'https://i.ytimg.com/vi/iGPXkxeOfdk/default.jpg',
   'https://i.ytimg.com/vi/iGPXkxeOfdk/sddefault.jpg',
   'https://i.ytimg.com/vi/iGPXkxeOfdk/maxresdefault.jpg']],
 ['Chip & PIN Fraud Explained - Computerphile',
  ['https://i.ytimg.com/vi/Ks0SOn8hjG8/mqdefault.jpg',
   'https://i.ytimg.com/vi/Ks0SOn8hjG8/hqdefault.jpg',
   'https://i.ytimg.com/vi/Ks0SOn8hjG8/default.jpg',
   'https://i.ytimg.com/vi/Ks0SOn8hjG8/sddefault.jpg',
   'https://i.ytimg.com/vi/Ks0SOn8hjG8/maxresdefault.jpg']],
 ['Flip Flops, Latches & Memory Details - Computerphile',
  ['https://i.ytimg.com/vi/-Ecf7lb4aZ0/mqdefault.jpg',
   'https://i.ytimg.com/vi/-Ecf7lb4aZ0/hqdefault.jpg',
   'https://i.ytimg.com/vi/-Ecf7lb4aZ0/default.jpg',
   'https://i.ytimg.com/vi/-Ecf7lb4aZ0/sddefault.jpg',
   'https://i.ytimg.com/vi/-Ecf7lb4aZ0/maxresdefault.jpg']],
 ['The Factory of Ideas: Working at Bell Labs - Computerphile',
  ['https://i.ytimg.com/vi/QFK6RG47bww/mqdefault.jpg',
   'https://i.ytimg.com/vi/QFK6RG47bww/hqdefault.jpg',
   'https://i.ytimg.com/vi/QFK6RG47bww/default.jpg',
   'https://i.ytimg.com/vi/QFK6RG47bww/sddefault.jpg',
   'https://i.ytimg.com/vi/QFK6RG47bww/maxresdefault.jpg']],
 ['Raspberry Pi Zero - the $5 Computer - Computerphile',
  ['https://i.ytimg.com/vi/WR0ghM3U0M4/mqdefault.jpg',
   'https://i.ytimg.com/vi/WR0ghM3U0M4/hqdefault.jpg',
   'https://i.ytimg.com/vi/WR0ghM3U0M4/default.jpg',
   'https://i.ytimg.com/vi/WR0ghM3U0M4/sddefault.jpg',
   'https://i.ytimg.com/vi/WR0ghM3U0M4/maxresdefault.jpg']],
 ['How Bitcoin Works - Computerphile',
  ['https://i.ytimg.com/vi/JyxRH18YlpA/mqdefault.jpg',
   'https://i.ytimg.com/vi/JyxRH18YlpA/hqdefault.jpg',
   'https://i.ytimg.com/vi/JyxRH18YlpA/default.jpg',
   'https://i.ytimg.com/vi/JyxRH18YlpA/sddefault.jpg',
   'https://i.ytimg.com/vi/JyxRH18YlpA/maxresdefault.jpg']],
 ['Unix Pipeline (Brian Kernighan) - Computerphile',
  ['https://i.ytimg.com/vi/bKzonnwoR2I/mqdefault.jpg',
   'https://i.ytimg.com/vi/bKzonnwoR2I/hqdefault.jpg',
   'https://i.ytimg.com/vi/bKzonnwoR2I/default.jpg',
   'https://i.ytimg.com/vi/bKzonnwoR2I/sddefault.jpg',
   'https://i.ytimg.com/vi/bKzonnwoR2I/maxresdefault.jpg']],
 ['UNIX Special: Profs Kernighan & Brailsford - Computerphile',
  ['https://i.ytimg.com/vi/vT_J6xc-Az0/mqdefault.jpg',
   'https://i.ytimg.com/vi/vT_J6xc-Az0/hqdefault.jpg',
   'https://i.ytimg.com/vi/vT_J6xc-Az0/default.jpg',
   'https://i.ytimg.com/vi/vT_J6xc-Az0/sddefault.jpg',
   'https://i.ytimg.com/vi/vT_J6xc-Az0/maxresdefault.jpg']],
 ['Turing Machine Primer - Computerphile',
  ['https://i.ytimg.com/vi/DILF8usqp7M/mqdefault.jpg',
   'https://i.ytimg.com/vi/DILF8usqp7M/hqdefault.jpg',
   'https://i.ytimg.com/vi/DILF8usqp7M/default.jpg',
   'https://i.ytimg.com/vi/DILF8usqp7M/sddefault.jpg',
   'https://i.ytimg.com/vi/DILF8usqp7M/maxresdefault.jpg']],
 ["Why Asimov's Laws of Robotics Don't Work - Computerphile",
  ['https://i.ytimg.com/vi/7PKx3kS7f4A/mqdefault.jpg',
   'https://i.ytimg.com/vi/7PKx3kS7f4A/hqdefault.jpg',
   'https://i.ytimg.com/vi/7PKx3kS7f4A/default.jpg',
   'https://i.ytimg.com/vi/7PKx3kS7f4A/sddefault.jpg',
   'https://i.ytimg.com/vi/7PKx3kS7f4A/maxresdefault.jpg']]]
