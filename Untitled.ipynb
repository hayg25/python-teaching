{
 "cells": [
  {
   "cell_type": "code",
   "execution_count": 1,
   "id": "8bcf3ab7-88cf-42a4-a0f7-efd0f101567b",
   "metadata": {
    "tags": []
   },
   "outputs": [],
   "source": [
    "nom = \"doiedlhjlkjdzslkjxlkjs\""
   ]
  },
  {
   "cell_type": "code",
   "execution_count": 3,
   "id": "5d6b79bd-962f-4394-9d6d-7a2b43304290",
   "metadata": {
    "tags": []
   },
   "outputs": [
    {
     "name": "stdout",
     "output_type": "stream",
     "text": [
      "1 d\n",
      "2 o\n",
      "3 i\n",
      "4 e\n",
      "5 d\n",
      "6 l\n",
      "7 h\n",
      "8 j\n",
      "9 l\n",
      "10 k\n",
      "11 j\n",
      "12 d\n",
      "13 z\n",
      "14 s\n",
      "15 l\n",
      "16 k\n",
      "17 j\n",
      "18 x\n",
      "19 l\n",
      "20 k\n",
      "21 j\n",
      "22 s\n"
     ]
    }
   ],
   "source": [
    "i = 0\n",
    "for lettre in nom:\n",
    "    i+=1\n",
    "    print(i,lettre)"
   ]
  },
  {
   "cell_type": "code",
   "execution_count": 4,
   "id": "b425360f-cec1-4793-9a95-aee7e14aea6a",
   "metadata": {
    "tags": []
   },
   "outputs": [
    {
     "name": "stdout",
     "output_type": "stream",
     "text": [
      "0 d\n",
      "1 o\n",
      "2 i\n",
      "3 e\n",
      "4 d\n",
      "5 l\n",
      "6 h\n"
     ]
    }
   ],
   "source": [
    "for i in range(7):\n",
    "    print(i, nom[i])"
   ]
  },
  {
   "cell_type": "code",
   "execution_count": 5,
   "id": "5d264a3a-98d2-4490-ab85-531c66e59cb1",
   "metadata": {
    "tags": []
   },
   "outputs": [
    {
     "name": "stdout",
     "output_type": "stream",
     "text": [
      "0 d\n",
      "1 o\n",
      "2 i\n",
      "3 e\n",
      "4 d\n",
      "5 l\n",
      "6 h\n",
      "7 j\n",
      "8 l\n",
      "9 k\n",
      "10 j\n",
      "11 d\n",
      "12 z\n",
      "13 s\n",
      "14 l\n",
      "15 k\n",
      "16 j\n",
      "17 x\n",
      "18 l\n",
      "19 k\n",
      "20 j\n",
      "21 s\n"
     ]
    }
   ],
   "source": [
    "for i, j in enumerate(nom):\n",
    "    print(i,j)"
   ]
  },
  {
   "cell_type": "code",
   "execution_count": 6,
   "id": "09ed656e-26a1-4eb6-a52d-f16ac9857b77",
   "metadata": {
    "tags": []
   },
   "outputs": [
    {
     "name": "stdout",
     "output_type": "stream",
     "text": [
      "-yes\n"
     ]
    }
   ],
   "source": [
    "voyelles = \"aeiouy\"\n",
    "if \"a\" in voyelles:\n",
    "    print(\"-yes\")"
   ]
  },
  {
   "cell_type": "code",
   "execution_count": 10,
   "id": "0ca7006d-bc53-40fd-8f1f-c45abb5bcbea",
   "metadata": {
    "tags": []
   },
   "outputs": [
    {
     "name": "stdout",
     "output_type": "stream",
     "text": [
      "0 i\n",
      "1 u\n",
      "5 i\n",
      "9 o\n",
      "10 i\n",
      "12 o\n"
     ]
    }
   ],
   "source": [
    "mot = \"iusghizhzoisozklmk\"\n",
    "for ind, lettre in enumerate(mot):\n",
    "    if lettre in voyelles:\n",
    "        print(ind,lettre)"
   ]
  },
  {
   "cell_type": "code",
   "execution_count": 11,
   "id": "67497a03-d372-4423-a6c3-8c01c3c04fda",
   "metadata": {
    "tags": []
   },
   "outputs": [
    {
     "data": {
      "text/plain": [
       "\"l'eau\""
      ]
     },
     "execution_count": 11,
     "metadata": {},
     "output_type": "execute_result"
    }
   ],
   "source": [
    "aa = \"l'eau\"\n",
    "aa"
   ]
  },
  {
   "cell_type": "code",
   "execution_count": 12,
   "id": "312d6f74-16c0-4466-a4a8-703636ab81be",
   "metadata": {
    "tags": []
   },
   "outputs": [
    {
     "ename": "SyntaxError",
     "evalue": "unterminated string literal (detected at line 1) (52531773.py, line 1)",
     "output_type": "error",
     "traceback": [
      "\u001b[0;36m  Cell \u001b[0;32mIn[12], line 1\u001b[0;36m\u001b[0m\n\u001b[0;31m    aa = 'l'eau'\u001b[0m\n\u001b[0m               ^\u001b[0m\n\u001b[0;31mSyntaxError\u001b[0m\u001b[0;31m:\u001b[0m unterminated string literal (detected at line 1)\n"
     ]
    }
   ],
   "source": [
    "aa = 'l'eau'\n",
    "aa"
   ]
  },
  {
   "cell_type": "code",
   "execution_count": 14,
   "id": "f061871e-a99b-405a-8736-f47465382f74",
   "metadata": {
    "tags": []
   },
   "outputs": [
    {
     "name": "stdout",
     "output_type": "stream",
     "text": [
      "____ 0\n",
      "nnnnn  0\n",
      "nnnnn  1\n",
      "nnnnn  2\n",
      "nnnnn  3\n",
      "nnnnn  4\n",
      "nnnnn  5\n",
      "nnnnn  6\n",
      "nnnnn  7\n",
      "nnnnn  8\n",
      "nnnnn  9\n",
      "nnnnn  10\n",
      "nnnnn  11\n",
      "nnnnn  12\n",
      "nnnnn  13\n",
      "nnnnn  14\n",
      "nnnnn  15\n",
      "nnnnn  16\n",
      "nnnnn  17\n",
      "nnnnn  18\n",
      "nnnnn  19\n",
      "____ 1\n",
      "nnnnn  0\n",
      "nnnnn  1\n",
      "nnnnn  2\n",
      "nnnnn  3\n",
      "nnnnn  4\n",
      "nnnnn  5\n",
      "nnnnn  6\n",
      "nnnnn  7\n",
      "nnnnn  8\n",
      "nnnnn  9\n",
      "nnnnn  10\n",
      "nnnnn  11\n",
      "nnnnn  12\n",
      "nnnnn  13\n",
      "nnnnn  14\n",
      "nnnnn  15\n",
      "nnnnn  16\n",
      "nnnnn  17\n",
      "nnnnn  18\n",
      "nnnnn  19\n",
      "____ 2\n",
      "nnnnn  0\n",
      "nnnnn  1\n",
      "nnnnn  2\n",
      "nnnnn  3\n",
      "nnnnn  4\n",
      "nnnnn  5\n",
      "nnnnn  6\n",
      "nnnnn  7\n",
      "nnnnn  8\n",
      "nnnnn  9\n",
      "nnnnn  10\n",
      "nnnnn  11\n",
      "nnnnn  12\n",
      "nnnnn  13\n",
      "nnnnn  14\n",
      "nnnnn  15\n",
      "nnnnn  16\n",
      "nnnnn  17\n",
      "nnnnn  18\n",
      "nnnnn  19\n",
      "____ 3\n",
      "nnnnn  0\n",
      "nnnnn  1\n",
      "nnnnn  2\n",
      "nnnnn  3\n",
      "nnnnn  4\n",
      "nnnnn  5\n",
      "nnnnn  6\n",
      "nnnnn  7\n",
      "nnnnn  8\n",
      "nnnnn  9\n",
      "nnnnn  10\n",
      "nnnnn  11\n",
      "nnnnn  12\n",
      "nnnnn  13\n",
      "nnnnn  14\n",
      "nnnnn  15\n",
      "nnnnn  16\n",
      "nnnnn  17\n",
      "nnnnn  18\n",
      "nnnnn  19\n",
      "____ 4\n",
      "nnnnn  0\n",
      "nnnnn  1\n",
      "nnnnn  2\n",
      "nnnnn  3\n",
      "nnnnn  4\n",
      "nnnnn  5\n",
      "nnnnn  6\n",
      "nnnnn  7\n",
      "nnnnn  8\n",
      "nnnnn  9\n",
      "nnnnn  10\n",
      "nnnnn  11\n",
      "nnnnn  12\n",
      "nnnnn  13\n",
      "nnnnn  14\n",
      "nnnnn  15\n",
      "nnnnn  16\n",
      "nnnnn  17\n",
      "nnnnn  18\n",
      "nnnnn  19\n",
      "____ 5\n",
      "nnnnn  0\n",
      "nnnnn  1\n",
      "nnnnn  2\n",
      "nnnnn  3\n",
      "nnnnn  4\n",
      "nnnnn  5\n",
      "nnnnn  6\n",
      "nnnnn  7\n",
      "nnnnn  8\n",
      "nnnnn  9\n",
      "nnnnn  10\n",
      "nnnnn  11\n",
      "nnnnn  12\n",
      "nnnnn  13\n",
      "nnnnn  14\n",
      "nnnnn  15\n",
      "nnnnn  16\n",
      "nnnnn  17\n",
      "nnnnn  18\n",
      "nnnnn  19\n",
      "____ 6\n",
      "nnnnn  0\n",
      "nnnnn  1\n",
      "nnnnn  2\n",
      "nnnnn  3\n",
      "nnnnn  4\n",
      "nnnnn  5\n",
      "nnnnn  6\n",
      "nnnnn  7\n",
      "nnnnn  8\n",
      "nnnnn  9\n",
      "nnnnn  10\n",
      "nnnnn  11\n",
      "nnnnn  12\n",
      "nnnnn  13\n",
      "nnnnn  14\n",
      "nnnnn  15\n",
      "nnnnn  16\n",
      "nnnnn  17\n",
      "nnnnn  18\n",
      "nnnnn  19\n",
      "____ 7\n",
      "nnnnn  0\n",
      "nnnnn  1\n",
      "nnnnn  2\n",
      "nnnnn  3\n",
      "nnnnn  4\n",
      "nnnnn  5\n",
      "nnnnn  6\n",
      "nnnnn  7\n",
      "nnnnn  8\n",
      "nnnnn  9\n",
      "nnnnn  10\n",
      "nnnnn  11\n",
      "nnnnn  12\n",
      "nnnnn  13\n",
      "nnnnn  14\n",
      "nnnnn  15\n",
      "nnnnn  16\n",
      "nnnnn  17\n",
      "nnnnn  18\n",
      "nnnnn  19\n",
      "____ 8\n",
      "nnnnn  0\n",
      "nnnnn  1\n",
      "nnnnn  2\n",
      "nnnnn  3\n",
      "nnnnn  4\n",
      "nnnnn  5\n",
      "nnnnn  6\n",
      "nnnnn  7\n",
      "nnnnn  8\n",
      "nnnnn  9\n",
      "nnnnn  10\n",
      "nnnnn  11\n",
      "nnnnn  12\n",
      "nnnnn  13\n",
      "nnnnn  14\n",
      "nnnnn  15\n",
      "nnnnn  16\n",
      "nnnnn  17\n",
      "nnnnn  18\n",
      "nnnnn  19\n",
      "____ 9\n",
      "nnnnn  0\n",
      "nnnnn  1\n",
      "nnnnn  2\n",
      "nnnnn  3\n",
      "nnnnn  4\n",
      "nnnnn  5\n",
      "nnnnn  6\n",
      "nnnnn  7\n",
      "nnnnn  8\n",
      "nnnnn  9\n",
      "nnnnn  10\n",
      "nnnnn  11\n",
      "nnnnn  12\n",
      "nnnnn  13\n",
      "nnnnn  14\n",
      "nnnnn  15\n",
      "nnnnn  16\n",
      "nnnnn  17\n",
      "nnnnn  18\n",
      "nnnnn  19\n"
     ]
    }
   ],
   "source": [
    "for i in range(10):\n",
    "    print('____', i)\n",
    "    for j in range (20):\n",
    "        print(\"nnnnn \", j)"
   ]
  },
  {
   "cell_type": "code",
   "execution_count": 21,
   "id": "1bd7ebaa-7cc7-4ffb-a431-616f6f3ca385",
   "metadata": {
    "tags": []
   },
   "outputs": [
    {
     "name": "stdin",
     "output_type": "stream",
     "text": [
      "donnez votre age \n"
     ]
    },
    {
     "data": {
      "text/plain": [
       "''"
      ]
     },
     "execution_count": 21,
     "metadata": {},
     "output_type": "execute_result"
    }
   ],
   "source": [
    "a = (input('donnez votre age'))\n",
    "a"
   ]
  },
  {
   "cell_type": "code",
   "execution_count": 22,
   "id": "df968ce1-656b-4978-a6e5-71d9f26286be",
   "metadata": {
    "tags": []
   },
   "outputs": [],
   "source": [
    "a = \"toto\""
   ]
  },
  {
   "cell_type": "code",
   "execution_count": 24,
   "id": "af7247e5-6094-44d1-8bef-931ce70fdbf2",
   "metadata": {
    "tags": []
   },
   "outputs": [],
   "source": [
    "import numpy as np"
   ]
  },
  {
   "cell_type": "code",
   "execution_count": null,
   "id": "95608fc2-4bcf-4d8c-a06b-17bda9df449c",
   "metadata": {},
   "outputs": [],
   "source": [
    "np."
   ]
  }
 ],
 "metadata": {
  "kernelspec": {
   "display_name": "Python 3 (ipykernel)",
   "language": "python",
   "name": "python3"
  },
  "language_info": {
   "codemirror_mode": {
    "name": "ipython",
    "version": 3
   },
   "file_extension": ".py",
   "mimetype": "text/x-python",
   "name": "python",
   "nbconvert_exporter": "python",
   "pygments_lexer": "ipython3",
   "version": "3.11.3"
  }
 },
 "nbformat": 4,
 "nbformat_minor": 5
}
