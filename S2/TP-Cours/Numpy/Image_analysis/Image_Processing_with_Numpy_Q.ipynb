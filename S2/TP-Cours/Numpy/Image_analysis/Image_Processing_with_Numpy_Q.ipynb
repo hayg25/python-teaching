{
  "cells": [
    {
      "cell_type": "markdown",
      "metadata": {
        "id": "bBZfTkmGogBa"
      },
      "source": [
        "# Import Image"
      ]
    },
    {
      "cell_type": "code",
      "execution_count": 4,
      "metadata": {
        "colab": {
          "base_uri": "https://localhost:8080/",
          "height": 1000
        },
        "id": "s7e8E28EqMc2",
        "outputId": "3da3ea12-f4a9-4a20-9d82-f14f5f312fda"
      },
      "outputs": [],
      "source": [
        "import numpy as np\n",
        "\n",
        "#Use PIL to access image data\n",
        "from PIL import Image\n",
        "\n",
        "# chemin du fichier jpg ou autre\n",
        "img = Image.open('Images/monalisa.jpg')\n",
        "\n",
        "#Create array from image data\n",
        "M = np.array(img)\n",
        "\n",
        "#Display array from image data\n",
        "#display(Image.fromarray(M))"
      ]
    },
    {
      "cell_type": "markdown",
      "metadata": {},
      "source": [
        "# Afficher les characteristiques de la matrice\n",
        "- afficher les différentes images (couleur = derniere colonne)\n",
        "- essayer de n'afficher que la tete, que les mains ? \n",
        "- creer une fonction pour afficher une partie, arguments = min, max pour les dimentions de l'image pour faire un crop (couper un rectangle dans l'image)\n",
        "- crop_image(image, crop_ratio, zoom_ratio)\n"
      ]
    },
    {
      "cell_type": "markdown",
      "metadata": {},
      "source": []
    },
    {
      "cell_type": "code",
      "execution_count": 3,
      "metadata": {},
      "outputs": [],
      "source": [
        "import matplotlib.pyplot as plt\n",
        "# plt.show(image)"
      ]
    },
    {
      "cell_type": "markdown",
      "metadata": {
        "id": "VmpxoIK2FV3y"
      },
      "source": [
        "# Reduire l'Image en terme de resolution \n",
        "- si c'est une image m x n on la réduit d'un facteur k \n",
        "- pour réduire un cree une matrice vide (zeros) à la taille qui va bien (celle réduite du facteur k)\n",
        "- on boucle (x et y) sur la nouvelle matrice et pour chaque position on remplit l'image initiale (new_image(i, j) -> old_image(k*i, k*j)) \n",
        "- et on l'affiche"
      ]
    },
    {
      "cell_type": "markdown",
      "metadata": {
        "id": "jXzKa_CZqTWz"
      },
      "source": [
        "# Flip Image\n",
        "- on veut la retourner sur une des direction (haut bas par exemple)\n",
        "- retourner veut dire inverser l'ordre (sans faire de boucle :) )\n",
        "- appeler la fonction flip_image"
      ]
    },
    {
      "cell_type": "markdown",
      "metadata": {
        "id": "36nK5UpTqVt3"
      },
      "source": [
        "# Rotate Image\n",
        "- rotate image using rot90, use n to determine number of rotation"
      ]
    },
    {
      "cell_type": "markdown",
      "metadata": {
        "id": "FvCqUjrArMSz"
      },
      "source": [
        "# Pixeliser une image \n",
        "- Block de taille donnee \n",
        "- remplire avec la moyenne \n",
        "- ex : block = image[i:i+block_size, j:j+block_size] \n",
        "- avec 2 boucles sur les tailles de l'image (i, j)  : range peut avoir 3 parametres !"
      ]
    },
    {
      "cell_type": "markdown",
      "metadata": {},
      "source": []
    }
  ],
  "metadata": {
    "colab": {
      "provenance": []
    },
    "kernelspec": {
      "display_name": "Python 3",
      "name": "python3"
    },
    "language_info": {
      "codemirror_mode": {
        "name": "ipython",
        "version": 3
      },
      "file_extension": ".py",
      "mimetype": "text/x-python",
      "name": "python",
      "nbconvert_exporter": "python",
      "pygments_lexer": "ipython3",
      "version": "3.11.11"
    }
  },
  "nbformat": 4,
  "nbformat_minor": 0
}
