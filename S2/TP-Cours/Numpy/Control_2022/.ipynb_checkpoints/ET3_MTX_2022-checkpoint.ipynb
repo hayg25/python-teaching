{
 "cells": [
  {
   "cell_type": "markdown",
   "metadata": {},
   "source": [
    "# ET3-MTX Contrôle Numpy 2022  \n",
    "\n",
    "Renommer le fichier en : ET3_MTX_2022_Nom_Prenom.ipynb"
   ]
  },
  {
   "cell_type": "markdown",
   "metadata": {},
   "source": [
    "---"
   ]
  },
  {
   "cell_type": "markdown",
   "metadata": {},
   "source": [
    "### 1. Quel est l’avantage des listes NumPy par rapport aux listes Python classiques ?\n",
    "- En terme de vitesse d'execution\n",
    "- Pour faire des calculs via des fonctions (sin, cos, etc)\n",
    "    - donner un exemple"
   ]
  },
  {
   "cell_type": "markdown",
   "metadata": {},
   "source": [
    "### 2. Prendre 2 listes de taille 10, en faire la somme, le produit - Idem avec des Numpy array (construits à partir des 2 mêmes listes) \n",
    "- Que conclure sur Numpy array comparé aux listes ?"
   ]
  },
  {
   "cell_type": "markdown",
   "metadata": {},
   "source": [
    "### 3. Création/manipulation de tableaux"
   ]
  },
  {
   "cell_type": "markdown",
   "metadata": {},
   "source": [
    "- Créer un vecteur contenant les nombres entiers de 0 à 29 puis n’afficher que les valeurs paires de ce vecteur.\n",
    "Remplacer ensuite ces valeurs paires par -1."
   ]
  },
  {
   "cell_type": "markdown",
   "metadata": {},
   "source": [
    "- Créer un vecteur de 20 valeurs flottantes réparties uniformément entre 1 et 50. À l’aide de la fonction where de numpy, remplacer les valeurs inférieures à 10 par 10 et celle supérieure à 30 par 30.\n",
    "    - help -> voir numpy.random.uniform"
   ]
  },
  {
   "cell_type": "markdown",
   "metadata": {},
   "source": [
    "- Créer les matrices suivantes en respectant le type et en 3 opérations maximum\n",
    "\n",
    "![alt text](Matrices_1.png \"Matrices\")"
   ]
  },
  {
   "cell_type": "markdown",
   "metadata": {},
   "source": [
    "### 4. Créer la matrice suivante : \n",
    "\n",
    "\\begin{equation}\n",
    "\\begin{pmatrix}\n",
    "1 &   2&   5&  10&  17 \\\\\n",
    "26 &   37&   50&  65&  82 \\\\\n",
    "101 &   122&   145&  170&  197 \\\\\n",
    "226 &   257&   290&  325&  362 \\\\\n",
    "401 &   442&   485&  530&  577 \\\\\n",
    "\\end{pmatrix}\n",
    "\\end{equation}\n",
    "\n",
    "en une seule commande"
   ]
  },
  {
   "cell_type": "markdown",
   "metadata": {},
   "source": [
    "### 5. Créer une matrice carrée entre 0 et 10x10\n",
    "- Extraire tous les nombres impairs \n",
    "- Extraires les multiples de 3\n",
    "- Extraire les élements supérieurs à 54\n",
    "- Extraire les éléments impairs, inférieurs à 40"
   ]
  },
  {
   "cell_type": "markdown",
   "metadata": {},
   "source": [
    "### 6. Créer une matrice carrée entre de taille 100\n",
    "- comprenant des nombres aléatoires entre 10 et 100\n",
    "- Remplacez les éléments < 50 par 50 \n",
    "- Remplacez les éléments > 50 par leur valeur multipliée par 3"
   ]
  },
  {
   "cell_type": "markdown",
   "metadata": {},
   "source": [
    "###  7. Creer un array de taille 10: \n",
    "- Avec que des zeros\n",
    "- Avec que des 1 flottants \n",
    "- Avec que des 1 entiers \n",
    "- Espacés linéairement entre 20 et 100. "
   ]
  },
  {
   "cell_type": "markdown",
   "metadata": {},
   "source": [
    "### 8. Créer un array en utilisant :  np.arange(-24, 24).reshape(8, 6) ** 2\n",
    "- Donnez le maximum pour chaque ligne \n",
    "- Donnez la moyenne pour chaque Colonne \n",
    "- La position du minimum pour chaque ligne\n",
    "- Rendre la matrice plate (1 ligne)"
   ]
  },
  {
   "cell_type": "markdown",
   "metadata": {},
   "source": [
    "### 9. Echiquier et Crible d’Erathosthene\n",
    "- Créer une matrice échiquier (des 1 et des 0 alternés) de taille 8x8, de deux façons différentes\n",
    "    - en vous servant de slices\n",
    "    - en vous servant de la fonction tile (https://numpy.org/doc/stable/reference/generated/numpy.tile.html#numpy.tile)"
   ]
  },
  {
   "cell_type": "markdown",
   "metadata": {},
   "source": [
    "### 10.Créer un ndarray de forme  [12, 8, 4] avec des nombres aléatoires compris entre 10 et 20. \n",
    "- Est-il possible de crér un ndarray de dimention 24x?\n",
    "- Créer le et remplacer les éléments < 15 par 10 et les éléments >15 par 20\n",
    "- Redonner à la nouvelle matrice la forme (shape) initiale. "
   ]
  },
  {
   "cell_type": "markdown",
   "metadata": {},
   "source": [
    "# FIN\n",
    "\n",
    "-  Renommer le fichier en ET3_MTX_2022_Nom_Prenom.ipynb\n",
    "-  Me l'envoyer par email"
   ]
  }
 ],
 "metadata": {
  "kernelspec": {
   "display_name": "Python 3",
   "language": "python",
   "name": "python3"
  },
  "language_info": {
   "codemirror_mode": {
    "name": "ipython",
    "version": 3
   },
   "file_extension": ".py",
   "mimetype": "text/x-python",
   "name": "python",
   "nbconvert_exporter": "python",
   "pygments_lexer": "ipython3",
   "version": "3.7.9"
  }
 },
 "nbformat": 4,
 "nbformat_minor": 4
}
