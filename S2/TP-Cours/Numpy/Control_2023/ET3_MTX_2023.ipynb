{
 "cells": [
  {
   "cell_type": "markdown",
   "metadata": {},
   "source": [
    "# ET3-MTX Contrôle Numpy 2023\n",
    "\n",
    "Renommer le fichier en : ET3_MTX_2023_Nom_Prenom.ipynb"
   ]
  },
  {
   "cell_type": "markdown",
   "metadata": {},
   "source": [
    "---"
   ]
  },
  {
   "cell_type": "markdown",
   "metadata": {},
   "source": [
    "### 1. Comparer le temps d'execution d'un calcul avec Numpy ou avec des Listes?\n",
    "- temps d'execution avec la librairie time (from time import time)\n",
    "- Données : nombre aléatoire 1000000 valeurs \n",
    "- Calcul de moyenne. \n",
    "- Conclusion ? "
   ]
  },
  {
   "cell_type": "markdown",
   "metadata": {},
   "source": [
    "### 2. remplire des tableaux de taille 5x5 contenant : \n",
    "- des entiers pris aléatoirement entre 0 et 100\n",
    "- La même chose mais des valeurs réelles\n",
    "- La même chose mais des chaines de charactère "
   ]
  },
  {
   "cell_type": "markdown",
   "metadata": {},
   "source": [
    "### 3. Création et manipulation de tableau"
   ]
  },
  {
   "cell_type": "markdown",
   "metadata": {},
   "source": [
    "- Créez un tableau de grande taille : 100x100 contenant des nombres aléatoires compris entre 0 et 256\n",
    "- utilisez un filtre simple : matrice 2x2 que baladez sur la premiere matrice, en prenant la moyenne des 4 valeurs à chaque fois\n",
    "- vous allez ainsi construire une matrice plus petite contenant les moyennnes calculées dans la taille du filtre \n",
    "- idem : vous ne prenez pas la valeur moyenne, mais le max des 4 valeurs \n",
    "- enfin vous refaites la même chose avec un filtre de taille 3x3"
   ]
  },
  {
   "cell_type": "markdown",
   "metadata": {},
   "source": [
    "### 4. Créer une fonction qui prend en entrée une matrice de taille 20x20 ainsi qu'un entier >1 :\n",
    "- la matrice contient des entiers entre 0 et 30\n",
    "- la fonction renvoie le nombre de fois que l'entier est présent dans la matrice\n",
    "- ainsi que ses coordonnées sous la forme de la même matrice mais remplie de 1 à l'endroit ou se trouve l'entier et 0 ailleurs. "
   ]
  },
  {
   "cell_type": "markdown",
   "metadata": {},
   "source": [
    "### 5. Créer une matrice carrée entre 0 et 10x10\n",
    "- La matrice est crée avec des entiers pris aléatoirement entre 0 et 20\n",
    "- Extraire la liste des valeurs uniques, avec leur multiplicité  "
   ]
  },
  {
   "cell_type": "markdown",
   "metadata": {},
   "source": [
    "### 6. Créer une matrice carrée entre de taille 100\n",
    "- comprenant des nombres aléatoires entre 10 et 100\n",
    "- Remplacez les éléments < 50 par 50 \n",
    "- Remplacez les éléments > 50 par leur valeur multipliée par 3"
   ]
  },
  {
   "cell_type": "markdown",
   "metadata": {},
   "source": [
    "###  7. Creer un array de taille 100: \n",
    "- Contenant des nombres aléatoires compris entre 0 et 200\n",
    "- Triez les \n",
    "- les mettre dans un tableau de taille 10x10\n",
    "- les transformer en entiers\n",
    "- remplacer les valeurs >110 par 150\n",
    "- remplacer les valeurs <90 par 50\n",
    "- Comptez les elements de chaque catégorie"
   ]
  },
  {
   "cell_type": "markdown",
   "metadata": {},
   "source": [
    "### 8. Créer un matrice de taille 20x20\n",
    "- Donnez aux 4 elements centraux la valeur 1 (1 ligne)\n",
    "- Donnez aux elements entourant ce carré la valeur 2 (1 rangée formant un carré) \n",
    "- Donnez aux elements entourant ce second carré la valeur 3 (1 rangée formant un carré) \n",
    "- Et ce jusqu'à la couche externe \n",
    "- Bonus : essayer de le refaire via une boucle"
   ]
  },
  {
   "cell_type": "markdown",
   "metadata": {},
   "source": [
    "### 9. Créer un matrice de taille 20x20 avec des valeurs réelles comprises entre 0 et 30\n",
    "- calculez la moyenne sur toues les lignes impaires et mettez le resultat dans un vecteur de taille 10 \n",
    "- calculez la moyenne sur toues les colonnes paires et mettez le resultat dans un vecteur de taille 10\n",
    "- calculez le produit scalaire des 2 vecteurs \n",
    "- remplacez pour toutes les lignes paires : toutes les valeurs >15 par 20\n",
    "- remplacez pour toutes les lignes impaires : toutes les valeurs <15 par 10\n",
    "- creez une matrice de taille 4x10x10 "
   ]
  },
  {
   "cell_type": "markdown",
   "metadata": {},
   "source": [
    "### 10.Créer un ndarray de forme  [8, 8, 4] avec des nombres aléatoires compris entre 10 et 20. \n",
    "- Est-il possible de crér un ndarray de dimention 32x?\n",
    "- Ensuite en faire un vecteur (1 dim) -> X\n",
    "- Creer un 2e vecteur de même taille contenant la suite des entiers allant de 1 jusqu'à la taille du vecteur -> Y\n",
    "- utiliser matplotlib pour faire le plot de X vs Y \n",
    "    - pour cela import matplotlib.pyplot as plt\n",
    "    - puis : plt.plot(....) voir la doc "
   ]
  },
  {
   "cell_type": "markdown",
   "metadata": {},
   "source": [
    "# FIN\n",
    "\n",
    "-  Renommer le fichier en ET3_MTX_2023_Nom_Prenom.ipynb\n",
    "-  Me l'envoyer par email"
   ]
  }
 ],
 "metadata": {
  "kernelspec": {
   "display_name": "Python 3",
   "language": "python",
   "name": "python3"
  },
  "language_info": {
   "codemirror_mode": {
    "name": "ipython",
    "version": 3
   },
   "file_extension": ".py",
   "mimetype": "text/x-python",
   "name": "python",
   "nbconvert_exporter": "python",
   "pygments_lexer": "ipython3",
   "version": "3.8.5"
  }
 },
 "nbformat": 4,
 "nbformat_minor": 4
}
