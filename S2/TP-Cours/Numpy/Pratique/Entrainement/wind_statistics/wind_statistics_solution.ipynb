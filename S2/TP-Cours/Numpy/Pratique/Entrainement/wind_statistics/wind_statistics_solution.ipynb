{
 "cells": [
  {
   "cell_type": "markdown",
   "metadata": {},
   "source": [
    "# Wind Statistics\n",
    "\n",
    "Topics: Using array methods over different axes, fancy indexing.\n",
    "\n",
    "1. The data in 'wind.data' has the following format:\n",
    "\n",
    "```\n",
    "61  1  1 15.04 14.96 13.17  9.29 13.96  9.87 13.67 10.25 10.83 12.58 18.50 15.04\n",
    "61  1  2 14.71 16.88 10.83  6.50 12.62  7.67 11.50 10.04  9.79  9.67 17.54 13.83\n",
    "61  1  3 18.50 16.88 12.33 10.13 11.17  6.17 11.25  8.04  8.50  7.67 12.75 12.71\n",
    "```\n",
    "\n",
    "The first three columns are year, month and day.  The\n",
    "remaining 12 columns are average windspeeds in knots at 12\n",
    "locations in Ireland on that day. \n",
    "\n",
    "You should be able to solve questions 2–7 without using a for loop or other looping construct.\n",
    "\n",
    "Start by using the 'loadtxt' function from numpy to read the data into an array. "
   ]
  },
  {
   "cell_type": "code",
   "execution_count": 1,
   "metadata": {},
   "outputs": [],
   "source": [
    "from numpy import (loadtxt, arange, searchsorted, add, zeros, unravel_index,\n",
    "                   where)\n",
    "\n",
    "wind_data = loadtxt('wind.data')\n",
    "\n",
    "data = wind_data[:, 3:]"
   ]
  },
  {
   "cell_type": "code",
   "execution_count": 6,
   "metadata": {},
   "outputs": [],
   "source": [
    "import matplotlib.pyplot as plt"
   ]
  },
  {
   "cell_type": "code",
   "execution_count": 11,
   "metadata": {},
   "outputs": [
    {
     "data": {
      "application/vnd.jupyter.widget-view+json": {
       "model_id": "578fd49d20224c6ca49313b6926f53fb",
       "version_major": 2,
       "version_minor": 0
      },
      "text/plain": [
       "Canvas(toolbar=Toolbar(toolitems=[('Home', 'Reset original view', 'home', 'home'), ('Back', 'Back to previous …"
      ]
     },
     "metadata": {},
     "output_type": "display_data"
    },
    {
     "data": {
      "text/plain": [
       "[<matplotlib.lines.Line2D at 0x112f2a130>,\n",
       " <matplotlib.lines.Line2D at 0x112f2a160>,\n",
       " <matplotlib.lines.Line2D at 0x112f2a280>,\n",
       " <matplotlib.lines.Line2D at 0x112f2a3a0>,\n",
       " <matplotlib.lines.Line2D at 0x112f2a4c0>,\n",
       " <matplotlib.lines.Line2D at 0x112f2a5e0>,\n",
       " <matplotlib.lines.Line2D at 0x112f2a700>,\n",
       " <matplotlib.lines.Line2D at 0x112f2a820>,\n",
       " <matplotlib.lines.Line2D at 0x112f2a940>,\n",
       " <matplotlib.lines.Line2D at 0x112f2aa60>,\n",
       " <matplotlib.lines.Line2D at 0x112eed8e0>,\n",
       " <matplotlib.lines.Line2D at 0x112f2ab80>]"
      ]
     },
     "execution_count": 11,
     "metadata": {},
     "output_type": "execute_result"
    }
   ],
   "source": [
    "%matplotlib widget\n",
    "plt.plot(data[:400])"
   ]
  },
  {
   "cell_type": "markdown",
   "metadata": {},
   "source": [
    "2. Calculate the min, max and mean windspeeds and standard deviation of the\n",
    "   windspeeds over all the locations and all the times (a single set of numbers\n",
    "   for the entire dataset)."
   ]
  },
  {
   "cell_type": "code",
   "execution_count": 2,
   "metadata": {},
   "outputs": [
    {
     "name": "stdout",
     "output_type": "stream",
     "text": [
      "2. Statistics over all values\n",
      "  min: 0.0\n",
      "  max: 42.54\n",
      "  mean: 10.22837377040868\n",
      "  standard deviation: 5.603840181095793\n"
     ]
    }
   ],
   "source": [
    "print('2. Statistics over all values')\n",
    "print('  min:', data.min())\n",
    "print('  max:', data.max())\n",
    "print('  mean:', data.mean())\n",
    "print('  standard deviation:', data.std())"
   ]
  },
  {
   "cell_type": "markdown",
   "metadata": {},
   "source": [
    "3. Calculate the min, max and mean windspeeds and standard deviations of the\n",
    "   windspeeds at each location over all the days (a different set of numbers\n",
    "   for each location)"
   ]
  },
  {
   "cell_type": "code",
   "execution_count": 3,
   "metadata": {},
   "outputs": [
    {
     "name": "stdout",
     "output_type": "stream",
     "text": [
      "3. Statistics over all days at each location\n",
      "  min: [0.67 0.21 1.5  0.   0.13 0.   0.   0.   0.   0.04 0.13 0.67]\n",
      "  max: [35.8  33.37 33.84 28.46 37.54 26.16 30.37 31.08 25.88 28.21 42.38 42.54]\n",
      "  mean: [12.36371463 10.64644813 11.66010344  6.30627472 10.45688013  7.09225434\n",
      "  9.7968345   8.49442044  8.49581838  8.70726803 13.121007   15.59946152]\n",
      "  standard deviation: [5.61918301 5.26820081 5.00738377 3.60513309 4.93536333 3.96838126\n",
      " 4.97689374 4.49865783 4.16746101 4.50327222 5.83459319 6.69734719]\n"
     ]
    }
   ],
   "source": [
    "print('3. Statistics over all days at each location')\n",
    "print('  min:', data.min(axis=0))\n",
    "print('  max:', data.max(axis=0))\n",
    "print('  mean:', data.mean(axis=0))\n",
    "print('  standard deviation:', data.std(axis=0))"
   ]
  },
  {
   "cell_type": "markdown",
   "metadata": {},
   "source": [
    "4. Calculate the min, max and mean windspeed and standard deviations of the\n",
    "   windspeeds across all the locations at each day (a different set of numbers\n",
    "   for each day)"
   ]
  },
  {
   "cell_type": "code",
   "execution_count": null,
   "metadata": {},
   "outputs": [],
   "source": [
    "print('4. Statistics over all locations for each day')\n",
    "print('  min:', data.min(axis=1))\n",
    "print('  max:', data.max(axis=1))\n",
    "print('  mean:', data.mean(axis=1))\n",
    "print('  standard deviation:', data.std(axis=1))"
   ]
  },
  {
   "cell_type": "markdown",
   "metadata": {},
   "source": [
    "5. Find the location which has the greatest windspeed on each day (an integer\n",
    "   column number for each day)."
   ]
  },
  {
   "cell_type": "code",
   "execution_count": null,
   "metadata": {},
   "outputs": [],
   "source": [
    "print('5. Location of daily maximum')\n",
    "print('  daily max location:', data.argmax(axis=1))"
   ]
  },
  {
   "cell_type": "markdown",
   "metadata": {},
   "source": [
    "6. Find the year, month and day on which the greatest windspeed was recorded."
   ]
  },
  {
   "cell_type": "code",
   "execution_count": null,
   "metadata": {},
   "outputs": [],
   "source": [
    "daily_max = data.max(axis=1)\n",
    "max_row = daily_max.argmax()\n",
    "# Note: Another way to do this would be to use the unravel_index function\n",
    "# which takes a linear index and convert it to a location given the shape\n",
    "# of the array:\n",
    "max_row, max_col = unravel_index(data.argmax(), data.shape)\n",
    "# Or you could use \"where\", which identifies *all* the places where the max\n",
    "# occurs, rather than just the first. Note that \"where\" returns two arrays in\n",
    "# this case, instead of two integers.\n",
    "max_row, max_col = where(data == data.max())\n",
    "\n",
    "print('6. Day of maximum reading')\n",
    "print('  Year:', int(wind_data[max_row, 0]))\n",
    "print('  Month:', int(wind_data[max_row, 1]))\n",
    "print('  Day:', int(wind_data[max_row, 2]))"
   ]
  },
  {
   "cell_type": "markdown",
   "metadata": {},
   "source": [
    "7. Find the average windspeed in January for each location.\n"
   ]
  },
  {
   "cell_type": "code",
   "execution_count": null,
   "metadata": {},
   "outputs": [],
   "source": [
    "january_indices = wind_data[:, 1] == 1\n",
    "january_data = data[january_indices]\n",
    "\n",
    "print('7. Statistics for January')\n",
    "print('  mean:', january_data.mean(axis=0))"
   ]
  },
  {
   "cell_type": "markdown",
   "metadata": {},
   "source": [
    "## Bonus\n",
    "\n",
    "1. Calculate the mean windspeed for each month in the dataset.  Treat\n",
    "   January 1961 and January 1962 as *different* months."
   ]
  },
  {
   "cell_type": "code",
   "execution_count": null,
   "metadata": {},
   "outputs": [],
   "source": [
    "# compute the month number for each day in the dataset\n",
    "months = (wind_data[:, 0] - 61) * 12 + wind_data[:, 1] - 1\n",
    "\n",
    "# we're going to use the month values as indices, so we need\n",
    "# them to be integers\n",
    "months = months.astype(int)\n",
    "\n",
    "# get set of unique months\n",
    "month_values = set(months)\n",
    "\n",
    "# initialize an array to hold the result\n",
    "monthly_means = zeros(len(month_values))\n",
    "\n",
    "for month in month_values:\n",
    "    # find the rows that correspond to the current month\n",
    "    day_indices = (months == month)\n",
    "\n",
    "    # extract the data for the current month using fancy indexing\n",
    "    month_data = data[day_indices]\n",
    "\n",
    "    # find the mean\n",
    "    monthly_means[month] = month_data.mean()\n",
    "\n",
    "    # Note: experts might do this all-in one\n",
    "    # monthly_means[month] = data[months==month].mean()\n",
    "\n",
    "# In fact the whole for loop could reduce to the following one-liner\n",
    "# monthly_means = array([data[months==month].mean() for month in month_values])\n",
    "\n",
    "print(\"Bonus 1.\")\n",
    "print(\"  mean:\", monthly_means)"
   ]
  },
  {
   "cell_type": "markdown",
   "metadata": {},
   "source": [
    "\n",
    "2. Calculate the min, max and mean windspeeds and standard deviations of the\n",
    "   windspeeds across all locations for each week (assume that the first week\n",
    "   starts on January 1 1961) for the first 52 weeks."
   ]
  },
  {
   "cell_type": "code",
   "execution_count": null,
   "metadata": {},
   "outputs": [],
   "source": [
    "# Bonus 2.\n",
    "# Extract the data for the first 52 weeks. Then reshape the array to put\n",
    "# on the same line 7 days worth of data for all locations. Let Numpy\n",
    "# figure out the number of lines needed to do so\n",
    "weekly_data = data[:52 * 7].reshape(-1, 7 * 12)\n",
    "\n",
    "print('Bonus 2. Weekly statistics over all locations')\n",
    "print('  min:', weekly_data.min(axis=1))\n",
    "print('  max:', weekly_data.max(axis=1))\n",
    "print('  mean:', weekly_data.mean(axis=1))\n",
    "print('  standard deviation:', weekly_data.std(axis=1))"
   ]
  },
  {
   "cell_type": "markdown",
   "metadata": {},
   "source": [
    "## Bonus Bonus: this is really tricky...\n",
    "\n",
    "Calculate the mean windspeed for each month without using a for loop.\n",
    "(Hint: look at `searchsorted` and `add.reduceat`.)"
   ]
  },
  {
   "cell_type": "code",
   "execution_count": null,
   "metadata": {},
   "outputs": [],
   "source": [
    "# compute the month number for each day in the dataset\n",
    "months = (wind_data[:, 0] - 61) * 12 + wind_data[:, 1] - 1\n",
    "\n",
    "# find the indices for the start of each month\n",
    "# this is a useful trick - we use range from 0 to the\n",
    "# number of months + 1 and searchsorted to find the insertion\n",
    "# points for each.\n",
    "month_indices = searchsorted(months, arange(months[-1] + 2))\n",
    "\n",
    "# now use add.reduceat to get the sum at each location\n",
    "monthly_loc_totals = add.reduceat(data, month_indices[:-1])\n",
    "\n",
    "# now use add to find the sum across all locations for each month\n",
    "monthly_totals = monthly_loc_totals.sum(axis=1)\n",
    "\n",
    "# now find total number of measurements for each month\n",
    "month_days = month_indices[1:] - month_indices[:-1]\n",
    "measurement_count = month_days * 12\n",
    "\n",
    "# compute the mean\n",
    "monthly_means = monthly_totals / measurement_count\n",
    "\n",
    "print(\"Bonus Bonus\")\n",
    "print(\"  mean:\", monthly_means)\n",
    "\n",
    "# Notes: this method relies on the fact that the months are contiguous in the\n",
    "# data set - the method used in the bonus section works for non-contiguous\n",
    "# days."
   ]
  },
  {
   "cell_type": "markdown",
   "metadata": {},
   "source": [
    "## Notes\n",
    "\n",
    "These data were analyzed in detail in the following article:\n",
    "\n",
    "   Haslett, J. and Raftery, A. E. (1989). Space-time Modelling with\n",
    "   Long-memory Dependence: Assessing Ireland's Wind Power Resource\n",
    "   (with Discussion). Applied Statistics 38, 1-50."
   ]
  }
 ],
 "metadata": {
  "kernelspec": {
   "display_name": "Python 3 (ipykernel)",
   "language": "python",
   "name": "python3"
  },
  "language_info": {
   "codemirror_mode": {
    "name": "ipython",
    "version": 3
   },
   "file_extension": ".py",
   "mimetype": "text/x-python",
   "name": "python",
   "nbconvert_exporter": "python",
   "pygments_lexer": "ipython3",
   "version": "3.9.10"
  }
 },
 "nbformat": 4,
 "nbformat_minor": 4
}
