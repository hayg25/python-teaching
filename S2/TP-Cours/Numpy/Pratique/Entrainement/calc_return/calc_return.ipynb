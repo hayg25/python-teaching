{
 "cells": [
  {
   "cell_type": "markdown",
   "metadata": {},
   "source": [
    "# Calc Return\n",
    "\n",
    "For a given stock, the return `ret(t)` is connected to its close price `p(t)` by\n",
    "\n",
    "         \n",
    "$\\large ret(t) = \\frac{p(t) - p(t-1)}{p(t-1)} $\n",
    "\n",
    "\n",
    "The close price for Apple stock for all business days in 2008 is loaded for you\n",
    "from the data file `aapl_2008_close_values.csv`.\n",
    "\n",
    "1. Use these values to compute the corresponding daily return for every business day of that year (except the first one).\n",
    "\n",
    "2. Plot these returns, converted to percentages, over the course of the year. On the same plot, draw a red line at 0.\n",
    "\n",
    "**Note**: a for loop is neither necessary nor recommended for this calculation\n",
    "\n",
    "## Bonus\n",
    "\n",
    "3. There is some blank space in the plot made in question 2 because by default, matplotlib displays plots with a range along the x axis that is larger than the highest x coordinate. Use IPython to learn about matplotlib's `plt.xlim` function and make the limits of your plot tighter."
   ]
  },
  {
   "cell_type": "code",
   "execution_count": 1,
   "metadata": {},
   "outputs": [],
   "source": [
    "%matplotlib inline\n",
    "from numpy import arange, loadtxt, zeros, diff\n",
    "import matplotlib.pyplot as plt"
   ]
  },
  {
   "cell_type": "markdown",
   "metadata": {},
   "source": [
    "0. The close price for Apple stock for all business days in 2008 is loaded for you from the data file `aapl_2008_close_values.csv.`"
   ]
  },
  {
   "cell_type": "code",
   "execution_count": 3,
   "metadata": {},
   "outputs": [
    {
     "name": "stdout",
     "output_type": "stream",
     "text": [
      "Prices for AAPL stock in 2008:\n",
      "[194.84 194.93 180.05 177.64 171.25 179.4  178.02 172.69 178.78 169.04\n",
      " 159.64 160.89 161.36 155.64 139.07 135.6  130.01 130.01 131.54 132.18\n",
      " 135.36 133.75 131.65 129.36 122.   121.24 125.48 129.45 124.86 129.4\n",
      " 127.46 124.63 122.18 123.82 121.54 119.46 119.74 119.15 122.96 129.91\n",
      " 125.02 121.73 124.62 124.49 120.93 122.25 119.69 127.35 126.03 127.94\n",
      " 126.61 126.73 132.82 129.67 133.27 139.53 140.98 145.06 140.25 143.01\n",
      " 143.5  149.53 147.49 151.61 153.08 155.89 152.84 151.44 154.55 147.14\n",
      " 147.78 148.38 153.7  154.49 161.04 168.16 160.2  162.89 168.94 169.73\n",
      " 172.24 175.05 173.95 180.   180.94 184.73 186.66 182.59 185.06 183.45\n",
      " 188.16 189.96 186.26 189.73 187.62 183.6  185.9  178.19 177.05 181.17\n",
      " 186.43 187.01 186.69 188.75 186.1  185.37 185.19 189.43 185.64 181.61\n",
      " 185.64 180.81 173.26 172.37 176.84 181.43 178.75 180.9  175.27 173.16\n",
      " 173.25 177.39 168.26 170.09 167.44 174.68 168.18 170.12 175.16 179.55\n",
      " 174.25 176.63 172.58 173.88 169.64 172.81 171.81 165.15 166.29 162.02\n",
      " 166.26 159.03 162.12 154.4  157.08 159.88 158.95 156.66 153.23 160.64\n",
      " 164.19 163.57 169.55 173.56 176.73 179.3  179.32 175.74 175.39 173.53\n",
      " 175.84 174.29 176.79 172.55 173.64 174.67 173.74 169.53 166.19 166.96\n",
      " 161.22 160.18 157.92 151.68 151.61 152.65 148.94 140.36 139.88 127.83\n",
      " 134.09 140.91 131.05 126.84 128.71 131.93 128.24 105.26 113.66 109.12\n",
      " 100.1   97.07  98.14  89.16  89.79  88.74  96.8  110.26 104.08  97.95\n",
      " 101.89  97.4   98.44  91.49  96.87  98.23  96.38  92.09  99.91 104.55\n",
      " 111.04 107.59 106.96 110.99 103.3   99.1   98.24  95.88  94.77  90.12\n",
      "  96.44  90.24  88.14  89.91  86.29  80.49  82.58  92.95  90.8   95.\n",
      "  92.67  88.93  92.47  95.9   91.41  94.    99.72 100.06  98.21  95.\n",
      "  98.27  94.75  95.43  89.16  89.43  90.    85.74  86.38  85.04  85.81\n",
      "  86.61  86.29  85.35]\n"
     ]
    },
    {
     "data": {
      "text/plain": [
       "(253,)"
      ]
     },
     "execution_count": 3,
     "metadata": {},
     "output_type": "execute_result"
    }
   ],
   "source": [
    "prices = loadtxt(\"aapl_2008_close_values.csv\", usecols=[1], delimiter=\",\")\n",
    "\n",
    "print(\"Prices for AAPL stock in 2008:\")\n",
    "print(prices)\n",
    "prices.shape"
   ]
  },
  {
   "cell_type": "code",
   "execution_count": 4,
   "metadata": {},
   "outputs": [
    {
     "data": {
      "text/plain": [
       "[<matplotlib.lines.Line2D at 0x1191598b0>]"
      ]
     },
     "execution_count": 4,
     "metadata": {},
     "output_type": "execute_result"
    },
    {
     "data": {
      "image/png": "[encoded data removed]",
      "text/plain": [
       "<Figure size 432x288 with 1 Axes>"
      ]
     },
     "metadata": {
      "needs_background": "light"
     },
     "output_type": "display_data"
    }
   ],
   "source": [
    "plt.plot(prices)"
   ]
  },
  {
   "cell_type": "markdown",
   "metadata": {},
   "source": [
    "1. Use these values (`prices`) to compute the corresponding daily return for every business day of that year (except the first one)."
   ]
  },
  {
   "cell_type": "code",
   "execution_count": null,
   "metadata": {},
   "outputs": [],
   "source": [
    "# Your code goes here"
   ]
  },
  {
   "cell_type": "markdown",
   "metadata": {},
   "source": [
    "2. Plot these returns, converted to percentages, over the course of the year. On the same plot, draw a red line at 0.\n",
    "  - The matplotlib code for plotting has been provided for you."
   ]
  },
  {
   "cell_type": "code",
   "execution_count": null,
   "metadata": {},
   "outputs": [],
   "source": [
    "# Create an array of zeros that corresponds to the length of daily returns\n",
    "days = # Your code goes here\n",
    "zero_line = # Your code goes here"
   ]
  },
  {
   "cell_type": "code",
   "execution_count": null,
   "metadata": {},
   "outputs": [],
   "source": [
    "# Plot the zero line acrros days\n",
    "plt.plot(days, zero_line, 'r-')\n",
    "\n",
    "# Plot the daily returns as a percentage\n",
    "plt.plot(_____, _____, 'b-')\n",
    "\n",
    "# Specify a plot title\n",
    "plt.title('Daily return of AAPL stock in 2008 (%)');"
   ]
  },
  {
   "cell_type": "markdown",
   "metadata": {},
   "source": [
    "## Bonus\n",
    "3. There is some blank space in the plot made in question 2 because by default, `matplotlib` displays plots with a range along the x axis that is larger than the highest x coordinate. Use IPython to learn about `matplotlib`'s `plt.xlim` function and make the limits of your plot tighter."
   ]
  },
  {
   "cell_type": "code",
   "execution_count": null,
   "metadata": {},
   "outputs": [],
   "source": [
    "# Plot the daily returns with xlim\n",
    "plt.plot(days, zero_line, 'r-', days, returns * 100 , 'b-')\n",
    "plt.title('Daily return of AAPL stock in 2008 (%)');\n",
    "plt.xlim(____);"
   ]
  }
 ],
 "metadata": {
  "kernelspec": {
   "display_name": "Python 3 (ipykernel)",
   "language": "python",
   "name": "python3"
  },
  "language_info": {
   "codemirror_mode": {
    "name": "ipython",
    "version": 3
   },
   "file_extension": ".py",
   "mimetype": "text/x-python",
   "name": "python",
   "nbconvert_exporter": "python",
   "pygments_lexer": "ipython3",
   "version": "3.9.10"
  }
 },
 "nbformat": 4,
 "nbformat_minor": 4
}
