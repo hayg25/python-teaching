{
 "cells": [
  {
   "cell_type": "markdown",
   "id": "cd99da28",
   "metadata": {},
   "source": [
    "# 📘 Contrôle NumPy 2025 — ET3 \n",
    "\n",
    "Renommez ce fichier en : `ET3_MTX_2025_Nom_Prenom.ipynb`"
   ]
  },
  {
   "cell_type": "markdown",
   "id": "b8abf340",
   "metadata": {},
   "source": [
    "### 1. Pourquoi NumPy ?\n",
    "Expliquez en 3 phrases maximum pourquoi NumPy est souvent préféré aux listes Python classiques dans des calculs numériques. Donnez un exemple avec un calcul de sinus sur un tableau de données."
   ]
  },
  {
   "cell_type": "code",
   "execution_count": null,
   "id": "1e4dcf33",
   "metadata": {},
   "outputs": [],
   "source": [
    "# Votre réponse ici\n"
   ]
  },
  {
   "cell_type": "markdown",
   "id": "4ed19fff",
   "metadata": {},
   "source": [
    "### 2. Vitesse et vectorisation\n",
    "1. Créez une liste `L` contenant les 100000 entiers de 0 à 99999. Mesurez le temps nécessaire pour créer une nouvelle liste `L2` contenant le carré de chaque élément de `L` (avec une boucle `for`).\n",
    "2. Reproduisez l’opération avec un tableau NumPy `A` et comparez les temps d'exécution."
   ]
  },
  {
   "cell_type": "code",
   "execution_count": null,
   "id": "b02b6773",
   "metadata": {},
   "outputs": [],
   "source": [
    "# Votre code ici\n"
   ]
  },
  {
   "cell_type": "markdown",
   "id": "4b7903e1",
   "metadata": {},
   "source": [
    "### 3. Manipulations de vecteurs\n",
    "1. Créez un tableau de 30 nombres entiers aléatoires entre 1 et 100.\n",
    "2. Remplacez les valeurs supérieures à 80 par 80, et celles inférieures à 10 par 10.\n",
    "3. Affichez la moyenne, le minimum et le maximum de ce tableau."
   ]
  },
  {
   "cell_type": "code",
   "execution_count": null,
   "id": "7aa467f0",
   "metadata": {},
   "outputs": [],
   "source": [
    "# Votre code ici\n"
   ]
  },
  {
   "cell_type": "markdown",
   "id": "fabd3742",
   "metadata": {},
   "source": [
    "### 4. Création de matrices\n",
    "Créez une matrice 4×5 contenant les entiers de 1 à 20, organisés de manière à ce que chaque ligne contienne des nombres croissants par colonnes, mais des écarts différents par ligne :\n",
    "```\n",
    "[[  1   2   3   4   5]\n",
    " [ 10  12  14  16  18]\n",
    " [ 21  24  27  30  33]\n",
    " [ 40  44  48  52  56]]\n",
    "```\n",
    "Faites-le en une seule instruction NumPy si possible."
   ]
  },
  {
   "cell_type": "code",
   "execution_count": null,
   "id": "a08015ee",
   "metadata": {},
   "outputs": [],
   "source": [
    "# Votre code ici\n"
   ]
  },
  {
   "cell_type": "markdown",
   "id": "1f125a61",
   "metadata": {},
   "source": [
    "### 5. Extraction conditionnelle\n",
    "À partir d’une matrice `M` contenant les entiers de 0 à 99 (disposés en 10×10), extrayez :\n",
    "- Les éléments pairs,\n",
    "- Les multiples de 7,\n",
    "- Les éléments strictement supérieurs à 60 et inférieurs à 75."
   ]
  },
  {
   "cell_type": "code",
   "execution_count": null,
   "id": "9594fa0e",
   "metadata": {},
   "outputs": [],
   "source": [
    "# Votre code ici\n"
   ]
  },
  {
   "cell_type": "markdown",
   "id": "0e3a3fff",
   "metadata": {},
   "source": [
    "### 6. Visualisation simple\n",
    "Créez un tableau NumPy représentant un signal sinusoïdal bruité :\n",
    "1. Générez 1000 points entre 0 et \\(4\\pi\\),\n",
    "2. Calculez le sinus de ces points, ajoutez un bruit gaussien `np.random.normal(0, 0.1, taille)`,\n",
    "3. Affichez le tout avec `matplotlib.pyplot.plot` : en bleu le signal bruité, en rouge le signal pur."
   ]
  },
  {
   "cell_type": "code",
   "execution_count": null,
   "id": "7cd6a38a",
   "metadata": {},
   "outputs": [],
   "source": [
    "# Votre code ici\n",
    "import numpy as np\n",
    "import matplotlib.pyplot as plt"
   ]
  },
  {
   "cell_type": "markdown",
   "id": "836d6c56",
   "metadata": {},
   "source": [
    "### 7. Initialisation et indexation\n",
    "Créez un tableau T contenant les 25 premiers carrés parfaits (0² à 24²).\n",
    "Affichez :\n",
    "1. Les 5 premiers éléments,\n",
    "2. Les 5 derniers,\n",
    "3. Les éléments d’indice pair."
   ]
  },
  {
   "cell_type": "code",
   "execution_count": null,
   "id": "09b17213",
   "metadata": {},
   "outputs": [],
   "source": [
    "# votre code ici \n"
   ]
  },
  {
   "cell_type": "markdown",
   "id": "33f1fa1c",
   "metadata": {},
   "source": [
    "### 8. Tableau 2D et remplacement conditionnel\n",
    "Créez une matrice 6×6 d'entiers aléatoires entre 10 et 99. Modifiez-la selon les règles suivantes :\n",
    "1. Remplacez tous les nombres pairs par leur moitié,\n",
    "2. Remplacez tous les multiples de 5 par -5,\n",
    "3. Affichez la matrice obtenue."
   ]
  },
  {
   "cell_type": "code",
   "execution_count": null,
   "id": "f33447e3",
   "metadata": {},
   "outputs": [],
   "source": [
    "# votre code ici\n"
   ]
  },
  {
   "cell_type": "markdown",
   "id": "05a9d8ee",
   "metadata": {},
   "source": [
    "### 9. Filtrage avancé\n",
    "Créez un tableau 1D de 100 éléments aléatoires entre 0 et 100. Affichez :\n",
    "1. Les indices des éléments supérieurs à 80,\n",
    "2. Les valeurs correspondantes,\n",
    "3. Le nombre de ces valeurs."
   ]
  },
  {
   "cell_type": "code",
   "execution_count": null,
   "id": "75037908",
   "metadata": {},
   "outputs": [],
   "source": [
    "# votre code ici \n"
   ]
  },
  {
   "cell_type": "markdown",
   "id": "1b34a0a8",
   "metadata": {},
   "source": [
    "### 10. Création contrôlée de motifs\n",
    "Créez une matrice 5×5 suivant ce motif :\n",
    "\n",
    "```\n",
    "[[ 1  2  3  4  5]\n",
    " [ 5  4  3  2  1]\n",
    " [ 1  2  3  4  5]\n",
    " [ 5  4  3  2  1]\n",
    " [ 1  2  3  4  5]]\n",
    " ````\n",
    "Sans entrer les valeurs à la main : utilisez ```np.tile``` ou  ```np.vstack``` ou un empilement judicieux.\n"
   ]
  },
  {
   "cell_type": "code",
   "execution_count": null,
   "id": "1464380a",
   "metadata": {},
   "outputs": [],
   "source": [
    "# entrez votre code ici"
   ]
  },
  {
   "cell_type": "markdown",
   "id": "21419538",
   "metadata": {},
   "source": [
    "### Exercice 11 — Lecture de données numériques\n",
    "Objectif : lire un fichier texte contenant des valeurs numériques (ex : mesures expérimentales) et en extraire des informations statistiques.\n",
    "Énoncé :\n",
    "Un fichier texte donnees.txt contient une colonne de nombres flottants (une valeur par ligne), correspondant à des mesures physiques.\n",
    "1. Chargez les données avec ```np.loadtxt(\"donnees.txt\")```.\n",
    "2. Calculez et affichez :\n",
    "- la moyenne,\n",
    "- l’écart-type,\n",
    "- les valeurs supérieures à la moyenne."
   ]
  },
  {
   "cell_type": "code",
   "execution_count": null,
   "id": "38277d62",
   "metadata": {},
   "outputs": [],
   "source": [
    "# entrez votre code ici"
   ]
  },
  {
   "cell_type": "markdown",
   "id": "9982af45",
   "metadata": {},
   "source": [
    "### Exercice 12 – Filtrage direct d’un tableau\n",
    "Générez un tableau A de 100 entiers aléatoires entre 0 et 9.\n",
    "1. Affichez tous les éléments de A strictement inférieurs à 3, en utilisant un filtre : A[A < 3].\n",
    "2. Comptez combien il y en a.\n",
    "3. Affichez leur position (indice) dans le tableau."
   ]
  },
  {
   "cell_type": "code",
   "execution_count": null,
   "id": "3de5b0fa",
   "metadata": {},
   "outputs": [],
   "source": [
    "# entrer votre code ici"
   ]
  },
  {
   "cell_type": "markdown",
   "id": "c069b0c6",
   "metadata": {},
   "source": [
    "### Exercice 13 – Utilisation de np.where pour transformer\n",
    "Créez un tableau B de 50 réels uniformément répartis entre -5 et 5. Créez un tableau C tel que :\n",
    "- Si la valeur de B est > 0, mettre 1,\n",
    "- Sinon mettre 0.\n",
    "Utilisez ```np.where```."
   ]
  },
  {
   "cell_type": "code",
   "execution_count": null,
   "id": "658ab79f",
   "metadata": {},
   "outputs": [],
   "source": [
    "# entrer votre code ici"
   ]
  },
  {
   "cell_type": "markdown",
   "id": "c565f73d",
   "metadata": {},
   "source": [
    "### Exercice 14 – Substitution conditionnelle\n",
    "Créez un tableau D de 20 entiers entre 0 et 20.\n",
    "1. Remplacez tous les multiples de 3 par -3, les autres par D inchangé.\n",
    "2. Puis, remplacez dans ce tableau tous les éléments > 15 par 100."
   ]
  },
  {
   "cell_type": "code",
   "execution_count": null,
   "id": "dd18dd88",
   "metadata": {},
   "outputs": [],
   "source": [
    "# entrez votre code ici"
   ]
  },
  {
   "cell_type": "markdown",
   "id": "3d99e4a2",
   "metadata": {},
   "source": [
    "### Exercice 15 – Conversion d’un tableau en matrice\n",
    "Créez un tableau 1D de 36 entiers aléatoires entre 0 et 100.\n",
    "1. Transformez-le en matrice 6×6.\n",
    "2. Affichez la diagonale principale."
   ]
  },
  {
   "cell_type": "code",
   "execution_count": null,
   "id": "20bb74a7",
   "metadata": {},
   "outputs": [],
   "source": [
    "# entrez votre code ici"
   ]
  }
 ],
 "metadata": {
  "kernelspec": {
   "display_name": "6D",
   "language": "python",
   "name": "python3"
  },
  "language_info": {
   "codemirror_mode": {
    "name": "ipython",
    "version": 3
   },
   "file_extension": ".py",
   "mimetype": "text/x-python",
   "name": "python",
   "nbconvert_exporter": "python",
   "pygments_lexer": "ipython3",
   "version": "3.13.3"
  }
 },
 "nbformat": 4,
 "nbformat_minor": 5
}
