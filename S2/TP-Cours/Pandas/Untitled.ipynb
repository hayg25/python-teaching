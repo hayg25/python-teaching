{
 "cells": [
  {
   "cell_type": "code",
   "execution_count": 1,
   "id": "ba80b994-a51e-4bca-8e3a-749fb027b27d",
   "metadata": {},
   "outputs": [],
   "source": [
    "import numpy as np"
   ]
  },
  {
   "cell_type": "code",
   "execution_count": 2,
   "id": "24644f5f-9eac-49f5-b6bf-2cdb004c1a6e",
   "metadata": {},
   "outputs": [],
   "source": [
    "from pylab import *\n",
    "from pprint import pprint\n",
    "\n",
    "\n",
    "def arrayToList(arr):\n",
    "    if type(arr) == type(array([])):\n",
    "        return arrayToList(arr.tolist())\n",
    "    elif type(arr) == type([]):\n",
    "        return [arrayToList(a) for a in arr]\n",
    "    else:\n",
    "        return arr\n",
    "\n",
    "\n",
    "def prettyArray(arr):\n",
    "    pprint(arrayToList(arr))"
   ]
  },
  {
   "cell_type": "code",
   "execution_count": 6,
   "id": "1b19c055-e100-429d-aebc-f272193ddd0a",
   "metadata": {},
   "outputs": [
    {
     "name": "stdout",
     "output_type": "stream",
     "text": [
      "[[85  3 66]\n",
      " [49 94 52]\n",
      " [47 91 40]\n",
      " [21 36 48]\n",
      " [72  1 35]\n",
      " [55 16 58]\n",
      " [15 23 86]\n",
      " [60 84 22]\n",
      " [52 95 70]\n",
      " [99 62 90]\n",
      " [20 96 22]\n",
      " [99 67 74]]\n"
     ]
    }
   ],
   "source": [
    "AA = np.random.randint(0, 100, (12, 3))\n",
    "print(AA)@"
   ]
  },
  {
   "cell_type": "code",
   "execution_count": 7,
   "id": "e054b8f0-890e-47eb-b797-5f0f09a505b1",
   "metadata": {},
   "outputs": [
    {
     "name": "stdout",
     "output_type": "stream",
     "text": [
      "[[85, 3, 66],\n",
      " [49, 94, 52],\n",
      " [47, 91, 40],\n",
      " [21, 36, 48],\n",
      " [72, 1, 35],\n",
      " [55, 16, 58],\n",
      " [15, 23, 86],\n",
      " [60, 84, 22],\n",
      " [52, 95, 70],\n",
      " [99, 62, 90],\n",
      " [20, 96, 22],\n",
      " [99, 67, 74]]\n"
     ]
    }
   ],
   "source": [
    "prettyArray(AA)"
   ]
  },
  {
   "cell_type": "code",
   "execution_count": null,
   "id": "b8a331f6-7d05-4141-8da2-ec1835ad399b",
   "metadata": {},
   "outputs": [],
   "source": []
  }
 ],
 "metadata": {
  "kernelspec": {
   "display_name": "Python 3 (ipykernel)",
   "language": "python",
   "name": "python3"
  },
  "language_info": {
   "codemirror_mode": {
    "name": "ipython",
    "version": 3
   },
   "file_extension": ".py",
   "mimetype": "text/x-python",
   "name": "python",
   "nbconvert_exporter": "python",
   "pygments_lexer": "ipython3",
   "version": "3.11.7"
  }
 },
 "nbformat": 4,
 "nbformat_minor": 5
}
