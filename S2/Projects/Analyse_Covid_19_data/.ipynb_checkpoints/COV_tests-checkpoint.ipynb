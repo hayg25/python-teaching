{
 "cells": [
  {
   "cell_type": "code",
   "execution_count": 2,
   "id": "a38979a8-377c-4ea2-9e8a-8f0efdb71ddc",
   "metadata": {},
   "outputs": [],
   "source": [
    "import pandas as pd\n",
    "import numpy as np\n",
    "import matplotlib.pyplot as plt"
   ]
  },
  {
   "cell_type": "code",
   "execution_count": 4,
   "id": "caceabf0-6e74-4237-a18e-55beb04495f3",
   "metadata": {},
   "outputs": [
    {
     "data": {
      "text/plain": [
       "Index(['SNo', 'ObservationDate', 'Province/State', 'Country/Region',\n",
       "       'Last Update', 'Confirmed', 'Deaths', 'Recovered'],\n",
       "      dtype='object')"
      ]
     },
     "execution_count": 4,
     "metadata": {},
     "output_type": "execute_result"
    }
   ],
   "source": [
    "data = pd.read_csv('Data/covid_19_data.csv')\n",
    "data.columns"
   ]
  },
  {
   "cell_type": "code",
   "execution_count": 9,
   "id": "c05fa264-78bc-4cb1-a868-106981a61949",
   "metadata": {},
   "outputs": [],
   "source": [
    "china_data = data[data['Country/Region'] == 'Mainland China']"
   ]
  },
  {
   "cell_type": "code",
   "execution_count": 14,
   "id": "0c8e15fa-7695-4398-b38d-68c31ff3317d",
   "metadata": {},
   "outputs": [],
   "source": [
    "Hubei_data = china_data[china_data['Province/State'] == 'Hubei']"
   ]
  },
  {
   "cell_type": "code",
   "execution_count": 16,
   "id": "119623d0-e8de-4398-a1b8-5a48c07b2f79",
   "metadata": {},
   "outputs": [
    {
     "ename": "SyntaxError",
     "evalue": "invalid syntax (<string>, line 1)",
     "output_type": "error",
     "traceback": [
      "\u001b[0;31m---------------------------------------------------------------------------\u001b[0m\n\u001b[0;31mSyntaxError\u001b[0m                               Traceback (most recent call last)",
      "File \u001b[0;34m/home/guler/anaconda3/envs/crypto/lib/python3.9/ast.py\u001b[0m, in \u001b[0;32mparse\u001b[0m:\nLine \u001b[0;34m50\u001b[0m:    \u001b[34mreturn\u001b[39;49;00m \u001b[36mcompile\u001b[39;49;00m(source, filename, mode, flags,\n",
      "\u001b[0;31mSyntaxError\u001b[0m: invalid syntax (<string>, line 1)\n\u001b[0;31m---------------------------------------------------------------------------\u001b[0m",
      "There may be Ipython magics in your code, this feature is not supported in xeus-python raw mode! Please consider switching to xeus-python normal mode or removing these magics"
     ]
    }
   ],
   "source": [
    "%matplotlib inline\n",
    "plt.plot(Hubei_data.Confirmed)"
   ]
  },
  {
   "cell_type": "code",
   "execution_count": null,
   "id": "1993c10c-d135-4f26-a6b4-f1c3f861623a",
   "metadata": {},
   "outputs": [],
   "source": []
  }
 ],
 "metadata": {
  "kernelspec": {
   "display_name": "Python 3.9 (XPython Raw)",
   "language": "python",
   "name": "xpython-raw"
  },
  "language_info": {
   "file_extension": ".py",
   "mimetype": "text/x-python",
   "name": "python",
   "version": "3.9.9"
  }
 },
 "nbformat": 4,
 "nbformat_minor": 5
}
