{
 "cells": [
  {
   "cell_type": "markdown",
   "metadata": {},
   "source": [
    "# Projet juin 2022 - ET3-MTX "
   ]
  },
  {
   "cell_type": "markdown",
   "metadata": {},
   "source": [
    "---"
   ]
  },
  {
   "cell_type": "markdown",
   "metadata": {},
   "source": [
    "# Analyse de données COVID19 "
   ]
  },
  {
   "cell_type": "markdown",
   "metadata": {},
   "source": [
    "---"
   ]
  },
  {
   "cell_type": "markdown",
   "metadata": {},
   "source": [
    "### Données : \n",
    "\n",
    "- covid_19_data.csv\n",
    "- time_series_covid_19_deaths_US.csv\n",
    "- time_series_covid_19_deaths.csv\n",
    "- time_series_covid_19_confirmed_US.csv\n",
    "- time_series_covid_19_confirmed.csv\n",
    "- time_series_covid_19_recovered.csv"
   ]
  },
  {
   "cell_type": "markdown",
   "metadata": {},
   "source": [
    "### 1 Charger les fichiers \n",
    "les importer dans des dataframes Pandas"
   ]
  },
  {
   "cell_type": "markdown",
   "metadata": {},
   "source": [
    "#### 1-1 Premières observations : \n",
    "- Donner la forme de chaque dataframe \n",
    "- Donner les colonnes "
   ]
  },
  {
   "cell_type": "markdown",
   "metadata": {},
   "source": [
    "#### 1-2 Trier les observations par Province/State et Country/Region "
   ]
  },
  {
   "cell_type": "markdown",
   "metadata": {},
   "source": [
    "#### 1-2 Trier les observations par Province/State et Country/Region "
   ]
  },
  {
   "cell_type": "markdown",
   "metadata": {},
   "source": [
    "---"
   ]
  },
  {
   "cell_type": "markdown",
   "metadata": {},
   "source": [
    "## Analyse du 1er fichier\n",
    "### 1 Première analyse et préparation des données\n",
    "- Donner la forme du dataframe\n",
    "- Donner les colonnes\n",
    "- Affichage des 5 premières observations\n",
    "- Affichage des 5 dernieres observations\n",
    "- Informations sur les types de caractéristiques dont nous disposons"
   ]
  },
  {
   "cell_type": "markdown",
   "metadata": {},
   "source": [
    "#### 1-1 Donnéés manquantes ? \n",
    "Certaines observations ne semblent pas posséder d'informations concernant la province ou l'état ce qui paraît logique car tous les pays n'ont pas de province ou d'état\n",
    "- Essayez de les comptabiliser"
   ]
  },
  {
   "cell_type": "markdown",
   "metadata": {},
   "source": [
    "#### 1-2 Listez les pays \n"
   ]
  },
  {
   "cell_type": "markdown",
   "metadata": {},
   "source": [
    "#### 1-3 renommez certaines caracteristiques pour une facilité de manipulation ultérieure\n",
    "- ObservationDate -> Date \n",
    "- Province/State -> ProvinceState \n",
    "- Country/Region -> Country\n",
    "- Last Update -> LastUpdate"
   ]
  },
  {
   "cell_type": "markdown",
   "metadata": {},
   "source": [
    "#### 1-4 renommez le pays 'Mainland China' en 'China'"
   ]
  },
  {
   "cell_type": "markdown",
   "metadata": {},
   "source": [
    "#### 1-5 Conversion de la feature Date au format Date"
   ]
  },
  {
   "cell_type": "markdown",
   "metadata": {},
   "source": [
    "### 2 Exploration des données "
   ]
  },
  {
   "cell_type": "markdown",
   "metadata": {},
   "source": [
    "#### 2-1 Donnez la date minimale des observations"
   ]
  },
  {
   "cell_type": "markdown",
   "metadata": {},
   "source": [
    "#### 2-2 extraire les données à la derniere date la plus récente\n",
    "Pour connaitre le nombre de cas à la date maximale l'erreur serait de faire la somme de la colonne Confirmed, car il s'agit\n",
    "d'une donnée cumulée chaque jour !\n",
    "Il faut donc extraire les données à la date souhaitée et de réaliser ensuite les différents calculs"
   ]
  },
  {
   "cell_type": "markdown",
   "metadata": {},
   "source": [
    "#### 2-3 Informations au niveau mondial\n",
    "- dites combien de cas : confirmés ? décédés ? Guerris ?"
   ]
  },
  {
   "cell_type": "markdown",
   "metadata": {},
   "source": [
    "---"
   ]
  },
  {
   "cell_type": "markdown",
   "metadata": {},
   "source": [
    "### 3 En Chine"
   ]
  },
  {
   "cell_type": "markdown",
   "metadata": {},
   "source": [
    "### 3-1 Donnez la date de début de l'épidémie en Chine"
   ]
  },
  {
   "cell_type": "markdown",
   "metadata": {},
   "source": [
    "### 3-1 Informations : dites combien de cas (confirmés ? décédés ? Guerris ?)"
   ]
  },
  {
   "cell_type": "markdown",
   "metadata": {},
   "source": [
    "### 3-2 Chronogramme de l'évolution de l'épidémie en chine\n",
    "- Représentation des différents cas (confirmés, décédés, Guerris) \n",
    "- La courbe de mortalité semble plate, mais cela est dû à un nombre peu élevé de mortalité par rapport aux autres valeures ()\n",
    "- Faire un Groupement par date en réalisant la somme de chaque feature\n",
    "- Faites une représentation sur un même graphe\n",
    "- Sur un second graphe montrez les evolutions des cas décédés, Guerris, normalisés par les cas confirmés"
   ]
  },
  {
   "cell_type": "markdown",
   "metadata": {},
   "source": [
    "---"
   ]
  },
  {
   "cell_type": "markdown",
   "metadata": {},
   "source": [
    "### 4 En France"
   ]
  },
  {
   "cell_type": "markdown",
   "metadata": {},
   "source": [
    "### 4-1 Donnez la date de début de l'épidémie en France"
   ]
  },
  {
   "cell_type": "markdown",
   "metadata": {},
   "source": [
    "### 4-1 Informations : dites combien de cas (confirmés ? décédés ? Guerris ?)"
   ]
  },
  {
   "cell_type": "markdown",
   "metadata": {},
   "source": [
    "### 4-2 Chronogramme de l'évolution de l'épidémie en France\n",
    "- Représentation des différents cas (confirmés, décédés, Guerris) \n",
    "- La courbe de mortalité semble plate, mais cela est dû à un nombre peu élevé de mortalité par rapport aux autres valeures ()\n",
    "- Faire un Groupement par date en réalisant la somme de chaque feature\n",
    "- Faites une représentation sur un même graphe\n",
    "- Sur un second graphe montrez les evolutions des cas décédés, Guerris, normalisés par les cas confirmés"
   ]
  },
  {
   "cell_type": "markdown",
   "metadata": {},
   "source": [
    "### 4-3 Chronogramme de l'évolution de l'épidémie en France à partir du début de l'épidémie\n",
    "- comme pour le 4-2 mais les données présentéés démarrent au début de l'épidémie en France"
   ]
  },
  {
   "cell_type": "markdown",
   "metadata": {},
   "source": [
    "---"
   ]
  },
  {
   "cell_type": "markdown",
   "metadata": {},
   "source": [
    "### 5 En Italie"
   ]
  },
  {
   "cell_type": "markdown",
   "metadata": {},
   "source": [
    "### 5-1 Donnez la date de début de l'épidémie"
   ]
  },
  {
   "cell_type": "markdown",
   "metadata": {},
   "source": [
    "### 5-1 Informations : dites combien de cas (confirmés ? décédés ? Guerris ?)"
   ]
  },
  {
   "cell_type": "markdown",
   "metadata": {},
   "source": [
    "### 5-2 Chronogramme de l'évolution de l'épidémie\n",
    "- Représentation des différents cas (confirmés, décédés, Guerris) \n",
    "- La courbe de mortalité semble plate, mais cela est dû à un nombre peu élevé de mortalité par rapport aux autres valeures ()\n",
    "- Faire un Groupement par date en réalisant la somme de chaque feature\n",
    "- Faites une représentation sur un même graphe\n",
    "- Sur un second graphe montrez les evolutions des cas décédés, Guerris, normalisés par les cas confirmés"
   ]
  },
  {
   "cell_type": "markdown",
   "metadata": {},
   "source": [
    "### 5-3 Chronogramme de l'évolution de l'épidémie à partir du début de l'épidemie dans le pays\n",
    "- comme pour le 5-2 mais les données présentéés démarrent au début de l'épidémie en Italie"
   ]
  },
  {
   "cell_type": "markdown",
   "metadata": {},
   "source": [
    "---"
   ]
  },
  {
   "cell_type": "markdown",
   "metadata": {},
   "source": [
    "### 6 Superposition des courbes d'évolutions par pays sur une période donnée\n",
    "\n",
    "Nous allons définir pour chaque pays la date de début d'épidémie (c'est à dire la date où le nombre de cas a augmenté significativement).  \n",
    "Puis nous allons comparer pour chaque pays l'évolution de l'épidémie sur une période comportant un nombre de jours identiques.\n",
    "- plusieurs critères d'accroisements de début d'épidémie pourront être étudiées\n",
    "- Pour ces critères vous calculerez une date de début, une date de fin\n",
    "- vous pourrez estimer un taux d'accroissement du nombre de cas, du nombre de décès\n",
    "- Quelle conclusion pour cette première période ? "
   ]
  },
  {
   "cell_type": "markdown",
   "metadata": {},
   "source": [
    "---\n",
    "---"
   ]
  },
  {
   "cell_type": "markdown",
   "metadata": {},
   "source": [
    "## Données plus récentes "
   ]
  },
  {
   "cell_type": "markdown",
   "metadata": {},
   "source": [
    "Nous allons refaire le même exercice avec des données plus récentes, voir le fichier : covid_data_full.csv\n",
    "\n",
    "avec beaucoup plus d'informations utiles"
   ]
  },
  {
   "cell_type": "markdown",
   "metadata": {},
   "source": [
    "### 0 Reprendre les études précédentes avec les nouvelles données. "
   ]
  },
  {
   "cell_type": "markdown",
   "metadata": {},
   "source": [
    "### 1- Comparatif par continent : \n"
   ]
  },
  {
   "cell_type": "markdown",
   "metadata": {},
   "source": [
    "#### 1-1 : Comparez sur un même graphe l'évolution des cas pour chaque continent\n",
    "- idem avec le nombre de cas rapporté à la population totale"
   ]
  },
  {
   "cell_type": "markdown",
   "metadata": {},
   "source": [
    "#### 1-2 : Faites les histogrammes des dates du début de l'épidémie pour chaque continent"
   ]
  },
  {
   "cell_type": "markdown",
   "metadata": {},
   "source": [
    "#### 1-3 : Superposez les. Que concluez-vous ? Arrive-t-on a conclure sur la temporalité de la propagation du virus ?"
   ]
  },
  {
   "cell_type": "markdown",
   "metadata": {},
   "source": [
    "#### 1-4 : même question sur premier pic de l'épidémie\n",
    "- Comparez aussi les dispersions temporelles du pic par continent"
   ]
  },
  {
   "cell_type": "markdown",
   "metadata": {},
   "source": [
    "### 1 Selon l'avancement des travaux, plusieurs questions se rapporteront aux autres variagles (Age, Morbidité, Vaccination)\n",
    "- Nous regarderons de manières plus précise à quel point, la mortalité est corrélée à d'autres facteurs (n'oubliez pas : corrélation ne veut pas dire lien de causalité !)\n"
   ]
  }
 ],
 "metadata": {
  "kernelspec": {
   "display_name": "Python 3",
   "language": "python",
   "name": "python3"
  },
  "language_info": {
   "codemirror_mode": {
    "name": "ipython",
    "version": 3
   },
   "file_extension": ".py",
   "mimetype": "text/x-python",
   "name": "python",
   "nbconvert_exporter": "python",
   "pygments_lexer": "ipython3",
   "version": "3.7.9"
  }
 },
 "nbformat": 4,
 "nbformat_minor": 4
}
