{
 "cells": [
  {
   "cell_type": "markdown",
   "metadata": {},
   "source": [
    "# Examen de python niveau 1 \n",
    "\n",
    "Vous avez 2h pour faire un maximum d'exercices. Surtout pas d'inquiétude.   \n",
    "Première chose à faire : renommer le fichier en l'appelant **Exam_2023_Nom_Prenom.ipynb**  \n",
    "Dès que vous avec fini envoyez moi le fichier à mon adresse (hayg.guler@ijclab.in2p3.fr)  \n",
    "\n",
    "* Pour chaque exercice, vous ouvrer une cellule en dessous \n",
    "    * la commande b le fait pour vous\n",
    "    * pour effacer une cellule, on utilise la commande dd\n",
    "    * pour executer une cellule : Shift-Entrée\n"
   ]
  },
  {
   "cell_type": "markdown",
   "metadata": {
    "tags": []
   },
   "source": [
    "## Dictionnaires "
   ]
  },
  {
   "cell_type": "markdown",
   "metadata": {},
   "source": [
    "### exercice 1\n",
    "---\n",
    "On considère le dictionnaire suivant dont les clés sont les noms des élèves et les valeurs des clés sont les moyennes générales obtenues en passant l'examen final:\n",
    "\n",
    "```python\n",
    "etudiants = {\"etudiant_1\" : 13 , \"etudiant_2\" : 17 , \"etudiant_3\" : 9 , \"etudiant_4\" : 15 , \n",
    "\t\t\t\"etudiant_5\" : 8 , \"etudiant_6\" : 14 , \"etudiant_7\" : 16 , \"etudiant_8\" : 12 , \n",
    "\t\t\t \"etudiant_9\" : 13 , \"etudiant_10\" : 15 , \"etudiant_11\" : 14 , \"etudiant_112\" : 9 , \n",
    "\t\t\t \"etudiant_13\" : 10 , \"etudiant_14\" : 12 , \"etudiant_15\" : 13 , \"etudiant_16\" : 7 ,\n",
    "\t\t\t \"etudiant_17\" : 12 , \"etudiant_18\" : 15 , \"etudiant_19\" : 9 , \"etudiant_20\" : 17 ,}\n",
    "```\n",
    "crire un programme Python qui partitionne ce dictionnaire en deux sous dictionnaires:\n",
    "\n",
    "1- etudiant Admis dont les clés sont les étudiants admis et les valeurs des clés sont les moyennes obtenues (moyenne supérieurs ou égales à 10 ).\n",
    "\n",
    "2- etudiant NonAdmis dont les clés sont les étudiants non admis et les valeurs des clés sont les moyennes obtenues (moyenne inférieur ou égale à 10).\n"
   ]
  },
  {
   "cell_type": "markdown",
   "metadata": {
    "tags": []
   },
   "source": [
    "### exercice 2\n",
    "---\n",
    "Ecrire un programme Python qui permet de créer à partir d'un entier entier n saisi au clavier , un dictionnaire formé des entiers de 1 à n et de leurs carrées. Exemple pour n = 7 le dictionnaire sera de la forme:\n",
    "```python\n",
    "    {1: 1, 2: 4, 3: 9, 4: 16, 5: 25 , 6: 36 , 7: 49}\n",
    "```"
   ]
  },
  {
   "cell_type": "markdown",
   "metadata": {},
   "source": [
    "###  exercice 3\n",
    "---\n",
    "Écrire un programme en Python qui demande à l'utilisateur de saisir une une chaine de caractère, et de lui renvoyer un dictionnaire dont les clés sont les caractères de la chaine saisie et les valeurs sont les nombres d’occurrences des caractères dans la chaine. Exemple pour la chaine s = \"langage\" , le programme renvoie le dictionnaire:\n",
    "```python\n",
    "d = {'l':1 , 'a':2 , 'n':1 , 'g':2 , 'e':1}\n",
    "\n",
    "```\n",
    "\n",
    "peut aider : \n",
    "chaine de caractere -> methode count "
   ]
  },
  {
   "cell_type": "markdown",
   "metadata": {
    "tags": []
   },
   "source": [
    "###  exercice 4\n",
    "---\n",
    "\n",
    "    Écrire une fonction en Python qui prends en paramètre une liste de  nombres entiers et qui renvoie un dictionnaire dont les clés sont les entiers de la liste et dont les valeurs sont 'pair' ou 'impair' selon la parité du nombre.\n",
    "    note : nous attendons une fonction qui prendra comme argument une liste."
   ]
  },
  {
   "cell_type": "markdown",
   "metadata": {
    "tags": []
   },
   "source": [
    "###  exercice 5\n",
    "---\n",
    "\n",
    "   Écrire un programme en Python qui demande à l'utilisateur de saisir un texte et de lui renvoyer un dictionnaire dont les clés sont les mots du texte saisi et les valeurs sont les inverses des mots qui composent le texte. Exemple pour le texte T = \"Python est un facile\" , le programme doit renvoyer le dictionnaire:\n",
    "   ```python\n",
    "       d = {'Python': 'nohtyp' , 'est': 'tse' , 'facile': 'elicaf'}\n",
    "   ```\n",
    "note : pour une chaine de caracteres a, essayez d'imprimer a[::-1]"
   ]
  },
  {
   "cell_type": "markdown",
   "metadata": {
    "tags": []
   },
   "source": [
    "## Chaines de caractère, Listes "
   ]
  },
  {
   "cell_type": "markdown",
   "metadata": {},
   "source": [
    "###  exercice 6\n",
    "---\n",
    "Ecrire un programme qui prend en entrée une chaine de caracteres entrée par un utilisateur. Le programme va insérer tous les caracteres le signe \"_\". \n",
    "Il va ensuite concaténer les 2 mots et l'afficher."
   ]
  },
  {
   "cell_type": "markdown",
   "metadata": {},
   "source": [
    "###  exercice 7\n",
    "------\n",
    "définir la liste : liste =[25, 76, 17, 89, 35, 47, 56, 23, 56, 83, 10, 34, 15, 55, 25, 75, 41,\n",
    "       76, 58, 37]) , puis effectuez les actions suivantes :\n",
    "* triez et affichez la liste ;\n",
    "* ajoutez l’élément 12 à la liste et affichez la liste ;\n",
    "* renversez et affichez la liste ;\n",
    "* affichez l’indice de l’élément 17 ;\n",
    "* enlevez l’élément 38 et affichez la liste ;\n",
    "* affichez la sous-liste du 2 e au 3 e élément ;\n",
    "* affichez la sous-liste du début au 2 e élément ;\n",
    "* affichez la sous-liste du 3 e élément à la fin de la liste ;\n",
    "* affichez la sous-liste complète de la liste ;"
   ]
  },
  {
   "cell_type": "markdown",
   "metadata": {},
   "source": [
    "###  exercice 8\n",
    "---\n",
    "Ecrire un programme en Python qui demande à l’utilisateur de saisir une chaine de caractère s et de lui renvoyer un message indiquant si la chaine contient la lettre 'a' tout en indiquant sa position sur la chaine. Exemple si l’utilisateur tape la chaine s = ‘langage’ le programme lui renvoie : La lettre 'a' se trouve à la position : 1 La lettre 'a' se trouve à la position : 4"
   ]
  },
  {
   "cell_type": "markdown",
   "metadata": {
    "jp-MarkdownHeadingCollapsed": true,
    "tags": []
   },
   "source": [
    "###  exercice 9\n",
    "---\n",
    "\n",
    "Soit la liste de nombres [8, 3, 12.5, 45, 25.5, 52, 1]. Triez les nombres de cette liste par ordre croissant, sans utiliser la fonction sort(). \n",
    "\n",
    "Les fonctions et méthodes min(), .append() et .remove() vous seront utiles."
   ]
  },
  {
   "cell_type": "markdown",
   "metadata": {},
   "source": [
    "###  exercice 10\n",
    "----\n",
    "Ecrire un programme en langage Python, qui permet de compter le nombre de consonnes dans une chaine donnée. On pourra tester que ce ne sont pas des voyelles."
   ]
  },
  {
   "cell_type": "markdown",
   "metadata": {
    "tags": []
   },
   "source": [
    "###  exercice 11\n",
    "---\n",
    "Ecrire un programme en Python permettant de réaliser la différence de deux liste.\n",
    "Exemple si:\n",
    "\n",
    "```python\n",
    "L1 = [11 , 3 , 22 , 7 , 13 , 23 , 9]\n",
    "L2 = [5 , 9 , 19 , 23 , 10 , 23 , 13]\n",
    "```\n",
    " \n",
    "le programme renvoie la liste:\n",
    "\n",
    "```python\n",
    "[11, 3, 22, 7]\n",
    "```\n",
    "\n",
    "on pourra tester la condition d'etre dans L1 et pas dans L2 \n",
    "\n",
    "On attend le resultat sous forme de fonction qui prend en entrée 2 listes et renvoie 1 liste "
   ]
  },
  {
   "cell_type": "markdown",
   "metadata": {},
   "source": [
    "### exercice 12\n",
    "---\n",
    "Ecrire un algorithme python sous forme de fonction qui prend en paramètres une liste l et renvoie un tuple de deux listes (l_even, l_odd) où l_even est composé des éléments de l d'indexe pair et l_old est constitué par les éléments d'indexe impair .\n",
    "\n",
    "Exemple: si:\n",
    "```python\n",
    "    L = [\"Python\", \"Java\", \"C ++\", \"C #\", \"VB.Net\", \"Javascript\"]\n",
    "``` \n",
    "\n",
    "l'algorithme renvoie:\n",
    "\n",
    "```python\n",
    "    (['Python', 'C ++', 'VB.Net'], ['Java', 'C #', 'Javascript'])\n",
    "```\n"
   ]
  },
  {
   "cell_type": "markdown",
   "metadata": {},
   "source": [
    "###  exercice 13\n",
    "---\n",
    "Ecrire une fonction qui à partir d'une liste\n",
    "et une valeur, renvoie la liste de tous les\n",
    "indices où se trouve cette valeur dans la liste.\n",
    "\n",
    "f(Liste_in, val) -> Liste_out"
   ]
  },
  {
   "cell_type": "markdown",
   "metadata": {},
   "source": [
    "###  exercice 14\n",
    "---\n",
    "Etant donnée la liste des notes des élèves :  \n",
    "```python\n",
    "notes = [12 , 14 , 4 , 1 , 18 , 13 , 7, 6 , 5 , 9 , 12 , 8 , 14 , 16, 20]  \n",
    "```\n",
    "* Ecrire un programme Python qui permet d'extraire  de cette liste et créer une autre liste qui contient uniquement les notes au dessus de la myenne de la classe\n",
    "* Idem avec les notes < Moyenne de la classe. Dites quel groupe est le plus grand. \n",
    "* calculez la moyenne de chaque groupe \n",
    "\n",
    "ps : notez que vous devez d'abord calculer la moyenne de la classe pour traiter les questions"
   ]
  },
  {
   "cell_type": "markdown",
   "metadata": {
    "tags": []
   },
   "source": [
    "###  exercice 15\n",
    "---\n",
    "Ecrire un programme Python qui permet de déplacer les 3 premiers élément d'une liste donnée et les placer à la fin de la liste.\n",
    "Exemple si \n",
    "```python\n",
    "L = [25 , 13 , 11 , 1 , 4 , 31 , 18 , 6, 12 , 1 , 7]\n",
    "```\n",
    "le programme renvoie : la liste:\n",
    "```python\n",
    "[1 , 4 , 31 , 18 , 6, 12 , 1 , 7 , 25 , 13 , 11 ]\n",
    "```\n",
    "\n",
    "on attendra le resultat sous forme de fonction : \n",
    "\n",
    "f(L_in, N_elements_a_deplacer) -> L_out\n",
    "\n",
    "tester aussi la longueur de la liste au cas ou sa taille < N_elements_a_deplacer "
   ]
  },
  {
   "cell_type": "markdown",
   "metadata": {},
   "source": [
    "###  exercice 16\n",
    "---\n",
    "Créez une fonction Python, appelée nombreDivisibles, qui s'applique à une liste de nombres et un entier n, et qui renvoie le nombre d’éléments de la liste qui sont divisible par n."
   ]
  },
  {
   "cell_type": "markdown",
   "metadata": {},
   "source": [
    "###  exercice 17\n",
    "---\n",
    " L = [0, 1, 2, 3, 4, 5, 6, 7, 8, 9]\n",
    " à partir de L:  \n",
    "    1. Multipliez chaque élément de la liste par 3.  \n",
    "    2. Ajouter la valeur 11 à la fin de la liste.  \n",
    "    3. Ajouter les valeurs 12 et 13 à la fin de la liste.  \n",
    "    4. Afficher le premier élément, les deux premiers éléments, le dernier élément, les deux derniers éléments.  \n",
    "    5. Construire la liste \"paires\" qui contient les nombres paires de L et la liste \"impaire\" qui contient les nombres \"impaires\" de L.\n",
    "    -> boucle for et liste compréhension  \n",
    "    6. Ajouter la valeur 3.5 entre 3 et 4.  \n",
    "    7. Supprimer la valeur 3.5.  \n",
    "    8. Inverser l'ordre des éléments de L.  \n",
    "    9 Demander à l'utilisateur de fournir un nombre au hasard et dire si ce nombre est présent dans L.  "
   ]
  },
  {
   "cell_type": "markdown",
   "metadata": {
    "tags": []
   },
   "source": [
    "## Fonctions Boucles tests \n",
    "---"
   ]
  },
  {
   "cell_type": "markdown",
   "metadata": {
    "jp-MarkdownHeadingCollapsed": true,
    "tags": []
   },
   "source": [
    "### exercice 18\n",
    "---------------------------------\n",
    "Une légende de l'Inde ancienne raconte que le jeu d'échecs a été inventé par un vieux sage, que son roi voulut remercier en lui affirmant qu'il lui accorderait n'importe quel cadeau en récompense. Le vieux sage demanda qu'on lui fournisse simplement un peu de riz pour ses vieux jours et plus précisément un nombre de grains de riz suffisant pour que l'on puisse en déposer 1 seul sur la première case du jeu qu'il venait d'inventer, deux sur la suivante, quatre sur la troisième et ainsi de suite jusqu'à la 64e case. Écrivez un programme Python qui affiche le nombre de grains à déposer sur chacune des 64 cases du jeu. Calculez ce nombre de deux manières :\n",
    "\n",
    "- le nombre exact de grains (nombre entier)\n",
    "- le nombre de grains en notation scientifique (nombre réel)\n",
    "- 1 grain fait 64,7989 mg --> calculez le poids en Tonnes "
   ]
  },
  {
   "cell_type": "markdown",
   "metadata": {
    "jp-MarkdownHeadingCollapsed": true,
    "tags": []
   },
   "source": [
    "### exercice 19\n",
    "---\n",
    "ecrire un simple script qui dessine dans un sens et dans l'autre : \n",
    "\n",
    "- a\n",
    "- aaa\n",
    "- aaaaa\n",
    "- aaaaaaa\n",
    "- aaaaaaaaa\n",
    "- aaaaaaaaaaa\n",
    "- aaaaaaaaaaaaa\n",
    "- aaaaaaaaaaaaaaa"
   ]
  },
  {
   "cell_type": "markdown",
   "metadata": {},
   "source": [
    "### exercice 20\n",
    "---\n",
    "Ecrire un algorithme en python qui affiche le triangle suivant:\n",
    "\n",
    "- 1 2 3 4 5 6 7 8 9 10\n",
    "- 2 3 4 5 6 7 8 9 10\n",
    "- 3 4 5 6 7 8 9 10\n",
    "- 4 5 6 7 8 9 10\n",
    "- 5 6 7 8 9 10\n",
    "- 6 7 8 9 10\n",
    "- 7 8 9 10\n",
    "- 8 9 10\n",
    "- 9 10\n",
    "- 10\n"
   ]
  },
  {
   "cell_type": "markdown",
   "metadata": {},
   "source": [
    "### exercice 21\n",
    "---\n",
    "\n",
    "Jean a un livret A avec 2000 euros dessus au taux d’intérêt de 2%\n",
    "\n",
    "1- Ecrire un programme pour savoir combien il aura dans 10 ans\n",
    "2- Modifier le programme pour pouvoir choisir le pourcentage, le taux d’intérêt et le nombre d’années\n"
   ]
  },
  {
   "cell_type": "markdown",
   "metadata": {},
   "source": [
    "###  exercice 22\n",
    "---\n",
    "Ecrire un programme permettant de calculer la factorielle d’un nombre à l’aide d’une boucle for."
   ]
  },
  {
   "cell_type": "markdown",
   "metadata": {},
   "source": [
    "### exercice 23\n",
    "---\n",
    "Ecrire une fonction qui prend en entrée une liste (notes <=20) et qui renvoie : \n",
    "une liste comprenant 4 valeurs : \n",
    "\n",
    "1. le nombre de notes\n",
    "2. le nombre de notes > 10\n",
    "3. la moyenne \n",
    "4. l'écart type \n"
   ]
  },
  {
   "cell_type": "markdown",
   "metadata": {
    "tags": []
   },
   "source": [
    "## Variables"
   ]
  },
  {
   "cell_type": "markdown",
   "metadata": {
    "tags": []
   },
   "source": [
    "### exercice 23\n",
    "---\n",
    "Ecrire un programme en langage Python qui demande à l'utilisateur de saisir son nom prenom et âge (sur une meme ligne) et de lui afficher sous la forme : \n",
    "\n",
    "* nom : \n",
    "* prenom : \n",
    "* age : \n",
    "\n",
    "note : 1 seul input sera accepté"
   ]
  },
  {
   "cell_type": "markdown",
   "metadata": {
    "tags": []
   },
   "source": [
    "### exercice 24\n",
    "-------------------\n",
    "Ecrit un programme qui ajoute 4000 juste avant le 5000 et le 55000 entre le 50000 et le 60000 de la liste : \n",
    "\n",
    "\n",
    "* list1 = [10, 20, [300, 400, [5000, [50000, 60000], 6000], 500], 30, 40]\n",
    "\n",
    "Sortie attendue :\n",
    "\n",
    "* [10, 20, [300, 400, [4000, 5000, [50000, 55000, 60000], 6000], 500], 30, 40]\n"
   ]
  },
  {
   "cell_type": "markdown",
   "metadata": {},
   "source": [
    "### exercice 25\n",
    "\n",
    "Ecrire un programme en Python qui demande à l'utilisateur de saisir deux nombres a et b et de lui afficher leur maximum.\n"
   ]
  },
  {
   "cell_type": "markdown",
   "metadata": {},
   "source": [
    "### exercice 26\n",
    "\n",
    "Ecrire un programme en langage Python qui demande à l'utilisateur de saisir son nom et de lui afficher son nom avec un message de bienvenue !\n"
   ]
  },
  {
   "cell_type": "markdown",
   "metadata": {},
   "source": [
    "# Merci à tous "
   ]
  }
 ],
 "metadata": {
  "kernelspec": {
   "display_name": "Python 3 (ipykernel)",
   "language": "python",
   "name": "python3"
  },
  "language_info": {
   "codemirror_mode": {
    "name": "ipython",
    "version": 3
   },
   "file_extension": ".py",
   "mimetype": "text/x-python",
   "name": "python",
   "nbconvert_exporter": "python",
   "pygments_lexer": "ipython3",
   "version": "3.9.13"
  },
  "toc": {
   "base_numbering": 1,
   "nav_menu": {},
   "number_sections": true,
   "sideBar": true,
   "skip_h1_title": false,
   "title_cell": "Table of Contents",
   "title_sidebar": "Contents",
   "toc_cell": false,
   "toc_position": {},
   "toc_section_display": true,
   "toc_window_display": false
  },
  "varInspector": {
   "cols": {
    "lenName": 16,
    "lenType": 16,
    "lenVar": 40
   },
   "kernels_config": {
    "python": {
     "delete_cmd_postfix": "",
     "delete_cmd_prefix": "del ",
     "library": "var_list.py",
     "varRefreshCmd": "print(var_dic_list())"
    },
    "r": {
     "delete_cmd_postfix": ") ",
     "delete_cmd_prefix": "rm(",
     "library": "var_list.r",
     "varRefreshCmd": "cat(var_dic_list()) "
    }
   },
   "types_to_exclude": [
    "module",
    "function",
    "builtin_function_or_method",
    "instance",
    "_Feature"
   ],
   "window_display": false
  }
 },
 "nbformat": 4,
 "nbformat_minor": 4
}
