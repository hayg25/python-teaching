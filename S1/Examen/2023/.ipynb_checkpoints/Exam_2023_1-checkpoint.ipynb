{
 "cells": [
  {
   "cell_type": "markdown",
   "metadata": {},
   "source": [
    "# Examen de python niveau 1 \n",
    "\n",
    "Vous avez 2h pour faire un maximum d'exercices. Surtout pas d'inquiétude.   \n",
    "Première chose à faire : renommer le fichier en l'appelant **Exam_2023_Nom_Prenom.ipynb**  \n",
    "Dès que vous avec fini envoyez moi le fichier à mon adresse (hayg.guler@ijclab.in2p3.fr)  \n",
    "\n",
    "* Pour chaque exercice, vous ouvrer une cellule en dessous \n",
    "    * la commande b le fait pour vous\n",
    "    * pour effacer une cellule, on utilise la commande dd\n",
    "    * pour executer une cellule : Shift-Entrée\n"
   ]
  },
  {
   "cell_type": "markdown",
   "metadata": {},
   "source": [
    "## Variables"
   ]
  },
  {
   "cell_type": "markdown",
   "metadata": {},
   "source": [
    "### exercice 1\n",
    "---\n",
    "Écrire un programme, qui définit 3 variables : une variable de type liste, une variable de type dictionnaire, une variable de type chaîne de caractères et qui affiche leur type."
   ]
  },
  {
   "cell_type": "markdown",
   "metadata": {
    "tags": []
   },
   "source": [
    "### exercice 2\n",
    "---"
   ]
  },
  {
   "cell_type": "markdown",
   "metadata": {},
   "source": [
    "Definissez en et affecter des valeurs en une seule ligne à 3 variables de type réel, texte et entier.\n"
   ]
  },
  {
   "cell_type": "markdown",
   "metadata": {},
   "source": [
    "### exercice 3\n",
    "---\n",
    "\n",
    "soit ABC un triangle rectange en B. \n",
    "1. Calculer AC sachant que AB = 5 cm et AC = 7 cm. \n",
    "2. Calculer l'aire du cercle de centre B passant par C. \n",
    "\n",
    "Aide : importez le module math. "
   ]
  },
  {
   "cell_type": "markdown",
   "metadata": {
    "jp-MarkdownHeadingCollapsed": true,
    "tags": []
   },
   "source": [
    "### exercice 4\n",
    "---\n",
    "Ecrire un programme en langage Python qui demande à l'utilisateur de saisir son nom prenom et âge (sur une meme ligne) et de lui afficher sous la forme : \n",
    "\n",
    "* nom : \n",
    "* prenom : \n",
    "* age : "
   ]
  },
  {
   "cell_type": "markdown",
   "metadata": {
    "jp-MarkdownHeadingCollapsed": true,
    "tags": []
   },
   "source": [
    "### exercice 5\n",
    "---\n",
    "Ecrire un programme en Python qui demande à l'utilisateur de saisir deux nombres a et b et de lui afficher leur quotient : a / (a - b)\n",
    "\n",
    "mettez une condition pour que si le dénominateur est nul, alors la fraction n'existe pas. \n"
   ]
  },
  {
   "cell_type": "markdown",
   "metadata": {
    "tags": []
   },
   "source": [
    "### exercice 6\n",
    "--------------------\n",
    "Ecrire un programme en Python qui demande à l'utilisateur de saisir deux mots et de lui afficher celui qui est le plus long, le plus court ainsi que leur tailles respectives.\n"
   ]
  },
  {
   "cell_type": "markdown",
   "metadata": {
    "tags": []
   },
   "source": [
    "### exercice 7\n",
    "------------------------\n",
    "Entrée : \n",
    "* list1 = [\"M\", \"na\", \"i\", \"Orochi\"]\n",
    "* list2 = [\"y\", \"me\", \"s\", \"maru\"]\n",
    "\n",
    "trouver la methode pour avoir en sortie : \n",
    "* ['My', 'name', 'is', 'Orochimaru']"
   ]
  },
  {
   "cell_type": "markdown",
   "metadata": {
    "tags": []
   },
   "source": [
    "### exercice 8\n",
    "---------------------------\n",
    "Entrée : \n",
    "* numbers = [1, 2, 3, 4, 5, 6, 7]\n",
    "sortie attendue : \n",
    "* [ 6, 13, 22, 33, 46, 61, 78]\n",
    "\n",
    "Astuce : 2^2 + 4*2 + 1 = 13"
   ]
  },
  {
   "cell_type": "markdown",
   "metadata": {
    "tags": []
   },
   "source": [
    "### exercice 9\n",
    "-------------------\n",
    "Ecrit un programme qui ajoute 4000 juste avant le 5000 et le 55000 entre le 50000 et le 60000 de la liste : \n",
    "\n",
    "\n",
    "* list1 = [10, 20, [300, 400, [5000, [50000, 60000], 6000], 500], 30, 40]\n",
    "\n",
    "Sortie attendue :\n",
    "\n",
    "* [10, 20, [300, 400, [4000, 5000, [50000, 55000, 60000], 6000], 500], 30, 40]\n"
   ]
  },
  {
   "cell_type": "markdown",
   "metadata": {},
   "source": [
    "## Fonctions Boucles tests \n",
    "---"
   ]
  },
  {
   "cell_type": "markdown",
   "metadata": {
    "tags": []
   },
   "source": [
    "### exercice 10\n",
    "---------------------------------\n",
    "Une légende de l'Inde ancienne raconte que le jeu d'échecs a été inventé par un vieux sage, que son roi voulut remercier en lui affirmant qu'il lui accorderait n'importe quel cadeau en récompense. Le vieux sage demanda qu'on lui fournisse simplement un peu de riz pour ses vieux jours et plus précisément un nombre de grains de riz suffisant pour que l'on puisse en déposer 1 seul sur la première case du jeu qu'il venait d'inventer, deux sur la suivante, quatre sur la troisième et ainsi de suite jusqu'à la 64e case. Écrivez un programme Python qui affiche le nombre de grains à déposer sur chacune des 64 cases du jeu. Calculez ce nombre de deux manières :\n",
    "\n",
    "- le nombre exact de grains (nombre entier)\n",
    "- le nombre de grains en notation scientifique (nombre réel)"
   ]
  },
  {
   "cell_type": "markdown",
   "metadata": {
    "jp-MarkdownHeadingCollapsed": true,
    "tags": []
   },
   "source": [
    "### exercice 11\n",
    "---\n",
    "ecrire un simple script qui dessine dans un sens et dans l'autre : \n",
    "\n",
    "- a\n",
    "- aa\n",
    "- aaa\n",
    "- aaaa\n",
    "- aaaaa\n",
    "- aaaaaa\n",
    "- aaaaaaa\n",
    "- aaaaaaaa\n",
    "- aaaaaaaaa\n",
    "- aaaaaaaaaa"
   ]
  },
  {
   "cell_type": "markdown",
   "metadata": {
    "jp-MarkdownHeadingCollapsed": true,
    "tags": []
   },
   "source": [
    "### exercice 12\n",
    "---\n",
    "Ecrire un programme en langage Python qui demande à l'utilisateur de saisir son âge et de lui afficher le message « vous êtes Majeur ! » si l’âge tapé est supérieur ou égale à 18 et le message « vous êtes mineur ! » si l’âge tapé est inférieur à 18\n"
   ]
  },
  {
   "cell_type": "markdown",
   "metadata": {
    "jp-MarkdownHeadingCollapsed": true,
    "tags": []
   },
   "source": [
    "### exercice 13\n",
    "---\n",
    "\n",
    "L'utilisateur donne un entier supérieur à 1 et le programme affiche, s'il y en a, tous ses diviseurs propres sans répétition ainsi que leur nombre. S'il n'y en a pas, il indique qu'il est premier. \n",
    "Par exemple :\n",
    "- Entrez un entier strictement positif : 12\n",
    "- Diviseurs propres sans répétition de 12 : 2 3 4 6 (soit 4 diviseurs propres)\n",
    "- Entrez un entier strictement positif : 13\n",
    "- Diviseurs propres sans répétition de 13 : aucun ! Il est premier\n"
   ]
  },
  {
   "cell_type": "markdown",
   "metadata": {},
   "source": [
    "### exercice 14\n",
    "---\n",
    "Ecrire un programme en Python qui demande à l'utilisateur de saisir un nombre entier n et de lui afficher la valeur de la somme des carrés des nombres impairs : 1 **2 + 3 **2 + 5 **2 + 7 **2 …  (2n+1)**2 =\n"
   ]
  },
  {
   "cell_type": "markdown",
   "metadata": {},
   "source": [
    "### exercice 15\n",
    "---\n",
    "En mathématiques, la suite de Fibonacci est une suite d'entiers dans laquelle chaque terme est la somme des deux termes qui le précèdent. Elle commence généralement par les termes 0 et 1 (parfois 1 et 1) et ses premiers termes sont 0, 1, 1, 2, 3, 5, 8, 13, 21, 34, 55, 89, etc.\n",
    "\n",
    "Écrivez un programme paramétrique qui fournit la série de Fibonacci pour obtenir les valeurs de n termes."
   ]
  },
  {
   "cell_type": "markdown",
   "metadata": {},
   "source": [
    "### exercice 16\n",
    "---\n",
    "Initialisez deux entiers : a = 0 et b = 10 .\n",
    "Écrire une boucle affichant et incrémentant la valeur de a tant qu’elle reste inférieure\n",
    "à celle de b .\n",
    "Écrire une autre boucle décrémentant la valeur de b et affichant sa valeur si elle est\n",
    "impaire. Boucler tant que b n’est pas nul."
   ]
  },
  {
   "cell_type": "markdown",
   "metadata": {},
   "source": [
    "### exercice 17\n",
    "---\n",
    "\n",
    "Un village comptait 4000 habitants en 2000. Chaque année depuis, cette population a augmenté de 3% d'une année à la suivante.\n",
    "\n",
    "Écrire un programme qui calcule le nombre d'habitants dans ce village en 2001, puis 2002, puis 2010, pusi cette année.\n",
    "\n",
    "Modifier le programme précédent pour qu'il détermine en quelle année la population du village aura triplé.\n"
   ]
  },
  {
   "cell_type": "markdown",
   "metadata": {},
   "source": [
    "###  exercice 18\n",
    "---\n",
    "Écrire un programme Python sous forme de fonction qui prend deux entiers n, et m comme argument et renvoie le plus petit entier multiple de m supérieur ou égal à n.\n",
    "\n",
    "    Exemple pour n = 7, et m = 3, la fonction renvoie le plus petit nombre multiple de 3 supérieur ou égal à 7 qui est 3x3 = 9."
   ]
  },
  {
   "cell_type": "markdown",
   "metadata": {},
   "source": [
    "### exercice 19\n",
    "---\n",
    "En entrée demander à quelqu'un de saisir, son nom, prénom, email, et mot de passe, le tout séparés par un \"-\" : \n",
    "* exemple : Jon-Carpenter-jon.Carpenter@gmail.com-passwd\n",
    "ensuite vous devrer déchiffrer son message pour lui afficher sur 3 lignes : \n",
    "* votre nom : Carpenter\n",
    "* votre prenom : Jon\n",
    "* Votre email : jon.Carpenter@gmail.com\n",
    "* Votre mdp : passwd"
   ]
  },
  {
   "cell_type": "markdown",
   "metadata": {},
   "source": [
    "## Chaines de caractère, Listes "
   ]
  },
  {
   "cell_type": "markdown",
   "metadata": {},
   "source": [
    "###  exercice 20\n",
    "---\n",
    "Ecrire un programme qui prend en entrée une chaine de caracteres entrée par un utilisateur. Le programme va insérer tous les 2 caracteres le signe \"*\". \n",
    "Il va ensuite concaténer les 2 mots et l'afficher."
   ]
  },
  {
   "cell_type": "markdown",
   "metadata": {},
   "source": [
    "###  exercice 21\n",
    "------\n",
    "définir la liste : liste =[25, 76, 17, 89, 35, 47, 56, 23, 56, 83, 10, 34, 15, 55, 25, 75, 41,\n",
    "       76, 58, 37]) , puis effectuez les actions suivantes :\n",
    "* triez et affichez la liste ;\n",
    "* ajoutez l’élément 12 à la liste et affichez la liste ;\n",
    "* renversez et affichez la liste ;\n",
    "* affichez l’indice de l’élément 17 ;\n",
    "* enlevez l’élément 38 et affichez la liste ;\n",
    "* affichez la sous-liste du 2 e au 3 e élément ;\n",
    "* affichez la sous-liste du début au 2 e élément ;\n",
    "* affichez la sous-liste du 3 e élément à la fin de la liste ;\n",
    "* affichez la sous-liste complète de la liste ;"
   ]
  },
  {
   "cell_type": "markdown",
   "metadata": {},
   "source": [
    "###  exercice 22\n",
    "---\n",
    "Ecrire un programme en Python qui demande à l’utilisateur de saisir une chaine de caractère s et de lui renvoyer un message indiquant si la chaine contient la lettre 'a' tout en indiquant sa position sur la chaine. Exemple si l’utilisateur tape la chaine s = ‘langage’ le programme lui renvoie : La lettre 'a' se trouve à la position : 1 La lettre 'a' se trouve à la position : 4"
   ]
  },
  {
   "cell_type": "markdown",
   "metadata": {},
   "source": [
    "###  exercice 23\n",
    "---\n",
    "Ecrire un programme en Python qui permet de lister les chaines qui composent la liste l = [\"laptop\", \"iphone\", \"tablet\"] tout en indiquant la longueur de chaque chaine. "
   ]
  },
  {
   "cell_type": "markdown",
   "metadata": {},
   "source": [
    "###  exercice 24\n",
    "---\n",
    "\n",
    "Soit la liste de nombres [8, 3, 12.5, 45, 25.5, 52, 1]. Triez les nombres de cette liste par ordre croissant, sans utiliser la fonction sort(). \n",
    "\n",
    "Les fonctions et méthodes min(), .append() et .remove() vous seront utiles."
   ]
  },
  {
   "cell_type": "markdown",
   "metadata": {},
   "source": [
    "###  exercice 25\n",
    "----\n",
    "Ecrire un programme en langage Python, qui permet de compter le nombre de consonnes dans une chaine donnée. On pourra tester que ce ne sont pas des voyelles."
   ]
  },
  {
   "cell_type": "markdown",
   "metadata": {
    "tags": []
   },
   "source": [
    "###  exercice 26\n",
    "---\n",
    "Le nombre mystère¶\n",
    "Trouvez le nombre mystère qui répond aux conditions suivantes :\n",
    "\n",
    "- Il est composé de 3 chiffres.\n",
    "- Il est strictement inférieur à 300.\n",
    "- Il est pair.\n",
    "- Deux de ses chiffres sont identiques.\n",
    "- La somme de ses chiffres est égale à 7.\n",
    "On vous propose d'employer une méthode dite « brute force », c'est-à-dire d'utiliser une boucle et à chaque itération de tester les différentes conditions.\n"
   ]
  },
  {
   "cell_type": "markdown",
   "metadata": {},
   "source": [
    "### exercice 27\n",
    "---\n",
    "Ecrire un algorithme python sous forme de fonction qui prend en paramètres une liste l et renvoie un tuple de deux listes (l_even, l_odd) où l_even est composé des éléments de l d'indexe pair et l_old est constitué par les éléments d'indexe impair .\n",
    "\n",
    "Exemple: si:\n",
    "\n",
    "    L = [\"Python\", \"Java\", \"C ++\", \"C #\", \"VB.Net\", \"Javascript\"]\n",
    " \n",
    "\n",
    "l'algorithme renvoie:\n",
    "\n",
    "    (['Python', 'C ++', 'VB.Net'], ['Java', 'C #', 'Javascript'])\n",
    "\n"
   ]
  },
  {
   "cell_type": "markdown",
   "metadata": {},
   "source": [
    "###  exercice 28\n",
    "---\n",
    "Écrire un programme Python qui permet de supprimer les éléments dupliqués d'une liste.\n"
   ]
  },
  {
   "cell_type": "markdown",
   "metadata": {},
   "source": [
    "###  exercice 29\n",
    "---\n",
    "Ecrire un programme qui à partir d'une liste\n",
    "et une valeur, renvoie la liste de tous les\n",
    "indices où se trouve cette valeur dans la liste."
   ]
  },
  {
   "cell_type": "markdown",
   "metadata": {},
   "source": [
    "###  exercice 30\n",
    "---\n",
    "Etant donnée la liste des notes des élèves :  notes = [12 , 14 , 4 , 1 , 18 , 13 ,  07, 6 , 05 , 09 , 12 , 08 , 14 , 16]  \n",
    "* Ecrire un programme Python qui permet d'extraire  de cette liste et créer une autre liste qui contient uniquement les notes au dessus de la myenne ( les notes  >= 10 )\n",
    "* Idem avec les notes < 10. Dites quel groupe est le plus grand. \n",
    "* calculez la moyenne \n"
   ]
  },
  {
   "cell_type": "markdown",
   "metadata": {},
   "source": [
    "###  exercice 31\n",
    "---\n",
    "Ecrire un programme Python qui permet de regrouper dans une liste les mots communs à deux chaines s1 et s2.\n"
   ]
  },
  {
   "cell_type": "markdown",
   "metadata": {},
   "source": [
    "###  exercice 32\n",
    "---\n",
    "Créez une fonction Python, appelée nombreDivisibles, qui s'applique à une liste de nombres et un entier n, et qui renvoie le nombre d’éléments de la liste qui sont divisible par n."
   ]
  },
  {
   "cell_type": "markdown",
   "metadata": {},
   "source": [
    "###  exercice 34\n",
    "---\n",
    " L = [0, 1, 2, 3, 4, 5, 6, 7, 8, 9]\n",
    " à partir de L:  \n",
    "    1. Multipliez chaque élément de la liste par 3.  \n",
    "    2. Ajouter la valeur 11 à la fin de la liste.  \n",
    "    3. Ajouter les valeurs 12 et 13 à la fin de la liste.  \n",
    "    4. Afficher le premier élément, les deux premiers éléments, le dernier élément, les deux derniers éléments.  \n",
    "    5. Construire la liste \"paires\" qui contient les nombres paires de L et la liste \"impaire\" qui contient les nombres \"impaires\" de L.\n",
    "    -> boucle for et liste compréhension  \n",
    "    6. Ajouter la valeur 3.5 entre 3 et 4.  \n",
    "    7. Supprimer la valeur 3.5.  \n",
    "    8. Inverser l'ordre des éléments de L.  \n",
    "    9 Demander à l'utilisateur de fournir un nombre au hasard et dire si ce nombre est présent dans L.  "
   ]
  },
  {
   "cell_type": "markdown",
   "metadata": {
    "tags": []
   },
   "source": [
    "## Dictionnaires "
   ]
  },
  {
   "cell_type": "markdown",
   "metadata": {},
   "source": [
    "### exercice 34\n",
    "---\n",
    "mydict = {\"device\": \"laptop\" , \"constructeur\": \"acer\" , \"ram\": \"8G\" , \n",
    "\"processeur\": \"Intel core i5\", \"stockage\": \"500 G\"}\n",
    "\n",
    "1) Corriger l'erreur \"stockage\": \"750 G\"\n",
    "2) Créer un programme qui affiche la liste des clés, la liste des valeurs\n",
    "et la liste des paires de clés et valeurs\n",
    "3)Inverser les paires \"processeur\": \"Intel core i5\" et \"stockage\": \"500 G\"\n",
    "4) Ajouter la pair clé-valeur : \"Système d'exploitation\" : \"Windows 10\""
   ]
  },
  {
   "cell_type": "markdown",
   "metadata": {},
   "source": [
    "### exercice 35\n",
    "---\n",
    "voici un dictionnaire : dict1 = {\"a\": 1, \"d\": 4, \"g\": 7}\n",
    "1. faire une boucle dans laquelle vous ecrivez les couples clef/valeur\n",
    "2. remplacez une des valeur par exemple celle associée à la clef \"d\" par la somme des valeurs associées aux deux autres clefs"
   ]
  },
  {
   "cell_type": "markdown",
   "metadata": {},
   "source": [
    "###  exercice 36\n",
    "---\n",
    "Creer une fonction occurences.  \n",
    "* La fonction occurences(L) prend en paramètre une liste\n",
    "* La fonction occurences(L) renvoie un dictionnaire dont les clés sont les éléments de la liste et les valeurs le nombre de fois que l'élément apparaît.\n",
    "\n",
    "Exemple de liste en entrée : \n",
    "['a', 'b', 'a', 'd', 'a', 'c', 'b', 'c', 'e']"
   ]
  },
  {
   "cell_type": "markdown",
   "metadata": {
    "tags": []
   },
   "source": [
    "###  exercice 37\n",
    "---\n",
    "\n",
    "    On dispose d’un dictionnaire associant à des noms de commerciaux d’une société le nombre de ventes qu’ils ont réalisées. Par exemple :\n",
    "\n",
    "```python\n",
    "ventes={\"Dupont\":14, \"Hervy\":19, \"Geoffroy\":15, \"Layec\":21}\n",
    "```\n",
    "\n",
    "    1. Écrivez une fonction qui prend en entrée un tel dictionnaire et renvoie le nombre total de ventes dans la société.\n",
    "    2. Écrivez une fonction qui prend en entrée un tel dictionnaire et renvoie le nom du vendeur ayant réalisé le plus de ventes. Si plusieurs vendeurs sont ex-aequo sur ce critère, la fonction devra retourner le nom de l’un d’entre eux.\n"
   ]
  },
  {
   "cell_type": "markdown",
   "metadata": {},
   "source": [
    "# Merci à tous "
   ]
  }
 ],
 "metadata": {
  "kernelspec": {
   "display_name": "Python 3 (ipykernel)",
   "language": "python",
   "name": "python3"
  },
  "language_info": {
   "codemirror_mode": {
    "name": "ipython",
    "version": 3
   },
   "file_extension": ".py",
   "mimetype": "text/x-python",
   "name": "python",
   "nbconvert_exporter": "python",
   "pygments_lexer": "ipython3",
   "version": "3.9.13"
  },
  "toc": {
   "base_numbering": 1,
   "nav_menu": {},
   "number_sections": true,
   "sideBar": true,
   "skip_h1_title": false,
   "title_cell": "Table of Contents",
   "title_sidebar": "Contents",
   "toc_cell": false,
   "toc_position": {},
   "toc_section_display": true,
   "toc_window_display": false
  },
  "varInspector": {
   "cols": {
    "lenName": 16,
    "lenType": 16,
    "lenVar": 40
   },
   "kernels_config": {
    "python": {
     "delete_cmd_postfix": "",
     "delete_cmd_prefix": "del ",
     "library": "var_list.py",
     "varRefreshCmd": "print(var_dic_list())"
    },
    "r": {
     "delete_cmd_postfix": ") ",
     "delete_cmd_prefix": "rm(",
     "library": "var_list.r",
     "varRefreshCmd": "cat(var_dic_list()) "
    }
   },
   "types_to_exclude": [
    "module",
    "function",
    "builtin_function_or_method",
    "instance",
    "_Feature"
   ],
   "window_display": false
  }
 },
 "nbformat": 4,
 "nbformat_minor": 4
}
