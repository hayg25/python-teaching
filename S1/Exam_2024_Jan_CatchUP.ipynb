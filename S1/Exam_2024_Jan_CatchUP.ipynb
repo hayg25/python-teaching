{
 "cells": [
  {
   "cell_type": "markdown",
   "metadata": {
    "tags": []
   },
   "source": [
    "# Examen de python niveau 1 \n",
    "\n",
    "Vous avez 2h pour faire un maximum d'exercices. Surtout pas d'inquiétude.   \n",
    "Première chose à faire : renommer le fichier en l'appelant **Exam_Jan_2024_Nom_Prenom.ipynb**  \n",
    "Dès que vous avec fini envoyez moi le fichier à mon adresse (hayg.guler@ijclab.in2p3.fr)  \n",
    "\n",
    "* Pour chaque exercice, vous ouvrer une cellule en dessous \n",
    "    * la commande b le fait pour vous\n",
    "    * pour effacer une cellule, on utilise la commande dd\n",
    "    * pour executer une cellule : Shift-Entrée\n"
   ]
  },
  {
   "cell_type": "markdown",
   "metadata": {
    "tags": []
   },
   "source": [
    "## Variables"
   ]
  },
  {
   "cell_type": "markdown",
   "metadata": {
    "tags": []
   },
   "source": [
    "### exercice 1\n",
    "---\n",
    "Écrire un programme, qui définit en une seule ligne (un seul =) 3 variables : une variable de type texte, une variable de type liste, une variable de type dictionnaire et qui affiche leur type."
   ]
  },
  {
   "cell_type": "markdown",
   "metadata": {},
   "source": [
    "### exercice 2\n",
    "---\n",
    "\n",
    "Supposons que vous ayez une variable appelée temperature qui stocke la température en degrés Celsius. Vous devez convertir cette température en degrés Fahrenheit. La formule de conversion est la suivante :\n",
    "```\n",
    "Fahrenheit = (Celcius * 9/5) + 32\n",
    "```\n",
    "\n",
    "Maintenant, écrivez une ligne de code en Python pour effectuer cette conversion et stocker le résultat dans une variable appelée temperature_fahrenheit."
   ]
  },
  {
   "cell_type": "markdown",
   "metadata": {},
   "source": [
    "### exercice 3\n",
    "---\n",
    "\n",
    "Écrire un programme qui, à partir de la saisie d’un rayon et d’une hauteur, calcule le volume d’un\n",
    "cône droit : V = 13 × π×r 2 × h. Comparer la précision de calcul avec votre calculatrice ou celle de l’ordinateur.\n",
    "\n",
    "Note : pour Pi, il faut voir dans le module math qu'il faudra importer"
   ]
  },
  {
   "cell_type": "markdown",
   "metadata": {},
   "source": [
    "### exercice 4\n",
    "---\n",
    "\n",
    "Demandez à l'utilisateur d'entrer son prénom et son âge. Ensuite, écrivez une ligne de code en Python qui utilise ces informations pour afficher un message personnalisé. Par exemple, \n",
    "si l'utilisateur entre \"Alice\" comme prénom et 25 comme âge, le programme pourrait afficher \"Bonjour Alice ! Vous avez 25 ans.\""
   ]
  },
  {
   "cell_type": "markdown",
   "metadata": {},
   "source": [
    "### exercice 5\n",
    "---\n",
    "\n",
    "Demandez à l'utilisateur d'entrer deux nombres entiers. Ensuite, écrivez une séquence de code en Python qui effectue les opérations suivantes :\n",
    "\n",
    "1. Additionne ces deux nombres.\n",
    "2. Multiplie le résultat par 3.\n",
    "3. Soustrait 7.\n",
    "\n",
    "Affichez finalement le résultat de ces opérations."
   ]
  },
  {
   "cell_type": "markdown",
   "metadata": {},
   "source": [
    "### exercice 6\n",
    "---\n",
    "\n",
    "Ecrire un programme en Python qui demande à l'utilisateur de saisir deux nombres a et b et de lui afficher leur maximum.\n"
   ]
  },
  {
   "cell_type": "markdown",
   "metadata": {},
   "source": [
    "## Fonctions Boucles tests "
   ]
  },
  {
   "cell_type": "markdown",
   "metadata": {},
   "source": [
    "### exercice 7\n",
    "---\n",
    "\n",
    "Écrivez un programme Python qui demande à l'utilisateur de deviner un nombre secret compris entre 1 et 10. Utilisez une boucle pour permettre à l'utilisateur de continuer à deviner tant qu'il n'a pas trouvé le nombre secret. À chaque tentative, indiquez à l'utilisateur si sa proposition est trop basse, trop élevée ou correcte. Une fois qu'il a trouvé le nombre secret, affichez un message de félicitations avec le nombre de tentatives nécessaires."
   ]
  },
  {
   "cell_type": "markdown",
   "metadata": {},
   "source": [
    "### exercice 8\n",
    "---\n",
    "ecrire un simple script qui dessine dans un sens et dans l'autre : \n",
    "\n",
    "- a\n",
    "- bbb\n",
    "- aaaaa\n",
    "- bbbbbbb\n",
    "- aaaaaaaaa\n",
    "- bbbbbbbbbbb\n",
    "- aaaaaaaaaaaaa\n",
    "- bbbbbbbbbbbbbbb"
   ]
  },
  {
   "cell_type": "markdown",
   "metadata": {},
   "source": [
    "### exercice 9\n",
    "---\n",
    "\n",
    "Ecrire un programme en langage Python qui demande à l'utilisateur de saisir son âge et de lui afficher le message « vous êtes Majeur ! » si l’âge tapé est supérieur ou égale à 18 et le message « vous êtes mineur ! » si l’âge tapé est inférieur à 18\n"
   ]
  },
  {
   "cell_type": "markdown",
   "metadata": {},
   "source": [
    "### exercice 10\n",
    "---\n",
    "\n",
    "Ecrire un programme en Python qui demande à l'utilisateur de saisir 3 nombre x, y et z et de lui afficher leur maximum"
   ]
  },
  {
   "cell_type": "markdown",
   "metadata": {},
   "source": [
    "### exercice 11\n",
    "---\n",
    "Ecrire une fonction qui prend en entrée un nombre entier n et qui renvoie la valeur de la somme 1 + 3 + 5 + … + 2n+1\n",
    "\n",
    "l'afficher en appelant la fonction. "
   ]
  },
  {
   "cell_type": "markdown",
   "metadata": {},
   "source": [
    "### exercice 12\n",
    "---\n",
    "Ecrire une fonction qui prend en entrée un nombre entier n et qui renvoie la valeur n !\n",
    "\n",
    "l'afficher en appelant la fonction. \n"
   ]
  },
  {
   "cell_type": "markdown",
   "metadata": {},
   "source": [
    "### exercice 13\n",
    "---\n",
    "Écrivez une fonction en Python appelée est_palindrome qui prend en entrée une chaîne de caractères et renvoie True si la chaîne est un palindrome, et False sinon. Un palindrome est une séquence de caractères qui se lit de la même manière de gauche à droite et de droite à gauche, en ignorant la casse et les espaces.\n",
    "\n",
    "Par exemple, les mots \"radar\" et \"Eva, can I see bees in a cave?\" sont des palindromes."
   ]
  },
  {
   "cell_type": "markdown",
   "metadata": {},
   "source": [
    "### exercice 14 \n",
    "---\n",
    "\n",
    "Ecrire un programme en Python qui demande à l’utilisateur de saisir un nombre entier n et de lui afficher tous les diviseurs de ce nombre.\n",
    "\n",
    "aide : utiliser l'opérateur modulo (%) "
   ]
  },
  {
   "cell_type": "markdown",
   "metadata": {},
   "source": [
    "### exercice 15\n",
    "---\n",
    "\n",
    "Ecrire un programme en langage Python qui demande à l'utilisateur de saisir un nombre entier n et de lui afficher si ce nombre est carré parfait ou non\n"
   ]
  },
  {
   "cell_type": "markdown",
   "metadata": {},
   "source": [
    "###  exercice 16\n",
    "---\n",
    "Ecrire un programme en langage Python qui demande à l'utilisateur de saisir un nombre entier n et de lui afficher si ce nombre est premier ou non."
   ]
  },
  {
   "cell_type": "markdown",
   "metadata": {},
   "source": [
    "### exercice 17\n",
    "--- \n",
    "Faire un programme qui va remplir une liste de noms qu'on va devoir entrer à la main et ce jusqu'au mot clef 'quit'.  \n",
    "à ce moment, vous imprimez à l'écran la taille de la liste ainsi que tous les noms.\n"
   ]
  },
  {
   "cell_type": "markdown",
   "metadata": {},
   "source": [
    "## Chaines de caractère, Listes, Dictionnaires "
   ]
  },
  {
   "cell_type": "markdown",
   "metadata": {},
   "source": [
    "###  exercice 18\n",
    "---\n",
    "Écrivez une fonction en Python appelée calculer_moyenne qui prend en entrée un dictionnaire représentant les notes d'étudiants. Chaque clé du dictionnaire est le nom d'un étudiant, et la valeur associée est une liste de notes. La fonction devrait calculer la moyenne des notes de chaque étudiant et retourner un nouveau dictionnaire où les clés sont les noms des étudiants et les valeurs sont leurs moyennes.\n",
    "Ensuite, testez votre fonction avec un exemple de dictionnaire de notes d'étudiants.\n",
    "Exemple de dictionnaire :\n",
    "```python\n",
    "notes_etudiants = {\n",
    "    \"Alice\": [85, 90, 92],\n",
    "    \"Bob\": [78, 89, 80],\n",
    "    \"Charlie\": [92, 88, 95]\n",
    "}\n",
    "```\n",
    "Résultat attendu :\n",
    "```python\n",
    "{\n",
    "    \"Alice\": 89.0,\n",
    "    \"Bob\": 82.33333333333333,\n",
    "    \"Charlie\": 91.66666666666667\n",
    "}\n",
    "```\n",
    "Cela vous permettra de travailler avec la création de fonctions, l'utilisation de dictionnaires et le calcul des moyennes."
   ]
  },
  {
   "cell_type": "markdown",
   "metadata": {},
   "source": [
    "###  exercice 19\n",
    "---\n",
    "Ecrire un programme en Python permettant d’afficher pour une chaine de caractères donnée, le nombre d’occurrences de chaque caractère dans la chaine. Exemple pour la chaine de caractère s = « Python.org » le programme doit afficher :  \n",
    "Le caractère : \" P \" figure 1 fois dans la chaine s  \n",
    "Le caractère : \" y \" figure 1 fois dans la chaine s  \n",
    "Le caractère : \" t \" figure 1 fois dans la chaine s  \n",
    "Le caractère : \" h \" figure 1 fois dans la chaine s  \n",
    "Le caractère : \" o \" figure 2 fois dans la chaine s  \n",
    "Le caractère : \" n \" figure 1 fois dans la chaine s  \n",
    "Le caractère : \" . \" figure 1 fois dans la chaine s  \n",
    "Le caractère : \" r \" figure 1 fois dans la chaine s  \n",
    "Le caractère : \" g \" figure 1 fois dans la chaine s  "
   ]
  },
  {
   "cell_type": "markdown",
   "metadata": {},
   "source": [
    "###  exercice 20\n",
    "---\n",
    "Ecrire un programme en Python qui demande à l’utilisateur de saisir une chaine de caractère s et de lui renvoyer un message indiquant si la chaine contient la lettre 'a' tout en indiquant sa position sur la chaine. Exemple si l’utilisateur tape la chaine s = ‘langage’ le programme lui renvoie : La lettre 'a' se trouve à la position : 1 La lettre 'a' se trouve à la position : 4"
   ]
  },
  {
   "cell_type": "markdown",
   "metadata": {},
   "source": [
    "###  exercice 21\n",
    "---\n",
    "\n",
    "Écrivez une fonction en Python appelée fusionner_listes qui prend en entrée deux listes d'entiers et renvoie une nouvelle liste qui contient tous les éléments des deux listes, sans doublons, et triée par ordre croissant.\n",
    "Par exemple :\n",
    "\n",
    "python\n",
    "Copy code\n",
    "```python\n",
    "liste1 = [3, 8, 12, 5, 10]\n",
    "liste2 = [5, 2, 8, 6, 15]\n",
    "```\n",
    "La fonction fusionner_listes(liste1, liste2) devrait renvoyer :\n",
    "\n",
    "python\n",
    "Copy code\n",
    "```python\n",
    "[2, 3, 5, 6, 8, 10, 12, 15]\n",
    "```\n",
    "Cela vous permettra de pratiquer la manipulation de listes, le tri et la gestion des doublons."
   ]
  },
  {
   "cell_type": "markdown",
   "metadata": {},
   "source": [
    "###  exercice 22\n",
    "------\n",
    "définir une liste de taille 20 remplie par des nombres aléatoires compris entre 1 et 100. via une fonction que vous  :\n",
    "* triez et affichez la liste ;\n",
    "* ajoutez l’élément 12 à la liste et affichez la liste ;\n",
    "* renversez et affichez la liste ;\n",
    "* affichez l’indice de l’élément de votre choix non pris aux bornes ;\n",
    "* enlevez l’élément l’élément de votre choix non pris aux bornes et affichez la liste ;\n",
    "* affichez la sous-liste du 2 e au 3 e élément ;\n",
    "* affichez la sous-liste du début au 2 e élément ;\n",
    "* affichez la sous-liste du 3 e élément à la fin de la liste ;\n",
    "* affichez la sous-liste complète de la liste ;"
   ]
  },
  {
   "cell_type": "markdown",
   "metadata": {},
   "source": [
    "###  exercice 23\n",
    "---\n",
    "Ecrire un programme en langage Python, qui permet de compter le nombre de voyelles dans une chaine donnée. Exemple pour la chaine s='anticonstitutionellement' le programme doit renvoyer le message suivant : La chaine anticonstitutionellement possède 10 voyelles."
   ]
  },
  {
   "cell_type": "markdown",
   "metadata": {},
   "source": [
    "###  exercice 24\n",
    "---\n",
    "Ecrire un programme en Python, qui permet de renvoyer le premier mot d’un texte donné. Exemple pour le texte : t ='Python est un merveilleux langage de programmation', le programme doit renvoyer Python"
   ]
  },
  {
   "cell_type": "markdown",
   "metadata": {},
   "source": [
    "###  exercice 25\n",
    "---\n",
    "Ecrire un programme en langage Python qui demande à l’utilisateur de saisir le nom d’un fichier et de lui renvoyer son extension. Exemple si l’utilisateur saisie coursPython.pdf le programme lui renvoie le message « L’extension du fichier est .pdf »."
   ]
  },
  {
   "cell_type": "markdown",
   "metadata": {},
   "source": [
    "###  exercice 26\n",
    "---\n",
    "Ecrire un programme qui demande à l’utilisateur de saisir un mot et de lui renvoyer son inverse. Exemple si l’utilisateur saisi le mot python , le programme lui renvoie nohtyp."
   ]
  },
  {
   "cell_type": "markdown",
   "metadata": {},
   "source": [
    "###  exercice 27\n",
    "---\n",
    "Écrivez une fonction en Python appelée compter_occurrences qui prend en entrée une liste d'éléments (nombres ou chaînes de caractères) et renvoie un dictionnaire indiquant le nombre d'occurrences de chaque élément dans la liste.\n",
    "Par exemple :\n",
    "\n",
    "python\n",
    "```\n",
    "elements = [1, 2, 3, 2, 4, 1, 5, 1, 3, 2, 4, 4, 5, 5, \"chat\", \"chien\", \"chat\"]\n",
    "```\n",
    "La fonction compter_occurrences(elements) devrait renvoyer :\n",
    "```\n",
    "python\n",
    "{\n",
    "    1: 3,\n",
    "    2: 3,\n",
    "    3: 2,\n",
    "    4: 3,\n",
    "    5: 2,\n",
    "    \"chat\": 2,\n",
    "    \"chien\": 1\n",
    "}\n",
    "```\n",
    "Cela vous permettra de travailler avec les boucles, les tests et la création de dictionnaires en fonction de conditions spécifiques."
   ]
  },
  {
   "cell_type": "markdown",
   "metadata": {},
   "source": [
    "###  exercice 28\n",
    "---\n",
    "Écrivez un programme Python qui prend en entrée une liste d'entiers, puis crée une nouvelle liste contenant uniquement les nombres pairs de la liste initiale. Ensuite, affichez la liste initiale et la liste des nombres pairs. Vous pouvez demander à l'utilisateur de fournir la liste d'entiers ou utiliser une liste prédéfinie."
   ]
  },
  {
   "cell_type": "markdown",
   "metadata": {},
   "source": [
    "###  exercice 29\n",
    "---\n",
    "Ecrire une fonction en Python qui permet de comparer deux listes et de nous indiquer si ces deux listes ont une valeur communes ou non."
   ]
  },
  {
   "cell_type": "markdown",
   "metadata": {},
   "source": [
    "###  exercice 30\n",
    "---\n",
    "Etant donnée la liste des notes des élèves :  notes = [12 , 04 , 14 , 11 ,  18 , 13 ,  07, 10 , 05 , 09 , 15 , 08 , 14 , 16]  \n",
    "* Ecrire un programme Python qui permet d'extraire  de cette liste et créer une autre liste qui contient uniquement les notes au dessus de la myenne ( les notes  >= 10 )\n",
    "* Idem avec les notes < 10. Dites quel groupe est le plus grand. \n",
    "* calculez la moyenne \n"
   ]
  },
  {
   "cell_type": "markdown",
   "metadata": {},
   "source": [
    "###  exercice 31\n",
    "---\n",
    "Ecrire un programme Python qui permet de regrouper dans une liste les mots communs à deux chaines s1 et s2.\n"
   ]
  },
  {
   "cell_type": "markdown",
   "metadata": {},
   "source": [
    "###  exercice 32\n",
    "---\n",
    "Créez une fonction Python, appelée nombreDivisibles, qui s'applique à une liste de nombres et un entier n, et qui renvoie le nombre d’éléments de la liste qui sont divisible par n."
   ]
  },
  {
   "cell_type": "markdown",
   "metadata": {},
   "source": [
    "###  exercice 33\n",
    "---\n",
    "Créer une fonction Python nommée InsertEtoile() qui place des \"étoiles \" entre chaque caractères d'une chaine fournie en entrée. Exemple pour la chaine s = \"Python\" , InsertEtoile(s) donne P*t*h*o*n"
   ]
  },
  {
   "cell_type": "markdown",
   "metadata": {},
   "source": [
    "###  exercice 34\n",
    "---\n",
    "\n",
    " L = [0, 1, 2, 3, 4, 5, 6, 7, 8, 9]\n",
    " à partir de L:  \n",
    "    1. Ajouter la valeur 1 à chacun de ses éléments.  \n",
    "    2. Ajouter la valeur 11 à la fin de la liste.  \n",
    "    3. Ajouter les valeurs 12 et 13 à la fin de la liste.  \n",
    "    4. Afficher le premier élément, les deux premiers éléments, le dernier élément, les deux derniers éléments.  \n",
    "    5. Construire la liste \"paires\" qui contient les nombres paires de L et la liste \"impaire\" qui contient les nombres \"impaires\" de L.\n",
    "    -> boucle for et liste compréhension  \n",
    "    6. Ajouter la valeur 3.5 entre 3 et 4.  \n",
    "    7. Supprimer la valeur 3.5.  \n",
    "    8. Inverser l'ordre des éléments de L.  \n",
    "    9 Demander à l'utilisateur de fournir un nombre au hasard et dire si ce nombre est présent dans L.  "
   ]
  },
  {
   "cell_type": "markdown",
   "metadata": {},
   "source": [
    "### exercice 35\n",
    "---\n",
    "voici un dictionnaire : dict1 = {\"a\": 1, \"d\": 4, \"g\": 7}\n",
    "1. faire une boucle dans laquelle vous ecrivez les couples clef/valeur\n",
    "2. remplacez une des valeur par exemple celle associée à la clef \"d\" par la somme des valeurs associées aux deux autres clefs"
   ]
  },
  {
   "cell_type": "markdown",
   "metadata": {},
   "source": [
    "###  exercice 36\n",
    "---\n",
    "d = {'nom': 'Dupuis', 'prenom': 'Jacque', 'age': 30}\n",
    "\n",
    "    1. Corriger l'erreur dans le prénom, la bonne valeur est 'Jacques'.\n",
    "    2. Afficher la liste des clés du dictionnaire.\n",
    "    3. Afficher la liste des valeurs du dictionnaire.\n",
    "    4. Afficher la liste des paires clé/valeur du dictionnaire.\n",
    "    5. Ecrire la phrase \"Jacques Dupuis a 30 ans\".\n"
   ]
  },
  {
   "cell_type": "markdown",
   "metadata": {},
   "source": [
    "###  exercice 37\n",
    "---\n",
    "\n",
    "    On dispose d’un dictionnaire associant à des noms de commerciaux d’une société le nombre de ventes qu’ils ont réalisées. Par exemple :\n",
    "\n",
    "```python\n",
    "ventes={\"Dupont\":14, \"Hervy\":19, \"Geoffroy\":15, \"Layec\":21}\n",
    "```\n",
    "\n",
    "    1. Écrivez une fonction qui prend en entrée un tel dictionnaire et renvoie le nombre total de ventes dans la société.\n",
    "    2. Écrivez une fonction qui prend en entrée un tel dictionnaire et renvoie le nom du vendeur ayant réalisé le plus de ventes. Si plusieurs vendeurs sont ex-aequo sur ce critère, la fonction devra retourner le nom de l’un d’entre eux.\n"
   ]
  },
  {
   "cell_type": "markdown",
   "metadata": {},
   "source": [
    "# Merci à tous "
   ]
  }
 ],
 "metadata": {
  "kernelspec": {
   "display_name": "Python 3 (ipykernel)",
   "language": "python",
   "name": "python3"
  },
  "language_info": {
   "codemirror_mode": {
    "name": "ipython",
    "version": 3
   },
   "file_extension": ".py",
   "mimetype": "text/x-python",
   "name": "python",
   "nbconvert_exporter": "python",
   "pygments_lexer": "ipython3",
   "version": "3.11.3"
  },
  "toc": {
   "base_numbering": 1,
   "nav_menu": {},
   "number_sections": true,
   "sideBar": true,
   "skip_h1_title": false,
   "title_cell": "Table of Contents",
   "title_sidebar": "Contents",
   "toc_cell": false,
   "toc_position": {},
   "toc_section_display": true,
   "toc_window_display": false
  },
  "varInspector": {
   "cols": {
    "lenName": 16,
    "lenType": 16,
    "lenVar": 40
   },
   "kernels_config": {
    "python": {
     "delete_cmd_postfix": "",
     "delete_cmd_prefix": "del ",
     "library": "var_list.py",
     "varRefreshCmd": "print(var_dic_list())"
    },
    "r": {
     "delete_cmd_postfix": ") ",
     "delete_cmd_prefix": "rm(",
     "library": "var_list.r",
     "varRefreshCmd": "cat(var_dic_list()) "
    }
   },
   "types_to_exclude": [
    "module",
    "function",
    "builtin_function_or_method",
    "instance",
    "_Feature"
   ],
   "window_display": false
  }
 },
 "nbformat": 4,
 "nbformat_minor": 4
}
