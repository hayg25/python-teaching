{
 "cells": [
  {
   "cell_type": "markdown",
   "metadata": {},
   "source": [
    "# Examen de python niveau 1 \n",
    "\n",
    "Vous avez 2h pour faire un maximum d'exercices. Surtout pas d'inquiétude.   \n",
    "Première chose à faire : renommer le fichier en l'appelant **Exam_2024_Nom_Prenom.ipynb**  \n",
    "Dès que vous avec fini envoyez moi le fichier à mon adresse (hayg.guler@ijclab.in2p3.fr)  \n",
    "\n",
    "* Pour chaque exercice, vous ouvrer une cellule en dessous \n",
    "    * la commande b le fait pour vous\n",
    "    * pour effacer une cellule, on utilise la commande dd\n",
    "    * pour executer une cellule : Shift-Entrée\n"
   ]
  },
  {
   "cell_type": "markdown",
   "metadata": {},
   "source": [
    "## Variables\n",
    "---"
   ]
  },
  {
   "cell_type": "markdown",
   "metadata": {},
   "source": [
    "### exercice 1\n",
    "---\n",
    "Écrire un programme, qui définit 3 variables : une variable de type liste, une variable de type dictionnaire, une variable de type chaîne de caractères et qui affiche leur type."
   ]
  },
  {
   "cell_type": "markdown",
   "metadata": {},
   "source": [
    "### exercice 2\n",
    "---\n",
    "Peut-on passer d'un type à un autre ? par exemple d'un dictionnaire à une liste ?  \n",
    "On pourra appliquer aux variables précédentes les fonctions suivantes :  \n",
    "* list()\n",
    "* dict()\n",
    "* str()"
   ]
  },
  {
   "cell_type": "markdown",
   "metadata": {
    "jp-MarkdownHeadingCollapsed": true,
    "tags": []
   },
   "source": [
    "### exercice 3\n",
    "---\n",
    "Instructions :\n",
    "\n",
    "1. Déclare trois variables : a, b, et c.\n",
    "2. Les variables a et b représentent deux nombres entiers que tu choisis.\n",
    "3. La variable c représente la somme de a et b.\n",
    "4. Affiche le résultat sous la forme : \"La somme de a et b est c\".\n"
   ]
  },
  {
   "cell_type": "markdown",
   "metadata": {
    "jp-MarkdownHeadingCollapsed": true,
    "tags": []
   },
   "source": [
    "### exercice 4\n",
    "---\n",
    "Ecrire un programme en langage Python qui demande à l'utilisateur de saisir son nom prenom et adresse mail (sur une meme ligne) et de lui afficher sous la forme : \n",
    "\n",
    "* nom : \n",
    "* prenom : \n",
    "* email : "
   ]
  },
  {
   "cell_type": "markdown",
   "metadata": {
    "jp-MarkdownHeadingCollapsed": true,
    "tags": []
   },
   "source": [
    "### exercice 5\n",
    "---\n",
    "Ecrire un programme en Python qui demande à l'utilisateur de saisir deux nombres réels a et b et de lui afficher leur quotient : \n",
    "$$ \n",
    "    \\frac{a} {\\sqrt{b}}\n",
    "$$\n",
    "\n",
    "mettez une condition pour que si le dénominateur est negatif ou nul, alors la fraction n'existe pas. \n"
   ]
  },
  {
   "cell_type": "markdown",
   "metadata": {
    "tags": []
   },
   "source": [
    "### exercice 6\n",
    "--------------------\n",
    "Ecrire un programme en Python qui demande à l'utilisateur de saisir deux mots et de lui afficher celui qui est le plus long, le plus court ainsi que leur tailles respectives. \n",
    "\n",
    "Créer un 3 eme mot qui est la concaténation des deux premiers, puis afficher le tout en majuscule. \n"
   ]
  },
  {
   "cell_type": "markdown",
   "metadata": {
    "tags": []
   },
   "source": [
    "### exercice 7\n",
    "---\n",
    "Entrée : \n",
    "* list1 = [\"M\", \"na\", \"i\", \"Son\"]\n",
    "* list2 = [\"y\", \"me\", \"s\", \"Goku\"]\n",
    "\n",
    "trouver la methode pour avoir en sortie : \n",
    "* ['My', 'name', 'is', 'SonGoku']"
   ]
  },
  {
   "cell_type": "markdown",
   "metadata": {
    "tags": []
   },
   "source": [
    "### exercice 8\n",
    "---------------------------\n",
    "Entrée : \n",
    "* numbers = [1, 2, 3, 4, 5, 6, 7]\n",
    "sortie attendue : \n",
    "* [3, 13, 37, 81, 151, 253, 393]\n",
    "\n",
    "Astuce : 2^3 + 2^2 + 1 = 13"
   ]
  },
  {
   "cell_type": "markdown",
   "metadata": {
    "tags": []
   },
   "source": [
    "### exercice 9\n",
    "-------------------\n",
    "Ecrit un programme qui ajoute 60000 juste avant le 70000 de la liste : \n",
    "\n",
    "\n",
    "* list1 = [10, 20, [300, 400, [5000,[50000, 70000] , 6000], 500], 30, 40]\n",
    "\n",
    "Sortie attendue :\n",
    "\n",
    "* list1 = [10, 20, [300, 400, [5000,[50000, 60000, 70000] , 6000], 500], 30, 40]"
   ]
  },
  {
   "cell_type": "markdown",
   "metadata": {},
   "source": [
    "## Boucles et tests \n",
    "---"
   ]
  },
  {
   "cell_type": "markdown",
   "metadata": {},
   "source": [
    "### exercice 10\n",
    "---------------------------------\n",
    "\n",
    "Vous devez générer, un \"nombre mystère\" aléatoirement entre 1 et 50 inclus que vous stockerez dans une variable.\n",
    "\n",
    "Puis vous demanderez à l'utilisateur d'essayer de deviner le nombre, si le nombre entré n'est pas le même que le nombre mystère alors vous affichez si le nombre mystère est plus petit ou plus grand du nombre entré, sachant que l'utilisateur a maximum 7 essais si il ne trouve pas le nombre après les 7 essais, le joueur aura perdu.\n",
    "\n",
    "Modules : random (randint)\n",
    "\n",
    "```python\n",
    "from random import randint\n",
    "```"
   ]
  },
  {
   "cell_type": "markdown",
   "metadata": {},
   "source": [
    "### exercice 11\n",
    "----------------------\n",
    "\n",
    "1. Crée une liste appelée nombres qui contient les éléments suivants : 1, 2, 3, 4, 5.\n",
    "2. Ajoute le nombre 6 à la fin de la liste.\n",
    "3. Supprime le premier élément de la liste.\n",
    "4. Affiche le deuxième élément de la liste.\n",
    "5. Affiche la longueur de la liste.\n",
    "6. Affiche la liste à l'envers."
   ]
  },
  {
   "cell_type": "markdown",
   "metadata": {},
   "source": [
    "### exercice 12\n",
    "---\n",
    "Trouver les nombres pairs dans une plage en Python\n",
    "\n",
    "**Objectif** : Écrire un programme Python qui trouve et affiche tous les nombres pairs dans une plage donnée.\n",
    "\n",
    "#### Instructions :\n",
    "1. Demander à l'utilisateur de saisir deux nombres entiers : une borne inférieure et une borne supérieure.\n",
    "2. Utiliser une boucle `for` pour parcourir tous les nombres de cette plage.\n",
    "3. Pour chaque nombre, tester s'il est pair (utiliser l'opérateur modulo `%`).\n",
    "4. Afficher uniquement les nombres pairs.\n",
    "\n",
    "#### Exemple :\n",
    "Si l'utilisateur entre la borne inférieure 3 et la borne supérieure 10, le programme doit afficher :  \n",
    "```\n",
    "Les nombres pairs entre 3 et 10 sont : 4, 6, 8, 10\n",
    "```\n",
    "\n",
    "### Challenge supplémentaire :\n",
    "1. Modifier le programme pour qu'il affiche aussi les nombres impairs, avec une distinction claire entre les deux listes.\n",
    "2. Demander à l'utilisateur si les bornes doivent être incluses dans la plage ou non."
   ]
  },
  {
   "cell_type": "markdown",
   "metadata": {},
   "source": [
    "### exercice 13\n",
    "---\n",
    "L'utilisateur donne un entier positif supérieur à 50 et le programme annonce combien de fois de suite cet entier est divisible par 3.\n",
    "\n",
    "Si le nombre est inférieur à 50, le programme doit afficher un message d'erreur.\n"
   ]
  },
  {
   "cell_type": "markdown",
   "metadata": {},
   "source": [
    "### exercice 14\n",
    "---\n",
    "Ecrire un programme en Python qui demande à l'utilisateur de saisir un nombre entier n et de lui afficher la valeur du produit 1 x 3 x 5 x 7 x … x (2n+1)\n"
   ]
  },
  {
   "cell_type": "markdown",
   "metadata": {},
   "source": [
    "### exercice 15\n",
    "---\n",
    "Ecrire un programme en Python qui demande à l'utilisateur de saisir un nombre entier n et de lui afficher le produit des nombres pairs stricement inferieurs à n"
   ]
  },
  {
   "cell_type": "markdown",
   "metadata": {},
   "source": [
    "### exercice 16\n",
    "---\n",
    "Initialisez deux entiers : a = 0 et b = 10 .\n",
    "Écrire une boucle affichant et incrémentant la valeur de a tant qu’elle reste inférieure\n",
    "à celle de b .\n",
    "Écrire une autre boucle décrémentant la valeur de b et affichant sa valeur si elle est\n",
    "impaire. Boucler tant que b n’est pas nul."
   ]
  },
  {
   "cell_type": "markdown",
   "metadata": {},
   "source": [
    "### exercice 17\n",
    "---\n",
    "\n",
    "**Objectif** : Créer un programme Python qui génère les termes d'une suite géométrique.\n",
    "\n",
    "#### Instructions :\n",
    "1. Demander à l'utilisateur de saisir le premier terme de la suite (appelé `a`), la raison (appelée `r`), et le nombre de termes (appelé `n`).\n",
    "2. Créer une liste qui contient les `n` premiers termes de la suite géométrique.\n",
    "3. Afficher la liste des termes.\n",
    "\n",
    "#### Rappel : \n",
    "Une suite géométrique est définie par la formule suivante pour un terme \\( u_n \\) :\n",
    "\n",
    "\\[\n",
    "u_n = a \\times r^{n-1}\n",
    "\\]\n",
    "\n",
    "où :\n",
    "- \\( a \\) est le premier terme,\n",
    "- \\( r \\) est la raison,\n",
    "- \\( n \\) est le nombre de termes.\n",
    "\n",
    "#### Exemple :\n",
    "Si l'utilisateur entre \\( a = 2 \\), \\( r = 3 \\), et \\( n = 5 \\), le programme doit afficher :  \n",
    "```\n",
    "Les 5 premiers termes de la suite sont : [2, 6, 18, 54, 162]\n",
    "```\n",
    "\n",
    "### Challenge supplémentaire :\n",
    "1. Modifier le programme pour calculer et afficher la somme des termes de la suite géométrique."
   ]
  },
  {
   "cell_type": "markdown",
   "metadata": {},
   "source": [
    "###  exercice 18\n",
    "---\n",
    "Écrire un programme Python prend deux entiers n, et m et renvoie le plus petit entier multiple de m supérieur ou égal à n.\n",
    "\n",
    "    Exemple pour n = 7, et m = 3, la fonction renvoie le plus petit nombre multiple de 3 supérieur ou égal à 7 qui est 3x3 = 9."
   ]
  },
  {
   "cell_type": "markdown",
   "metadata": {},
   "source": [
    "### exercice 19\n",
    "---\n",
    "En entrée demander à quelqu'un de saisir, son nom, prénom, email, et mot de passe, le tout séparés par un \"-\" : \n",
    "* exemple : Jon-Carpenter-jon.Carpenter@gmail.com-passwd\n",
    "ensuite vous devrer déchiffrer son message pour lui afficher sur 3 lignes : \n",
    "* votre nom : Carpenter\n",
    "* votre prenom : Jon\n",
    "* Votre email : jon.Carpenter@gmail.com\n",
    "* Votre mdp : passwd"
   ]
  },
  {
   "cell_type": "markdown",
   "metadata": {},
   "source": [
    "## Chaines de caractère, Listes"
   ]
  },
  {
   "cell_type": "markdown",
   "metadata": {},
   "source": [
    "###  exercice 20\n",
    "---\n",
    "Ecrire un programme qui prend en entrée une chaine de caracteres entrée par un utilisateur. Le programme va insérer entre chaque caractere le signe \"%\" et l'affichera. "
   ]
  },
  {
   "cell_type": "markdown",
   "metadata": {},
   "source": [
    "###  exercice 21\n",
    "------\n",
    "définir la liste : liste =[17, 38, 10, 25, 72] , puis effectuez les actions suivantes :\n",
    "* triez et affichez la liste ;\n",
    "* ajoutez l’élément 12 à la liste et affichez la liste ;\n",
    "* renversez et affichez la liste ;\n",
    "* affichez l’indice de l’élément 17 ;\n",
    "* enlevez l’élément 38 et affichez la liste ;\n",
    "* affichez la sous-liste du 2 e au 3 e élément ;\n",
    "* affichez la sous-liste du début au 2 e élément ;\n",
    "* affichez la sous-liste du 3 e élément à la fin de la liste ;\n",
    "* affichez la sous-liste complète de la liste ;"
   ]
  },
  {
   "cell_type": "markdown",
   "metadata": {},
   "source": [
    "###  exercice 22\n",
    "---\n",
    "Ecrire un programme en Python qui demande à l’utilisateur de saisir une chaine de caractère s et de lui renvoyer un message indiquant si la chaine contient la lettre 'a' tout en indiquant sa position sur la chaine. Exemple si l’utilisateur tape la chaine s = ‘langage’ le programme lui renvoie : La lettre 'a' se trouve à la position : 1 La lettre 'a' se trouve à la position : 4"
   ]
  },
  {
   "cell_type": "markdown",
   "metadata": {},
   "source": [
    "###  exercice 23\n",
    "---\n",
    "Ecrire un programme en Python qui permet de lister les chaines qui composent la liste l = [\"laptop\", \"iphone\", \"tablet\"] tout en indiquant la longueur de chaque chaine."
   ]
  },
  {
   "cell_type": "markdown",
   "metadata": {},
   "source": [
    "###  exercice 24\n",
    "---\n",
    "\n",
    "Ecrire un programme en langage Python, permettant d’échanger le premier et le dernier caractère d’une chaine donnée. Le premier caractère du mot est une majuscule, et doit le rester après inversion. Toutes les autres lettres sont des minuscules.\n",
    "\n",
    "exemple : Toto devient Otot"
   ]
  },
  {
   "cell_type": "markdown",
   "metadata": {},
   "source": [
    "###  exercice 25\n",
    "----\n",
    "Ecrire un programme en langage Python, qui permet de compter le nombre de consonnes dans une chaine donnée. On pourra tester que ce ne sont pas des voyelles."
   ]
  },
  {
   "cell_type": "markdown",
   "metadata": {
    "tags": []
   },
   "source": [
    "###  exercice 26\n",
    "---\n",
    "**Objectif** : Écrire un programme Python qui compte le nombre de voyelles dans chaque mot d'une phrase donnée par l'utilisateur.\n",
    "\n",
    "#### Instructions :\n",
    "1. Demande à l'utilisateur de saisir une phrase.\n",
    "2. Utilise la méthode `split()` pour diviser la phrase en mots.\n",
    "3. Pour chaque mot, compte le nombre de voyelles qu'il contient.\n",
    "4. Affiche chaque mot avec le nombre de voyelles qu'il contient.\n",
    "\n",
    "#### Exemple :\n",
    "Si l'utilisateur saisit la phrase \"Bonjour tout le monde\", le programme doit afficher :  \n",
    "```\n",
    "Le mot \"Bonjour\" contient 3 voyelles.\n",
    "Le mot \"tout\" contient 2 voyelles.\n",
    "Le mot \"le\" contient 1 voyelle.\n",
    "Le mot \"monde\" contient 2 voyelles.\n",
    "```"
   ]
  },
  {
   "cell_type": "markdown",
   "metadata": {},
   "source": [
    "### exercice 27\n",
    "---\n",
    "**Objectif** : Écrire un programme Python qui vérifie si un mot donné par l'utilisateur contient des lettres identiques qui se suivent.\n",
    "\n",
    "#### Instructions :\n",
    "1. Demande à l'utilisateur de saisir un mot.\n",
    "2. Utilise une boucle pour parcourir chaque lettre du mot.\n",
    "3. Pour chaque lettre, vérifie si elle est identique à la lettre suivante.\n",
    "4. Affiche un message indiquant si des lettres identiques se suivent ou non.\n",
    "\n",
    "#### Exemple :\n",
    "Si l'utilisateur saisit le mot \"mississippi\", le programme doit afficher :  \n",
    "```\n",
    "Le mot \"mississippi\" contient des lettres identiques qui se suivent.\n",
    "```\n",
    "Si l'utilisateur saisit le mot \"bonjour\", le programme doit afficher :  \n",
    "```\n",
    "Le mot \"bonjour\" ne contient pas de lettres identiques qui se suivent.\n",
    "```\n",
    "\n",
    "### Challenge supplémentaire :\n",
    "1. Modifie le programme pour compter le nombre de fois où des lettres identiques se suivent.\n"
   ]
  },
  {
   "cell_type": "markdown",
   "metadata": {},
   "source": [
    "###  exercice 28\n",
    "---\n",
    "Écrire un programme Python qui permet de supprimer les éléments dupliqués d'une liste.\n"
   ]
  },
  {
   "cell_type": "markdown",
   "metadata": {},
   "source": [
    "###  exercice 29\n",
    "---\n",
    "Ecrire un programme en Python qui permet de comparer deux listes et de nous indiquer si ces deux listes ont une valeur communes ou non."
   ]
  },
  {
   "cell_type": "markdown",
   "metadata": {},
   "source": [
    "###  exercice 30\n",
    "---\n",
    "Etant donnée la liste des notes des élèves :  notes = [12 , 04 , 14 , 11 ,  18 , 13 ,  07, 10 , 05 , 09 , 15 , 08 , 14 , 16]  \n",
    "* Ecrire un programme Python qui permet d'extraire  de cette liste et créer une autre liste qui contient uniquement les notes au dessus de la myenne ( les notes  >= 10 )\n",
    "* Idem avec les notes < 10. Dites quel groupe est le plus grand. \n",
    "* calculez la moyenne \n"
   ]
  },
  {
   "cell_type": "markdown",
   "metadata": {},
   "source": [
    "###  exercice 31\n",
    "---\n",
    "Ecrire un programme Python qui permet de regrouper dans une liste les mots communs à deux chaines s1 et s2.\n"
   ]
  },
  {
   "cell_type": "markdown",
   "metadata": {},
   "source": [
    "###  exercice 32\n",
    "---\n",
    " L = [0, 1, 2, 3, 4, 5, 6, 7, 8, 9]\n",
    " à partir de L:  \n",
    "    1. Multipliez chaque élément de la liste par 3.  \n",
    "    2. Ajouter la valeur 11 à la fin de la liste.  \n",
    "    3. Ajouter les valeurs 12 et 13 à la fin de la liste.  \n",
    "    4. Afficher le premier élément, les deux premiers éléments, le dernier élément, les deux derniers éléments.  \n",
    "    5. Construire la liste \"paires\" qui contient les nombres paires de L et la liste \"impaire\" qui contient les nombres \"impaires\" de L.\n",
    "    -> boucle for et liste compréhension  \n",
    "    6. Ajouter la valeur 3.5 entre 3 et 4.  \n",
    "    7. Supprimer la valeur 3.5.  \n",
    "    8. Inverser l'ordre des éléments de L.  \n",
    "    9 Demander à l'utilisateur de fournir un nombre au hasard et dire si ce nombre est présent dans L.  "
   ]
  },
  {
   "cell_type": "markdown",
   "metadata": {
    "tags": []
   },
   "source": [
    "## Dictionnaires "
   ]
  },
  {
   "cell_type": "markdown",
   "metadata": {},
   "source": [
    "### exercice 33\n",
    "---\n",
    "mydict = {\"device\": \"laptop\" , \"constructeur\": \"acer\" , \"ram\": \"8G\" , \n",
    "\"processeur\": \"Intel core i5\", \"stockage\": \"500 G\"}\n",
    "\n",
    "1) Corriger l'erreur \"stockage\": \"750 G\"\n",
    "2) Créer un programme qui affiche la liste des clés, la liste des valeurs\n",
    "et la liste des paires de clés et valeurs\n",
    "3)Inverser les paires \"processeur\": \"Intel core i5\" et \"stockage\": \"500 G\"\n",
    "4) Ajouter la pair clé-valeur : \"Système d'exploitation\" : \"Windows 10\""
   ]
  },
  {
   "cell_type": "markdown",
   "metadata": {},
   "source": [
    "### exercice 34\n",
    "---\n",
    "voici un dictionnaire : dict1 = {\"a\": 1, \"d\": 4, \"g\": 7}\n",
    "1. faire une boucle dans laquelle vous ecrivez les couples clef/valeur\n",
    "2. remplacez une des valeur par exemple celle associée à la clef \"d\" par la somme des valeurs associées aux deux autres clefs"
   ]
  },
  {
   "cell_type": "markdown",
   "metadata": {},
   "source": [
    "###  exercice 35\n",
    "---\n",
    "\n",
    "**Objectif** : Écrire un programme Python qui gère les notes des étudiants à l'aide d'un dictionnaire.\n",
    "\n",
    "#### Instructions :\n",
    "1. Crée un dictionnaire pour stocker les noms d'étudiants comme clés et leurs notes comme valeurs.\n",
    "2. Demande à l'utilisateur d'entrer le nombre d'étudiants.\n",
    "3. Pour chaque étudiant, demande le nom et la note, puis ajoute ces informations au dictionnaire.\n",
    "4. Affiche la liste des étudiants avec leurs notes.\n",
    "5. Calcule et affiche la moyenne des notes des étudiants.\n",
    "\n",
    "#### Exemple :\n",
    "Si l'utilisateur entre les données suivantes :\n",
    "```\n",
    "3\n",
    "Alice 85\n",
    "Bob 90\n",
    "Charlie 78\n",
    "```\n",
    "Le programme doit afficher :\n",
    "```\n",
    "Les notes des étudiants :\n",
    "Alice : 85\n",
    "Bob : 90\n",
    "Charlie : 78\n",
    "La moyenne des notes est : 84.33\n",
    "```"
   ]
  },
  {
   "cell_type": "markdown",
   "metadata": {
    "tags": []
   },
   "source": [
    "###  exercice 36\n",
    "---\n",
    "\n",
    "On dispose d’un dictionnaire associant à des noms de commerciaux d’une société le nombre de ventes qu’ils ont réalisées. Par exemple :\n",
    "\n",
    "```python\n",
    "ventes={\"Dupont\":14, \"Hervy\":19, \"Geoffroy\":15, \"Layec\":21}\n",
    "```\n",
    "\n",
    "1. à partir du dictionnaire ventes, le programme doit renvoyer le nombre total de ventes dans la société.\n",
    "2. Puis  renvoie le nom du vendeur ayant réalisé le plus de ventes. Si plusieurs vendeurs sont ex-aequo sur ce critère, le nom de l’un d’entre eux.\n"
   ]
  },
  {
   "cell_type": "markdown",
   "metadata": {},
   "source": [
    "# Merci à tous "
   ]
  }
 ],
 "metadata": {
  "kernelspec": {
   "display_name": "Python 3 (ipykernel)",
   "language": "python",
   "name": "python3"
  },
  "language_info": {
   "codemirror_mode": {
    "name": "ipython",
    "version": 3
   },
   "file_extension": ".py",
   "mimetype": "text/x-python",
   "name": "python",
   "nbconvert_exporter": "python",
   "pygments_lexer": "ipython3",
   "version": "3.11.7"
  },
  "toc": {
   "base_numbering": 1,
   "nav_menu": {},
   "number_sections": true,
   "sideBar": true,
   "skip_h1_title": false,
   "title_cell": "Table of Contents",
   "title_sidebar": "Contents",
   "toc_cell": false,
   "toc_position": {},
   "toc_section_display": true,
   "toc_window_display": false
  },
  "varInspector": {
   "cols": {
    "lenName": 16,
    "lenType": 16,
    "lenVar": 40
   },
   "kernels_config": {
    "python": {
     "delete_cmd_postfix": "",
     "delete_cmd_prefix": "del ",
     "library": "var_list.py",
     "varRefreshCmd": "print(var_dic_list())"
    },
    "r": {
     "delete_cmd_postfix": ") ",
     "delete_cmd_prefix": "rm(",
     "library": "var_list.r",
     "varRefreshCmd": "cat(var_dic_list()) "
    }
   },
   "types_to_exclude": [
    "module",
    "function",
    "builtin_function_or_method",
    "instance",
    "_Feature"
   ],
   "window_display": false
  }
 },
 "nbformat": 4,
 "nbformat_minor": 4
}
