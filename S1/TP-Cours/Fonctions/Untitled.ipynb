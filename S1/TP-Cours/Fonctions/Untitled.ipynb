{
 "cells": [
  {
   "cell_type": "code",
   "execution_count": 4,
   "id": "1c53dc1b-4ecf-4c86-8d3f-3449e18888b4",
   "metadata": {
    "tags": []
   },
   "outputs": [
    {
     "data": {
      "text/plain": [
       "30"
      ]
     },
     "execution_count": 4,
     "metadata": {},
     "output_type": "execute_result"
    }
   ],
   "source": [
    "def max_liste(L):\n",
    "    \"\"\"\n",
    "    L : liste \n",
    "    return max element \n",
    "    \"\"\"\n",
    "    \n",
    "    maxi = L[0]\n",
    "    for ele in L: \n",
    "        if ele > maxi:\n",
    "            maxi = ele\n",
    "\n",
    "    return maxi\n",
    "\n",
    "L = [22, 1, 30, 0]\n",
    "\n",
    "max_liste(L)"
   ]
  },
  {
   "cell_type": "code",
   "execution_count": 5,
   "id": "8bbf0e61-e3e4-4093-9cc0-9084c8049c03",
   "metadata": {
    "tags": []
   },
   "outputs": [
    {
     "name": "stdout",
     "output_type": "stream",
     "text": [
      "Help on function max_liste in module __main__:\n",
      "\n",
      "max_liste(L)\n",
      "    L : liste \n",
      "    return max element\n",
      "\n"
     ]
    }
   ],
   "source": [
    "help(max_liste)"
   ]
  },
  {
   "cell_type": "code",
   "execution_count": null,
   "id": "a4eca7a5-1ad0-4eb4-95af-d3e37da763d9",
   "metadata": {},
   "outputs": [],
   "source": [
    "max_liste"
   ]
  },
  {
   "cell_type": "code",
   "execution_count": 11,
   "id": "1153eefc-91ea-4332-b682-8f6f78e09d55",
   "metadata": {
    "tags": []
   },
   "outputs": [
    {
     "name": "stdout",
     "output_type": "stream",
     "text": [
      "0\n",
      "1\n"
     ]
    }
   ],
   "source": [
    "\n",
    "L = 0\n",
    "print(L)\n",
    "def rajoute_un(val):\n",
    "    val +=1\n",
    "    return val\n",
    "L = rajoute_un(L)\n",
    "    \n",
    "print(L)"
   ]
  },
  {
   "cell_type": "code",
   "execution_count": 17,
   "id": "72bdc8f0-884c-40da-8729-b726befbf6ac",
   "metadata": {
    "tags": []
   },
   "outputs": [
    {
     "name": "stdout",
     "output_type": "stream",
     "text": [
      "122 222\n",
      "122 234\n"
     ]
    }
   ],
   "source": [
    "A = 122\n",
    "B = 222\n",
    "def func(aaa):\n",
    "    global B\n",
    "    B += aaa\n",
    "\n",
    "    \n",
    "print(A, B)\n",
    "func(12)    \n",
    "print(A, B)\n",
    "\n"
   ]
  },
  {
   "cell_type": "code",
   "execution_count": null,
   "id": "97b150d6-a297-4eb1-9d62-313c7d107af4",
   "metadata": {},
   "outputs": [],
   "source": []
  }
 ],
 "metadata": {
  "kernelspec": {
   "display_name": "Python 3 (ipykernel)",
   "language": "python",
   "name": "python3"
  },
  "language_info": {
   "codemirror_mode": {
    "name": "ipython",
    "version": 3
   },
   "file_extension": ".py",
   "mimetype": "text/x-python",
   "name": "python",
   "nbconvert_exporter": "python",
   "pygments_lexer": "ipython3",
   "version": "3.11.3"
  }
 },
 "nbformat": 4,
 "nbformat_minor": 5
}
