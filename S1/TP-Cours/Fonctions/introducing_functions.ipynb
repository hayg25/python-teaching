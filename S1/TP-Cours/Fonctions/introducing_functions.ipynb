{
 "cells": [
  {
   "cell_type": "markdown",
   "metadata": {},
   "source": [
    "# Introducing Functions\n",
    "------\n",
    "\n",
    "One of the core principles of any programming language is, \"Don't Repeat Yourself\". If you have an action that should occur many times, you can define that action once and then call that code whenever you need to carry out that action.\n",
    "\n",
    "We are already repeating ourselves in our code, so this is a good time to introduce simple functions. Functions mean less work for us as programmers, and effective use of functions results in code that is less error-prone."
   ]
  },
  {
   "cell_type": "markdown",
   "metadata": {},
   "source": [
    "What are functions?\n",
    "===\n",
    "Functions are a set of actions that we group together, and give a name to. You have already used a number of functions from the core Python language, such as *string.title()* and *list.sort()*. We can define our own functions, which allows us to \"teach\" Python new behavior."
   ]
  },
  {
   "cell_type": "markdown",
   "metadata": {},
   "source": [
    "# <u> Lets try some functions we already used (or not ... !) </u>"
   ]
  },
  {
   "cell_type": "markdown",
   "metadata": {},
   "source": [
    "### avoir de l'aide sur une fonction"
   ]
  },
  {
   "cell_type": "markdown",
   "metadata": {},
   "source": [
    "Sur jupyter : <span class=\"mark\">shift-Tab</span> donne une aide sur toutes les fonctions, sur tous les objets"
   ]
  },
  {
   "cell_type": "code",
   "execution_count": 2,
   "metadata": {
    "ExecuteTime": {
     "end_time": "2021-01-15T09:48:27.632322Z",
     "start_time": "2021-01-15T09:48:27.627018Z"
    },
    "scrolled": true
   },
   "outputs": [
    {
     "name": "stdout",
     "output_type": "stream",
     "text": [
      "Help on built-in function count:\n",
      "\n",
      "count(...) method of builtins.str instance\n",
      "    S.count(sub[, start[, end]]) -> int\n",
      "    \n",
      "    Return the number of non-overlapping occurrences of substring sub in\n",
      "    string S[start:end].  Optional arguments start and end are\n",
      "    interpreted as in slice notation.\n",
      "\n"
     ]
    }
   ],
   "source": [
    "test = 'toto'\n",
    "help(test.count)"
   ]
  },
  {
   "cell_type": "markdown",
   "metadata": {},
   "source": [
    "<div class=\"mark\">\n",
    "<span class=\"mark\">La liste des functions s'obtient en tapant <span class=\"mark\">. et tabulation</span> apres la chaine.</span> \n",
    "\n",
    "Ensuite, il faut essayer !</div><i class=\"fa fa-lightbulb-o \"></i>"
   ]
  },
  {
   "cell_type": "code",
   "execution_count": 1,
   "metadata": {
    "ExecuteTime": {
     "end_time": "2021-01-15T09:48:21.950797Z",
     "start_time": "2021-01-15T09:48:21.873455Z"
    }
   },
   "outputs": [
    {
     "ename": "NameError",
     "evalue": "name 'test' is not defined",
     "output_type": "error",
     "traceback": [
      "\u001b[0;31m---------------------------------------------------------------------------\u001b[0m",
      "\u001b[0;31mNameError\u001b[0m                                 Traceback (most recent call last)",
      "\u001b[0;32m<ipython-input-1-4e1243bd22c6>\u001b[0m in \u001b[0;36m<module>\u001b[0;34m\u001b[0m\n\u001b[0;32m----> 1\u001b[0;31m \u001b[0mtest\u001b[0m\u001b[0;34m\u001b[0m\u001b[0;34m\u001b[0m\u001b[0m\n\u001b[0m",
      "\u001b[0;31mNameError\u001b[0m: name 'test' is not defined"
     ]
    }
   ],
   "source": [
    "test.endswith"
   ]
  },
  {
   "cell_type": "markdown",
   "metadata": {},
   "source": [
    "## Exemples"
   ]
  },
  {
   "cell_type": "markdown",
   "metadata": {},
   "source": [
    "### Chaines de caractère"
   ]
  },
  {
   "cell_type": "code",
   "execution_count": 12,
   "metadata": {},
   "outputs": [
    {
     "name": "stdout",
     "output_type": "stream",
     "text": [
      "Majuscule au début :  Hello tout le monde\n",
      "Compter l'occurence d'une lettre :  3\n",
      "Separer les mots :  ['hello', 'tout', 'le', 'monde']\n",
      "Emplacement lettre :  14\n"
     ]
    }
   ],
   "source": [
    "test_name = 'hello tout le monde'\n",
    "print('Majuscule au début : ',test_name.capitalize())\n",
    "print(\"Compter l'occurence d'une lettre : \",test_name.count('l'))\n",
    "print('Separer les mots : ',test_name.split())\n",
    "print('Emplacement lettre : ',test_name.find('m'))"
   ]
  },
  {
   "cell_type": "markdown",
   "metadata": {},
   "source": [
    "### Listes"
   ]
  },
  {
   "cell_type": "code",
   "execution_count": 21,
   "metadata": {},
   "outputs": [
    {
     "name": "stdout",
     "output_type": "stream",
     "text": [
      "[1, 2, 3, 188, 33, 29, 199]\n",
      "True False True\n"
     ]
    }
   ],
   "source": [
    "L = [1, 2, 3, 33, 29]\n",
    "# on insert 188 en position 3\n",
    "L.insert(3,188)\n",
    "# on insert 188 en derniere position\n",
    "L.append(199)\n",
    "print(L)\n"
   ]
  },
  {
   "cell_type": "code",
   "execution_count": 22,
   "metadata": {},
   "outputs": [
    {
     "name": "stdout",
     "output_type": "stream",
     "text": [
      "True False True\n"
     ]
    }
   ],
   "source": [
    "# \n",
    "L1 = L.copy()\n",
    "L2 = L\n",
    "L.append(199)\n",
    "print(L==L, L1==L, L2==L)"
   ]
  },
  {
   "cell_type": "markdown",
   "metadata": {},
   "source": [
    "Expliquez ce résultat."
   ]
  },
  {
   "cell_type": "markdown",
   "metadata": {},
   "source": [
    "### refaire l'exercice le la liste avec des fonctions (min, max, ordre croissant, décroissant)"
   ]
  },
  {
   "cell_type": "code",
   "execution_count": 15,
   "metadata": {
    "ExecuteTime": {
     "end_time": "2021-01-19T18:36:26.855921Z",
     "start_time": "2021-01-19T18:36:26.850720Z"
    }
   },
   "outputs": [
    {
     "name": "stdout",
     "output_type": "stream",
     "text": [
      "[1, 1, 4, 5, 19, 23, 29, 33, 88]\n",
      "[88, 33, 29, 23, 19, 5, 4, 1, 1]\n",
      "Min = 1  et Max = 88\n"
     ]
    }
   ],
   "source": [
    "# exercice \n",
    "L = [1, 23, 88, 29, 5, 19, 33, 4, 1] \n",
    "# utilisation de la fonction sorted \n",
    "# fonctionne aussi avec L.sort() ... etc\n",
    "L1 = sorted(L,reverse=False)\n",
    "L2 = sorted(L,reverse=True)\n",
    "print(L1)\n",
    "print(L2)\n",
    "# Min Max : \n",
    "Min, Max = L1[0], L1[-1]\n",
    "# print avec utilisation de format pour que la sortie soit jolie\n",
    "print('Min = {}  et Max = {}'.format(Min, Max) ) "
   ]
  },
  {
   "cell_type": "markdown",
   "metadata": {},
   "source": [
    "### Statistiques (module statistics, random)\n",
    "-------"
   ]
  },
  {
   "cell_type": "markdown",
   "metadata": {},
   "source": [
    "#### Exercice\n",
    "* générer une liste de longueur 100 aléatoire à partir du module random \n",
    "    * import random (utiliser la fonction randint)\n",
    "* calculer la moyenne de deux façons ainsi que l'écart type \n",
    "    * utiliser module statistics (import statistics)"
   ]
  },
  {
   "cell_type": "code",
   "execution_count": 17,
   "metadata": {
    "ExecuteTime": {
     "end_time": "2021-01-19T18:42:16.657023Z",
     "start_time": "2021-01-19T18:42:16.653240Z"
    }
   },
   "outputs": [
    {
     "name": "stdout",
     "output_type": "stream",
     "text": [
      "[172, 177, 126, 130, 130, 153, 157, 134, 147, 167, 140, 137, 178, 162, 173, 170, 138, 139, 137, 133, 142, 163, 155, 153, 167, 166, 165, 151, 179, 150, 135, 135, 178, 146, 150, 130, 140, 123, 167, 141, 161, 128, 129, 180, 140, 179, 169, 128, 126, 177, 176, 120, 177, 153, 167, 140, 128, 141, 162, 147, 143, 127, 179, 160, 165, 180, 170, 150, 139, 135, 146, 174, 134, 120, 160, 179, 173, 167, 124, 121, 172, 120, 126, 171, 143, 166, 143, 128, 174, 133, 172, 145, 139, 151, 165, 135, 168, 151, 174, 134]\n"
     ]
    }
   ],
   "source": [
    "# ici il faut mieux appeler directements les fonctions que nous allons utilser\n",
    "from statistics import mean, stdev\n",
    "from random import randint\n",
    "\n",
    "# initialisation d'une liste vide \n",
    "L = []\n",
    "\n",
    "taille_liste = 100\n",
    "range_min, range_max = 120, 180\n",
    "for element in range(taille_liste):\n",
    "    L.append(randint(range_min, range_max))\n",
    "\n",
    "print(L)"
   ]
  },
  {
   "cell_type": "markdown",
   "metadata": {},
   "source": [
    "### Fichiers et dossiers --> Module Os\n",
    "-------"
   ]
  },
  {
   "cell_type": "code",
   "execution_count": 20,
   "metadata": {
    "ExecuteTime": {
     "end_time": "2021-01-19T18:47:07.408290Z",
     "start_time": "2021-01-19T18:47:07.401001Z"
    }
   },
   "outputs": [
    {
     "name": "stdout",
     "output_type": "stream",
     "text": [
      "Operating System: posix\n",
      "\n",
      "Information of current operating system:  posix.uname_result(sysname='Linux', nodename='nb-guler2', release='5.4.0-60-generic', version='#67~18.04.1-Ubuntu SMP Tue Jan 5 22:01:05 UTC 2021', machine='x86_64')\n",
      "\n",
      "Current Working Directory:  /home/guler/Teaching/Python/Python_Initiations/GitHub/python-teaching/Fonctions\n",
      "\n",
      "List of files and directories in the current directory:\n",
      "['horace.txt', 'brecht.json', 'im1.png', 'im2.jpg', 'Ballade.XXVIII.dePisan.txt', 'csv', 'im2.png', 'lesdeuxamants.txt', 'machinelearning.json', 'misanthrope.acte3.scene4.txt', 'liaisons.118.txt', 'cid.v1071.1682.txt', 'xml', 'im3.jpg', 'lanuitdelamort.michel.txt', 'twitter.humanitesnumeriques.json', 'debat.folieamour.labbe.txt', 'twitter.humanitesnumeriques2.json', 'lettre.louisemichel.txt', 'scripts', 'youtube.json', 'im4.png', 'im3.png', 'im1.jpg', 'json', 'im4.jpg', 'youtube.exemple.json']\n"
     ]
    }
   ],
   "source": [
    "import os\n",
    "print(\"Operating System:\",os.name)\n",
    "# ne pas utiliser sous windows ... uniquement Linux\n",
    "print(\"\\nInformation of current operating system: \",os.uname())\n",
    "print(\"\\nCurrent Working Directory: \",os.getcwd())\n",
    "print(\"\\nList of files and directories in the current directory:\")\n",
    "print(os.listdir('data'))"
   ]
  },
  {
   "cell_type": "markdown",
   "metadata": {},
   "source": [
    "#### Exercice : \n",
    "--------\n",
    "##### lister les fichiers d'un répertoire\n",
    "* prenez un dossier de votre PC, par exemple \"c:\" \n",
    "* listez tous les fichiers de ce dossier par type d'extension \n",
    "    * pour ça vous pourrez utiliser os.listdir ensuite dans une boucle vous allez sélectionner les types de fichiers\n",
    "    * essayez au moins de construire 2 listes \n",
    "    \n",
    "##### fichier ? répertoire ?\n",
    "* prenez un fichier et essyayer de voir s'il existe, si c'est un dossier ? \n",
    "* utilisez le module os.path (fonctions isdir, isfile, exists) \n",
    "    "
   ]
  },
  {
   "cell_type": "code",
   "execution_count": 2,
   "metadata": {
    "tags": []
   },
   "outputs": [],
   "source": [
    "import os"
   ]
  },
  {
   "cell_type": "code",
   "execution_count": 5,
   "metadata": {
    "collapsed": true,
    "jupyter": {
     "outputs_hidden": true
    },
    "tags": []
   },
   "outputs": [
    {
     "data": {
      "text/plain": [
       "['ptargrep5.30',\n",
       " 'uux',\n",
       " 'cpan',\n",
       " 'loads.d',\n",
       " 'htmltree5.30',\n",
       " 'write',\n",
       " 'lwp-mirror5.30',\n",
       " 'indent',\n",
       " 'bzip2recover',\n",
       " 'hdiutil',\n",
       " 'top',\n",
       " 'javah',\n",
       " 'tee',\n",
       " 'tidy_changelog',\n",
       " 'xip',\n",
       " 'yapp',\n",
       " 'wsimport',\n",
       " 'bzfgrep',\n",
       " 'qlmanage',\n",
       " 'snmptranslate',\n",
       " 'split',\n",
       " 'chsh',\n",
       " 'xml2man',\n",
       " 'pl2pm5.30',\n",
       " 'man',\n",
       " 'lpoptions',\n",
       " 'tabs',\n",
       " 'rview',\n",
       " 'lsvfs',\n",
       " 'zgrep',\n",
       " 'dbiprof',\n",
       " 'zmore',\n",
       " 'pod2usage5.30',\n",
       " 'gcov',\n",
       " 'package-stash-conflicts5.30',\n",
       " 'dbiprof5.30',\n",
       " 'vim',\n",
       " 'mandoc_soelim',\n",
       " 'xjc',\n",
       " 'bzmore',\n",
       " 'dyld_info',\n",
       " 'package-stash-conflicts',\n",
       " 'cancel',\n",
       " 'apply',\n",
       " 'bzgrep',\n",
       " 'umask',\n",
       " 'g++',\n",
       " 'libtool',\n",
       " 'colcrt',\n",
       " 'findrule5.30',\n",
       " 'ptar5.30',\n",
       " 'unalias',\n",
       " 'h2xs5.30',\n",
       " 'mp2bug',\n",
       " 'mkfifo',\n",
       " 'toe',\n",
       " 'hexdump',\n",
       " 'Rez',\n",
       " 'cap_mkdb',\n",
       " 'ictool',\n",
       " 'cmp',\n",
       " 'syscallbypid.d',\n",
       " 'snmpset',\n",
       " 'locate',\n",
       " 'trustcachectl',\n",
       " 'afconvert',\n",
       " 'afclip',\n",
       " 'tidy_changelog5.30',\n",
       " 'bzegrep',\n",
       " 'instmodsh',\n",
       " 'extcheck',\n",
       " 'javapackager',\n",
       " 'pl',\n",
       " 'compress',\n",
       " 'fddist',\n",
       " 'db_upgrade',\n",
       " 'diagnose-fu',\n",
       " 'yamlpp-load-dump',\n",
       " 'ctags',\n",
       " 'zdiff',\n",
       " 'yamlpp-parse-emit',\n",
       " 'pathchk',\n",
       " 'mesg',\n",
       " 'setregion',\n",
       " 'perlivp',\n",
       " 'yamlpp-highlight5.30',\n",
       " 'xpath5.30',\n",
       " 'c++',\n",
       " 'pod2readme',\n",
       " 'pp',\n",
       " 'vi',\n",
       " 'iofileb.d',\n",
       " 'errinfo',\n",
       " 'zipgrep',\n",
       " 'pod2usage',\n",
       " 'alias',\n",
       " 'wait',\n",
       " 'safaridriver',\n",
       " 'bzdiff',\n",
       " 'unpack200',\n",
       " 'corelist',\n",
       " 'expand',\n",
       " 'strings',\n",
       " 'appletviewer',\n",
       " 'idlj',\n",
       " 'wall',\n",
       " 'brctl',\n",
       " 'gm4',\n",
       " 'db_hotbackup',\n",
       " 'auvaltool',\n",
       " 'applesingle',\n",
       " 'scandeps5.30.pl',\n",
       " 'clang',\n",
       " 'ibtool',\n",
       " 'tty',\n",
       " 'demandoc',\n",
       " 'git-receive-pack',\n",
       " 'infotocap',\n",
       " 'pkill',\n",
       " 'cups-config',\n",
       " 'piconv5.34',\n",
       " 'basename',\n",
       " 'nclist',\n",
       " 'objdump',\n",
       " 'install',\n",
       " 'native2ascii',\n",
       " 'c99',\n",
       " 'desdp',\n",
       " 'binhex',\n",
       " 'perlbug5.34',\n",
       " 'lsmp',\n",
       " 'xmllint',\n",
       " 'yamlpp-highlight',\n",
       " 'last',\n",
       " 'vm_stat',\n",
       " 'syslog',\n",
       " 'net-snmp-cert',\n",
       " 'treereg5.30',\n",
       " 'nslookup',\n",
       " 'vimdiff',\n",
       " 'topsyscall',\n",
       " 'libnetcfg',\n",
       " 'cpan5.30',\n",
       " 'c++filt',\n",
       " 'avbdiagnose',\n",
       " 'nice',\n",
       " 'xcscontrol',\n",
       " 'truncate',\n",
       " 'calendar',\n",
       " 'locale',\n",
       " 'strip',\n",
       " 'symbolscache',\n",
       " 'trace',\n",
       " 'tops',\n",
       " 'lprm',\n",
       " 'tiffutil',\n",
       " 'du',\n",
       " 'diff3',\n",
       " 'cupstestppd',\n",
       " 'json_pp5.30',\n",
       " 'sw_vers',\n",
       " 'fs_usage',\n",
       " 'host',\n",
       " 'jarsigner',\n",
       " 'app-sso',\n",
       " 'devmodectl',\n",
       " 'nscurl',\n",
       " 'logger',\n",
       " 'caffeinate',\n",
       " 'pod2html5.30',\n",
       " 'say',\n",
       " 'net-snmp-create-v3-user',\n",
       " 'zipdetails5.34',\n",
       " 'plutil',\n",
       " 'python3',\n",
       " 'avbutil',\n",
       " 'xcode-select',\n",
       " 'libnetcfg5.30',\n",
       " 'powermetrics',\n",
       " 'encguess5.34',\n",
       " 'moose-outdated',\n",
       " 'net-server',\n",
       " 'cvmkdir',\n",
       " 'ldapmodify',\n",
       " 'iofile.d',\n",
       " 'join',\n",
       " 'SafeEjectGPU',\n",
       " 'snmpdelta',\n",
       " 'ssh-keyscan',\n",
       " 'renice',\n",
       " 'xxd',\n",
       " 'clangd',\n",
       " 'scandeps.pl',\n",
       " 'nettop',\n",
       " 'ppdmerge',\n",
       " 'snmpconf',\n",
       " 'xsltproc',\n",
       " 'osascript',\n",
       " 'iotop',\n",
       " 'lex',\n",
       " 'encguess',\n",
       " 'ctf_insert',\n",
       " 'csplit',\n",
       " 'swift-inspect',\n",
       " 'splain5.30',\n",
       " 'iconv',\n",
       " 'captoinfo',\n",
       " 'snmpinform',\n",
       " 'lsbom',\n",
       " 'pbcopy',\n",
       " 'sort',\n",
       " 'xpath',\n",
       " 'snmpdf',\n",
       " 'whoami',\n",
       " 'sc_usage',\n",
       " 'jot',\n",
       " 'ocspcheck',\n",
       " 'mkbom',\n",
       " 'ldapurl',\n",
       " 'json_xs',\n",
       " 'pkgbuild',\n",
       " 'yamlpp-events',\n",
       " 'cpuwalk.d',\n",
       " 'cvmkfile',\n",
       " 'update_dyld_shared_cache',\n",
       " 'ldapmodrdn',\n",
       " 'systemextensionsctl',\n",
       " 'file',\n",
       " 'db_printlog',\n",
       " 'sourcekit-lsp',\n",
       " 'debinhex5.30.pl',\n",
       " 'podchecker5.34',\n",
       " 'hash',\n",
       " 'bc',\n",
       " 'fontrestore',\n",
       " 'mg',\n",
       " 'sfltool',\n",
       " 'less',\n",
       " 'bunzip2',\n",
       " 'touch',\n",
       " 'rmic',\n",
       " 'dispqlen.d',\n",
       " 'db_archive',\n",
       " 'getopt',\n",
       " 'instmodsh5.30',\n",
       " 'krb5-config',\n",
       " 'security',\n",
       " 'perlthanks5.34',\n",
       " 'hiutil',\n",
       " 'ip2cc5.30',\n",
       " 'pip3',\n",
       " 'pod2man5.34',\n",
       " 'lastwords',\n",
       " 'rmid',\n",
       " 'sed',\n",
       " 'ld',\n",
       " 'dbilogstrip5.30',\n",
       " 'awk',\n",
       " 'ip2cc',\n",
       " 'syscallbyproc.d',\n",
       " 'umtool',\n",
       " 'snmpstatus',\n",
       " 'uudecode',\n",
       " 'psm',\n",
       " 'fmt',\n",
       " 'zless',\n",
       " 'enc2xs5.34',\n",
       " 'xslt-config',\n",
       " 'sdef',\n",
       " 'ncctl',\n",
       " 'jmc',\n",
       " 'pod2text',\n",
       " 'bashbug',\n",
       " 'mail',\n",
       " 'yamlpp-parse-emit5.30',\n",
       " 'chpass',\n",
       " 'sips',\n",
       " 'xcrun',\n",
       " 'bzcmp',\n",
       " 'lldb',\n",
       " 'chfn',\n",
       " 'ipcount',\n",
       " 'newaliases',\n",
       " 'nano',\n",
       " 'lam',\n",
       " 'pod2readme5.30',\n",
       " 'ipptool',\n",
       " 'irb',\n",
       " 'ptardiff',\n",
       " 'bzless',\n",
       " 'sysdiagnose',\n",
       " 'logname',\n",
       " 'tset',\n",
       " 'chgrp',\n",
       " 'cu',\n",
       " 'printenv',\n",
       " 'yamlpp-load-dump5.30',\n",
       " 'unvis',\n",
       " 'shasum5.30',\n",
       " 'atq',\n",
       " 'seq',\n",
       " 'fc',\n",
       " 'AssetCacheManagerUtil',\n",
       " 'colldef',\n",
       " 'net-server5.30',\n",
       " 'jdb',\n",
       " 'perl5.30',\n",
       " 'wish',\n",
       " 'uname',\n",
       " 'hpmdiagnose',\n",
       " 'timer_analyser.d',\n",
       " 'jstack',\n",
       " 'parl',\n",
       " 'unzip',\n",
       " 'db_stat',\n",
       " 'rmiregistry',\n",
       " 'json_pp',\n",
       " 'test-yaml',\n",
       " 'ptardiff5.30',\n",
       " 'zprint',\n",
       " 'kinit',\n",
       " 'mib2c',\n",
       " 'od',\n",
       " 'bsdtar',\n",
       " 'perl',\n",
       " 'findrule',\n",
       " 'tbtdiagnose',\n",
       " 'mcxquery',\n",
       " 'lwp-download',\n",
       " 'ppdpo',\n",
       " 'crontab',\n",
       " 'reset',\n",
       " 'kextutil',\n",
       " 'par5.30.pl',\n",
       " 'bzcat',\n",
       " 'dbicadmin',\n",
       " 'ex',\n",
       " 'perlbug',\n",
       " 'jvisualvm',\n",
       " 'footprint',\n",
       " 'lsappinfo',\n",
       " 'db_load',\n",
       " 'fwkdp',\n",
       " 'piconv',\n",
       " 'read',\n",
       " 'snmpusm',\n",
       " 'execsnoop',\n",
       " 'pagesize',\n",
       " 'lp',\n",
       " 'base64',\n",
       " 'ptargrep',\n",
       " 'jar',\n",
       " 'h2ph',\n",
       " 'readlink',\n",
       " 'opensnoop',\n",
       " 'rake',\n",
       " 'rvim',\n",
       " 'jcmd',\n",
       " 'dmc',\n",
       " 'vimtutor',\n",
       " 'prove5.34',\n",
       " 'perlivp5.34',\n",
       " 'perldoc5.30',\n",
       " 'xgettext5.30.pl',\n",
       " 'iperf3-darwin',\n",
       " 'prove',\n",
       " 'newproc.d',\n",
       " 'gencat',\n",
       " 'mdutil',\n",
       " 'znew',\n",
       " 'podchecker',\n",
       " 'mcxrefresh',\n",
       " 'colrm',\n",
       " 'dbilogstrip',\n",
       " 'pagestuff',\n",
       " 'crlrefresh',\n",
       " 'headerdoc2html',\n",
       " 'jrunscript',\n",
       " 'filtercalltree',\n",
       " 'afhash',\n",
       " 'sandbox-exec',\n",
       " 'snmpvacm',\n",
       " 'stapler',\n",
       " 'codecctl',\n",
       " 'fwkpfv',\n",
       " 'sftp',\n",
       " 'wc',\n",
       " 'jps',\n",
       " 'rsync',\n",
       " 'osacompile',\n",
       " 'yamlpp-load5.30',\n",
       " 'hdxml2manxml',\n",
       " 'gzcat',\n",
       " 'delv',\n",
       " 'thermal',\n",
       " 'pico',\n",
       " 'IOMFB_FDR_Loader',\n",
       " 'shasum',\n",
       " 'comm',\n",
       " 'resolveLinks',\n",
       " 'xcdebug',\n",
       " 'dbicadmin5.30',\n",
       " 'lpq',\n",
       " 'java',\n",
       " 'bundle',\n",
       " 'gzip',\n",
       " 'yamlpp-events5.30',\n",
       " 'zipcloak',\n",
       " 'git-upload-archive',\n",
       " 'xml2-config',\n",
       " 'encode_keychange',\n",
       " 'traptoemail',\n",
       " 'gcc',\n",
       " 'smbutil',\n",
       " 'diff',\n",
       " 'ri',\n",
       " 'agvtool',\n",
       " 'cksum',\n",
       " 'corelist5.34',\n",
       " 'segedit',\n",
       " 'zipnote',\n",
       " 'ptar',\n",
       " 'printf',\n",
       " 'AssetCacheTetheratorUtil',\n",
       " 'column',\n",
       " 'ldapexop',\n",
       " 'ippfind',\n",
       " 'syscallbysysc.d',\n",
       " 'groups',\n",
       " 'dwarfdump',\n",
       " 'ppdc',\n",
       " 'rs',\n",
       " 'spfd',\n",
       " 'config_data',\n",
       " 'slogin',\n",
       " 'latency',\n",
       " 'lsm',\n",
       " 'h2ph5.30',\n",
       " 'xar',\n",
       " 'db_codegen',\n",
       " 'dns-sd',\n",
       " 'tab2space',\n",
       " 'avconvert',\n",
       " 'xsubpp5.30',\n",
       " 'jhsdb',\n",
       " 'unzipsfx',\n",
       " 'treereg',\n",
       " 'parl5.30',\n",
       " 'csreq',\n",
       " 'whatis',\n",
       " 'gperf',\n",
       " 'iconutil',\n",
       " 'zipsplit',\n",
       " 'lwp-dump',\n",
       " 'pathopens.d',\n",
       " 'tail',\n",
       " 'whois',\n",
       " 'nsupdate',\n",
       " 'crc32',\n",
       " 'ldapdelete',\n",
       " 'grep',\n",
       " 'moose-outdated5.30',\n",
       " 'pstopdf',\n",
       " 'rwbytype.d',\n",
       " 'script',\n",
       " 'pod2text5.30',\n",
       " 'vtool',\n",
       " 'more',\n",
       " 'ldapwhoami',\n",
       " 'pl2pm',\n",
       " 'ncinit',\n",
       " 'tkmib',\n",
       " 'cal',\n",
       " 'afplay',\n",
       " 'time',\n",
       " 'ssh-agent',\n",
       " 'afktool',\n",
       " 'gcore',\n",
       " 'javap',\n",
       " 'xed',\n",
       " 'uuname',\n",
       " 'javaws',\n",
       " 'ptar5.34',\n",
       " 'env',\n",
       " 'pr',\n",
       " 'h2xs5.34',\n",
       " 'head',\n",
       " 'dsymutil',\n",
       " 'clear',\n",
       " 'manpath',\n",
       " 'apropos',\n",
       " 'units',\n",
       " 'curl-config',\n",
       " 'ptargrep5.34',\n",
       " 'kgetcred',\n",
       " 'rev',\n",
       " 'SplitForks',\n",
       " 'uniq',\n",
       " 'tclsh',\n",
       " 'binhex5.30.pl',\n",
       " 'shazam',\n",
       " 'productsign',\n",
       " 'mklocale',\n",
       " 'defaults',\n",
       " 'tic',\n",
       " 'zip',\n",
       " 'uulog',\n",
       " 'pl2pm5.34',\n",
       " 'atrm',\n",
       " 'curl',\n",
       " 'wdutil',\n",
       " 'agentxtrap',\n",
       " 'db_verify',\n",
       " 'servertool',\n",
       " 'newgrp',\n",
       " 'pod2usage5.34',\n",
       " 'timerfires',\n",
       " 'rpcgen',\n",
       " 'swcutil',\n",
       " 'perlthanks',\n",
       " 'parldyn5.30',\n",
       " 'snmpnetstat',\n",
       " 'lastcomm',\n",
       " 'getconf',\n",
       " 'kpasswd',\n",
       " 'vis',\n",
       " 'dbiproxy',\n",
       " 'ipcrm',\n",
       " 'bputil',\n",
       " 'net-snmp-config',\n",
       " 'otool',\n",
       " 'lwp-dump5.30',\n",
       " 'killall',\n",
       " 'patch',\n",
       " 'tailspin',\n",
       " 'su',\n",
       " 'ul',\n",
       " 'compression_tool',\n",
       " 'dbiproxy5.30',\n",
       " 'tkcon',\n",
       " 'ssh',\n",
       " 'kdestroy',\n",
       " 'yapp5.30',\n",
       " 'snmpgetnext',\n",
       " 'type',\n",
       " 'xsubpp',\n",
       " 'jhat',\n",
       " 'tidy',\n",
       " 'tftp',\n",
       " 'assetutil',\n",
       " 'AssetCacheLocatorUtil',\n",
       " 'orbd',\n",
       " 'usbcfwflasher',\n",
       " 'streamzip',\n",
       " 'networkQuality',\n",
       " 'ktrace',\n",
       " 'DeRez',\n",
       " 'textutil',\n",
       " 'xgettext.pl',\n",
       " 'automator',\n",
       " 'wsgen',\n",
       " 'stat',\n",
       " 'perldoc',\n",
       " 'javac',\n",
       " 'xcsdiagnose',\n",
       " 'mdfind',\n",
       " 'mdls',\n",
       " 'codesign_allocate',\n",
       " 'mddiagnose',\n",
       " 'snmpbulkwalk',\n",
       " 'keytool',\n",
       " 'fileproviderctl',\n",
       " 'binhex.pl',\n",
       " 'IOSDebug',\n",
       " 'dtruss',\n",
       " 'dserr',\n",
       " 'tiff2icns',\n",
       " 'mandoc',\n",
       " 'pbpaste',\n",
       " 'policytool',\n",
       " 'actool',\n",
       " 'heap',\n",
       " 'sum',\n",
       " 'lskq',\n",
       " 'macbinary',\n",
       " 'ncdestroy',\n",
       " 'nc',\n",
       " 'json_pp5.34',\n",
       " 'snmptrap',\n",
       " 'tsort',\n",
       " 'uuencode',\n",
       " 'cpp',\n",
       " 'swift',\n",
       " 'batch',\n",
       " 'sqlite3',\n",
       " 'make',\n",
       " 'pod2html5.34',\n",
       " 'dig',\n",
       " 'zipdetails5.30',\n",
       " 'macerror',\n",
       " 'infocmp',\n",
       " 'eslogger',\n",
       " 'apt',\n",
       " 'trimforce',\n",
       " 'nm',\n",
       " 'flex++',\n",
       " 'osadecompile',\n",
       " 'IOAccelMemory',\n",
       " 'config_data5.30',\n",
       " 'automationmodetool',\n",
       " 'ssh-add',\n",
       " 'machine',\n",
       " 'encguess5.30',\n",
       " 'libnetcfg5.34',\n",
       " 'wish8.5',\n",
       " 'screen',\n",
       " 'snmpget',\n",
       " 'piconv5.30',\n",
       " 'pcsctest',\n",
       " 'codesign',\n",
       " 'atos',\n",
       " 'llvm-gcc',\n",
       " 'mailq',\n",
       " 'arch',\n",
       " 'ssh-keygen',\n",
       " 'snmptable',\n",
       " 'kill.d',\n",
       " 'ditto',\n",
       " 'getopts',\n",
       " 'users',\n",
       " 'snmpbulkget',\n",
       " 'ipcount5.30',\n",
       " 'sdp',\n",
       " 'perlbug5.30',\n",
       " 'cpan5.34',\n",
       " 'showmount',\n",
       " 'taskinfo',\n",
       " 'ar',\n",
       " 'who',\n",
       " 'mktemp',\n",
       " 'unifdef',\n",
       " 'yaa',\n",
       " 'cut',\n",
       " 'imptrace',\n",
       " 'pack200',\n",
       " 'ippeveprinter',\n",
       " 'hdid',\n",
       " 'dc',\n",
       " 'mailx',\n",
       " 'odutil',\n",
       " 'jsadebugd',\n",
       " 'shortcuts',\n",
       " 'xargs',\n",
       " 'tkpp',\n",
       " 'priclass.d',\n",
       " 'topsysproc',\n",
       " 'nl',\n",
       " 'podchecker5.30',\n",
       " 'view',\n",
       " 'jjs',\n",
       " 'spfquery',\n",
       " 'sample',\n",
       " 'bg',\n",
       " 'lipo',\n",
       " 'seeksize.d',\n",
       " 'eyapp',\n",
       " 'clang++',\n",
       " 'setuids.d',\n",
       " 'instmodsh5.34',\n",
       " 'aa',\n",
       " 'shlock',\n",
       " 'symbols',\n",
       " 'perlthanks5.30',\n",
       " 'xctrace',\n",
       " 'pod2man5.30',\n",
       " 'gzexe',\n",
       " 'json_xs5.30',\n",
       " 'genstrings',\n",
       " 'at',\n",
       " 'what',\n",
       " 'sdx',\n",
       " 'm4',\n",
       " 'asa',\n",
       " 'iptab',\n",
       " 'swiftc',\n",
       " 'nfsstat',\n",
       " 'eyapp5.30',\n",
       " 'uupick',\n",
       " 'ipcs',\n",
       " 'pluginkit',\n",
       " 'as',\n",
       " 'splain5.34',\n",
       " 'fold',\n",
       " 'gnumake',\n",
       " 'log',\n",
       " 'tmutil',\n",
       " 'checknr',\n",
       " 'certtool',\n",
       " 'vmmap',\n",
       " 'h2xs',\n",
       " 'csrutil',\n",
       " 'shar',\n",
       " 'ldappasswd',\n",
       " 'ResMerger',\n",
       " 'bitesize.d',\n",
       " 'db_checkpoint',\n",
       " 'funzip',\n",
       " 'power_report.sh',\n",
       " 'iosnoop',\n",
       " 'atsutil',\n",
       " 'osalang',\n",
       " 'dirname',\n",
       " 'pod2man',\n",
       " 'enc2xs',\n",
       " 'shasum5.34',\n",
       " 'iopending',\n",
       " 'ncal',\n",
       " 'chflags',\n",
       " 'derq',\n",
       " 'fg',\n",
       " 'rwbypid.d',\n",
       " 'jmap',\n",
       " 'dscl',\n",
       " 'leaks',\n",
       " 'perl5.34',\n",
       " 'nbdst',\n",
       " 'mnthome',\n",
       " 'jshell',\n",
       " 'dsexport',\n",
       " 'mdimport',\n",
       " 'parldyn',\n",
       " 'id',\n",
       " 'procsystime',\n",
       " 'cd',\n",
       " 'quota',\n",
       " 'uuto',\n",
       " 'fuser',\n",
       " 'dsimport',\n",
       " 'git-shell',\n",
       " 'ldapsearch',\n",
       " 'command',\n",
       " 'snmp-bridge-mib',\n",
       " 'egrep',\n",
       " 'notifyutil',\n",
       " 'cc',\n",
       " 'dsmemberutil',\n",
       " 'podselect',\n",
       " 'whereis',\n",
       " 'tccutil',\n",
       " 'find',\n",
       " 'jstat',\n",
       " 'zcat',\n",
       " 'unifdefall',\n",
       " 'jlink',\n",
       " 'enc2xs5.30',\n",
       " 'pridist.d',\n",
       " 'size',\n",
       " 'timesyncanalyse',\n",
       " 'uttype',\n",
       " 'uustat',\n",
       " 'snmpwalk',\n",
       " 'llvm-g++',\n",
       " 'scp',\n",
       " 'tnameserv',\n",
       " 'true',\n",
       " 'afinfo',\n",
       " 'hidutil',\n",
       " 'ldapadd',\n",
       " 'pwpolicy',\n",
       " 'profiles',\n",
       " 'yacc',\n",
       " 'kswitch',\n",
       " 'xcodebuild',\n",
       " 'tkpp5.30',\n",
       " 'test-yaml5.30',\n",
       " 'jobs',\n",
       " 'c89',\n",
       " 'sudo',\n",
       " 'update_mcdp29xx',\n",
       " 'bioutil',\n",
       " 'tmdiagnose',\n",
       " 'plockstat',\n",
       " 'serialver',\n",
       " 'afida',\n",
       " 'pgrep',\n",
       " 'yes',\n",
       " 'lessecho',\n",
       " 'sdiff',\n",
       " 'afscexpand',\n",
       " 'spfquery5.30',\n",
       " 'db_deadlock',\n",
       " 'ldapcompare',\n",
       " 'unexpand',\n",
       " 'prove5.30',\n",
       " 'perlivp5.30',\n",
       " 'git-upload-pack',\n",
       " 'perldoc5.34',\n",
       " 'ssh-copy-id',\n",
       " 'fixproc',\n",
       " 'debinhex.pl',\n",
       " 'lorder',\n",
       " 'ranlib',\n",
       " 'ptardiff5.34',\n",
       " 'javadoc',\n",
       " 'tput',\n",
       " 'fgrep',\n",
       " 'par.pl',\n",
       " 'sigdist.d',\n",
       " 'ppdhtml',\n",
       " 'auval',\n",
       " 'erb',\n",
       " 'dappprof',\n",
       " 'openssl',\n",
       " 'yamlpp-load',\n",
       " 'drutil',\n",
       " 'jinfo',\n",
       " 'lwp-download5.30',\n",
       " 'splain',\n",
       " 'pmset',\n",
       " 'xmlcatalog',\n",
       " 'zcmp',\n",
       " 'rwsnoop',\n",
       " 'jstatd',\n",
       " 'lpr',\n",
       " 'layerutil',\n",
       " 'snmptest',\n",
       " 'mib2c-update',\n",
       " 'creatbyproc.d',\n",
       " 'fdesetup',\n",
       " 'flex',\n",
       " 'hostinfo',\n",
       " 'jcontrol',\n",
       " 'lpstat',\n",
       " 'SetFile',\n",
       " 'pod2html',\n",
       " 'tar',\n",
       " 'rdoc',\n",
       " 'uptime',\n",
       " 'pidpersec.d',\n",
       " 'schemagen',\n",
       " 'avmediainfo',\n",
       " 'corelist5.30',\n",
       " 'iptab5.30',\n",
       " 'cvcp',\n",
       " 'false',\n",
       " 'zegrep',\n",
       " 'memory_pressure',\n",
       " 'pp5.30',\n",
       " 'uncompress',\n",
       " 'lwp-request',\n",
       " 'ncurses5.4-config',\n",
       " 'sampleproc',\n",
       " 'db_recover',\n",
       " 'dyld_usage',\n",
       " 'nmedit',\n",
       " 'filebyproc.d',\n",
       " 'bison',\n",
       " 'tclsh8.5',\n",
       " 'jdeps',\n",
       " 'productbuild',\n",
       " 'zipinfo',\n",
       " 'diffstat',\n",
       " 'login',\n",
       " 'db_dump',\n",
       " 'cpuctl',\n",
       " 'cpu_profiler.d',\n",
       " 'which',\n",
       " 'bundler',\n",
       " 'iopattern',\n",
       " 'finger',\n",
       " 'mig',\n",
       " 'sntp',\n",
       " 'klist',\n",
       " 'open',\n",
       " 'GetFileInfo',\n",
       " 'kmutil',\n",
       " 'localedef',\n",
       " 'ruby',\n",
       " 'stringdups',\n",
       " 'htmltree',\n",
       " 'git',\n",
       " 'tr',\n",
       " 'banner',\n",
       " 'leave',\n",
       " 'jconsole',\n",
       " 'paste',\n",
       " 'bzip2',\n",
       " 'uucp',\n",
       " 'passwd',\n",
       " 'macerror5.30',\n",
       " 'uuidgen',\n",
       " 'install_name_tool',\n",
       " 'cmpdylib',\n",
       " 'pod2text5.34',\n",
       " 'zfgrep',\n",
       " 'aea',\n",
       " 'snfsdefrag',\n",
       " 'zipdetails',\n",
       " 'look',\n",
       " 'col',\n",
       " 'dscacheutil',\n",
       " 'syscapturediags',\n",
       " 'lwp-request5.30',\n",
       " 'zforce',\n",
       " 'lwp-mirror',\n",
       " 'malloc_history',\n",
       " 'cpio',\n",
       " 'h2ph5.34',\n",
       " 'nohup',\n",
       " 'kcc',\n",
       " 'ulimit',\n",
       " 'rails',\n",
       " 'bspatch',\n",
       " 'hotspot.d',\n",
       " 'cvaffinity',\n",
       " 'xsubpp5.34',\n",
       " 'gatherheaderdoc',\n",
       " 'ppdi',\n",
       " 'pcap-config',\n",
       " 'jpackage',\n",
       " 'avmetareadwrite',\n",
       " 'gen_bridge_metadata',\n",
       " 'gem',\n",
       " 'spfd5.30',\n",
       " 'opendiff',\n",
       " 'crc325.30',\n",
       " 'talk',\n",
       " 'expect',\n",
       " 'jimage',\n",
       " 'lockstat',\n",
       " 'dapptrace',\n",
       " 'xattr',\n",
       " 'w',\n",
       " 'gunzip']"
      ]
     },
     "execution_count": 5,
     "metadata": {},
     "output_type": "execute_result"
    }
   ],
   "source": [
    "os.listdir('/usr/bin/')"
   ]
  },
  {
   "cell_type": "code",
   "execution_count": 35,
   "metadata": {
    "ExecuteTime": {
     "end_time": "2021-01-19T20:24:48.686121Z",
     "start_time": "2021-01-19T20:24:48.677852Z"
    },
    "code_folding": [],
    "jupyter": {
     "source_hidden": true
    },
    "run_control": {
     "marked": false
    },
    "tags": []
   },
   "outputs": [
    {
     "name": "stdout",
     "output_type": "stream",
     "text": [
      "[]\n",
      "Nombre de fichiers de type txt: (9) json: (7) jpg: (4) png: (4)\n",
      " Les autres fichiers  ['csv', 'xml', 'scripts']\n"
     ]
    }
   ],
   "source": [
    "# exercice sur les fichiers :\n",
    "# le plus simple sera de prendre le fichier data qui est dans le même répertoire\n",
    "fichiers = os.listdir('data')\n",
    "# quels types de fichiers \n",
    "L_txt = []\n",
    "L_json = []\n",
    "L_jpg = []\n",
    "L_png = []\n",
    "L_other = []\n",
    "print(L_txt)\n",
    "for fich in fichiers:\n",
    "    if 'txt' in fich:\n",
    "        L_txt.append(fich)\n",
    "    elif 'json' in fich:\n",
    "        L_json.append(fich)\n",
    "    elif 'jpg' in fich:\n",
    "        L_jpg.append(fich)\n",
    "    elif 'png' in fich:\n",
    "        L_png.append(fich)\n",
    "    else: # permet de prendre tout ce qui n'est pas traité par nos if\n",
    "        L_other.append(fich)\n",
    "\n",
    "print('Nombre de fichiers de type txt: ({}) json: ({}) jpg: ({}) png: ({})'.\n",
    "      format(len(L_txt),len(L_json),len(L_jpg),len(L_png)))\n",
    "print(' Les autres fichiers ', L_other)"
   ]
  },
  {
   "cell_type": "markdown",
   "metadata": {},
   "source": [
    "# General Syntax\n",
    "---\n",
    "A general function looks something like this:"
   ]
  },
  {
   "cell_type": "code",
   "execution_count": 36,
   "metadata": {
    "ExecuteTime": {
     "end_time": "2021-01-19T20:25:22.490221Z",
     "start_time": "2021-01-19T20:25:22.487651Z"
    },
    "collapsed": false,
    "jupyter": {
     "outputs_hidden": false
    }
   },
   "outputs": [
    {
     "ename": "IndentationError",
     "evalue": "expected an indented block (<ipython-input-36-c8ee908aa690>, line 7)",
     "output_type": "error",
     "traceback": [
      "\u001b[0;36m  File \u001b[0;32m\"<ipython-input-36-c8ee908aa690>\"\u001b[0;36m, line \u001b[0;32m7\u001b[0m\n\u001b[0;31m    function_name(value_1, value_2)\u001b[0m\n\u001b[0m                ^\u001b[0m\n\u001b[0;31mIndentationError\u001b[0m\u001b[0;31m:\u001b[0m expected an indented block\n"
     ]
    }
   ],
   "source": [
    "# Let's define a function.\n",
    "def function_name(argument_1, argument_2):\n",
    "\t# Do whatever we want this function to do,\n",
    "\t#  using argument_1 and argument_2\n",
    "\n",
    "# Use function_name to call the function.\n",
    "function_name(value_1, value_2)"
   ]
  },
  {
   "cell_type": "markdown",
   "metadata": {},
   "source": [
    "here is a simple example"
   ]
  },
  {
   "cell_type": "code",
   "execution_count": null,
   "metadata": {
    "ExecuteTime": {
     "end_time": "2021-01-14T16:25:20.935739Z",
     "start_time": "2021-01-14T16:25:20.924108Z"
    }
   },
   "outputs": [],
   "source": [
    "def my_first_function():\n",
    "    print('Hello world!')\n",
    "\n",
    "print('type: {}'.format(my_first_function))\n",
    "\n",
    "my_first_function()  # Calling a function"
   ]
  },
  {
   "cell_type": "markdown",
   "metadata": {},
   "source": [
    "This code will not run, but it shows how functions are used in general.\n",
    "\n",
    "- **Defining a function**\n",
    "    - Give the keyword `def`, which tells Python that you are about to *define* a function.\n",
    "    - Give your function a name. A variable name tells you what kind of value the variable contains; a function name should tell you what the function does.\n",
    "    - Give names for each value the function needs in order to do its work.\n",
    "        - These are basically variable names, but they are only used in the function.\n",
    "        - They can be different names than what you use in the rest of your program.\n",
    "        - These are called the function's *arguments*.\n",
    "    - Make sure the function definition line ends with a colon.\n",
    "    - Inside the function, write whatever code you need to make the function do its work.\n",
    "- **Using your function**\n",
    "    - To *call* your function, write its name followed by parentheses.\n",
    "    - Inside the parentheses, give the values you want the function to work with.\n",
    "        - These can be variables such as `current_name` and `current_age`, or they can be actual values such as 'eric' and 5."
   ]
  },
  {
   "cell_type": "markdown",
   "metadata": {},
   "source": [
    "### Arguments "
   ]
  },
  {
   "cell_type": "code",
   "execution_count": 10,
   "metadata": {
    "ExecuteTime": {
     "end_time": "2021-01-14T16:28:28.054925Z",
     "start_time": "2021-01-14T16:28:28.046238Z"
    }
   },
   "outputs": [
    {
     "name": "stdout",
     "output_type": "stream",
     "text": [
      "Hello John Doe and Superman!\n"
     ]
    }
   ],
   "source": [
    "def greet_us(name1, name2):\n",
    "    print('Hello {} and {}!'.format(name1, name2))\n",
    "\n",
    "greet_us('John Doe', 'Superman')"
   ]
  },
  {
   "cell_type": "code",
   "execution_count": 11,
   "metadata": {
    "ExecuteTime": {
     "end_time": "2021-01-14T16:29:12.242391Z",
     "start_time": "2021-01-14T16:29:12.229553Z"
    }
   },
   "outputs": [
    {
     "name": "stdout",
     "output_type": "stream",
     "text": [
      "pretty: mixed case\n"
     ]
    }
   ],
   "source": [
    "# Function with return value\n",
    "def strip_and_lowercase(original):\n",
    "    modified = original.strip().lower()\n",
    "    return modified\n",
    "\n",
    "uggly_string = '  MixED CaSe '\n",
    "pretty = strip_and_lowercase(uggly_string)\n",
    "print('pretty: {}'.format(pretty))"
   ]
  },
  {
   "cell_type": "markdown",
   "metadata": {},
   "source": [
    "Basic Examples\n",
    "===\n",
    "For a simple first example, we will look at a program that compliments people. Let's look at the example, and then try to understand the code. First we will look at a version of this program as we would have written it earlier, with no functions."
   ]
  },
  {
   "cell_type": "code",
   "execution_count": 2,
   "metadata": {
    "collapsed": false,
    "jupyter": {
     "outputs_hidden": false
    }
   },
   "outputs": [
    {
     "name": "stdout",
     "output_type": "stream",
     "text": [
      "You are doing good work, Adriana!\n",
      "Thank you very much for your efforts on this project.\n",
      "\n",
      "You are doing good work, Billy!\n",
      "Thank you very much for your efforts on this project.\n",
      "\n",
      "You are doing good work, Caroline!\n",
      "Thank you very much for your efforts on this project.\n"
     ]
    }
   ],
   "source": [
    "print(\"You are doing good work, Adriana!\")\n",
    "print(\"Thank you very much for your efforts on this project.\")\n",
    "\n",
    "print(\"\\nYou are doing good work, Billy!\")\n",
    "print(\"Thank you very much for your efforts on this project.\")\n",
    "\n",
    "print(\"\\nYou are doing good work, Caroline!\")\n",
    "print(\"Thank you very much for your efforts on this project.\")"
   ]
  },
  {
   "cell_type": "markdown",
   "metadata": {},
   "source": [
    "Functions take repeated code, put it in one place, and then you call that code when you want to use it. Here's what the same program looks like with a function."
   ]
  },
  {
   "cell_type": "code",
   "execution_count": 4,
   "metadata": {
    "collapsed": false,
    "jupyter": {
     "outputs_hidden": false
    }
   },
   "outputs": [
    {
     "name": "stdout",
     "output_type": "stream",
     "text": [
      "\n",
      "You are doing good work, Adriana!\n",
      "Thank you very much for your efforts on this project.\n",
      "\n",
      "You are doing good work, Billy!\n",
      "Thank you very much for your efforts on this project.\n",
      "\n",
      "You are doing good work, Caroline!\n",
      "Thank you very much for your efforts on this project.\n"
     ]
    }
   ],
   "source": [
    "def thank_you(name):\n",
    "    # This function prints a two-line personalized thank you message.\n",
    "    print(\"\\nYou are doing good work, %s!\" % name)\n",
    "    print(\"Thank you very much for your efforts on this project.\")\n",
    "    \n",
    "thank_you('Adriana')\n",
    "thank_you('Billy')\n",
    "thank_you('Caroline')"
   ]
  },
  {
   "cell_type": "markdown",
   "metadata": {},
   "source": [
    "In our original code, each pair of print statements was run three times, and the only difference was the name of the person being thanked. When you see repetition like this, you can usually make your program more efficient by defining a function.\n",
    "\n",
    "The keyword *def* tells Python that we are about to define a function. We give our function a name, *thank\\_you()* in this case. A variable's name should tell us what kind of information it holds; a function's name should tell us what the variable does.  We then put parentheses. Inside these parenthese we create variable names for any variable the function will need to be given in order to do its job. In this case the function will need a name to include in the thank you message. The variable `name` will hold the value that is passed into the function *thank\\_you()*.\n",
    "\n",
    "To use a function we give the function's name, and then put any values the function needs in order to do its work. In this case we call the function three times, each time passing it a different name."
   ]
  },
  {
   "cell_type": "markdown",
   "metadata": {},
   "source": [
    "### A common error\n",
    "<span class=\"girk\">A function must be defined before you use it in your program</span>. For example, putting the function at the end of the program would not work."
   ]
  },
  {
   "cell_type": "code",
   "execution_count": 1,
   "metadata": {
    "collapsed": false,
    "jupyter": {
     "outputs_hidden": false
    }
   },
   "outputs": [
    {
     "ename": "NameError",
     "evalue": "name 'thank_you' is not defined",
     "output_type": "error",
     "traceback": [
      "\u001b[1;31m---------------------------------------------------------------------------\u001b[0m\n\u001b[1;31mNameError\u001b[0m                                 Traceback (most recent call last)",
      "\u001b[1;32m<ipython-input-1-a1b6b8373f44>\u001b[0m in \u001b[0;36m<module>\u001b[1;34m()\u001b[0m\n\u001b[1;32m----> 1\u001b[1;33m \u001b[0mthank_you\u001b[0m\u001b[1;33m(\u001b[0m\u001b[1;34m'Adriana'\u001b[0m\u001b[1;33m)\u001b[0m\u001b[1;33m\u001b[0m\u001b[0m\n\u001b[0m\u001b[0;32m      2\u001b[0m \u001b[0mthank_you\u001b[0m\u001b[1;33m(\u001b[0m\u001b[1;34m'Billy'\u001b[0m\u001b[1;33m)\u001b[0m\u001b[1;33m\u001b[0m\u001b[0m\n\u001b[0;32m      3\u001b[0m \u001b[0mthank_you\u001b[0m\u001b[1;33m(\u001b[0m\u001b[1;34m'Caroline'\u001b[0m\u001b[1;33m)\u001b[0m\u001b[1;33m\u001b[0m\u001b[0m\n\u001b[0;32m      4\u001b[0m \u001b[1;33m\u001b[0m\u001b[0m\n\u001b[0;32m      5\u001b[0m \u001b[1;32mdef\u001b[0m \u001b[0mthank_you\u001b[0m\u001b[1;33m(\u001b[0m\u001b[0mname\u001b[0m\u001b[1;33m)\u001b[0m\u001b[1;33m:\u001b[0m\u001b[1;33m\u001b[0m\u001b[0m\n",
      "\u001b[1;31mNameError\u001b[0m: name 'thank_you' is not defined"
     ]
    }
   ],
   "source": [
    "thank_you('Adriana')\n",
    "thank_you('Billy')\n",
    "thank_you('Caroline')\n",
    "\n",
    "def thank_you(name):\n",
    "    # This function prints a two-line personalized thank you message.\n",
    "    print(\"\\nYou are doing good work, %s!\" % name)\n",
    "    print(\"Thank you very much for your efforts on this project.\")"
   ]
  },
  {
   "cell_type": "markdown",
   "metadata": {},
   "source": [
    "On the first line we ask Python to run the function *thank\\_you()*, but Python does not yet know how to do this function. We define our functions at the beginning of our programs, and then we can use them when we need to."
   ]
  },
  {
   "cell_type": "markdown",
   "metadata": {},
   "source": [
    "### Another example\n",
    "\n",
    "Here's what code looks like, using a function to print out the list:"
   ]
  },
  {
   "cell_type": "code",
   "execution_count": 9,
   "metadata": {
    "collapsed": false,
    "jupyter": {
     "outputs_hidden": false
    }
   },
   "outputs": [
    {
     "name": "stdout",
     "output_type": "stream",
     "text": [
      "Our students are currently in alphabetical order.\n",
      "Aaron\n",
      "Bernice\n",
      "Cody\n",
      "\n",
      "Our students are now in reverse alphabetical order.\n",
      "Cody\n",
      "Bernice\n",
      "Aaron\n"
     ]
    }
   ],
   "source": [
    "###highlight=[2,3,4,5,6,12,16]\n",
    "def show_students(students, message):\n",
    "    # Print out a message, and then the list of students\n",
    "    print(message)\n",
    "    for student in students:\n",
    "        print(student.title())\n",
    "\n",
    "students = ['bernice', 'aaron', 'cody']\n",
    "\n",
    "# Put students in alphabetical order.\n",
    "students.sort()\n",
    "show_students(students, \"Our students are currently in alphabetical order.\")\n",
    "\n",
    "#Put students in reverse alphabetical order.\n",
    "students.sort(reverse=True)\n",
    "show_students(students, \"\\nOur students are now in reverse alphabetical order.\")"
   ]
  },
  {
   "cell_type": "markdown",
   "metadata": {},
   "source": [
    "This is much cleaner code. We have an action we want to take, which is to show the students in our list along with a message. We give this action a name, *show\\_students()*. \n",
    "\n",
    "This function needs two pieces of information to do its work, the list of students and a message to display. Inside the function, the code for printing the message and looping through the list is exactly as it was in the non-function code.\n",
    "\n",
    "Now the rest of our program is cleaner, because it gets to focus on the things we are changing in the list, rather than having code for printing the list. We define the list, then we sort it and call our function to print the list. We sort it again, and then call the printing function a second time, with a different message. This is much more readable code.\n",
    "\n",
    "### Advantages of using functions\n",
    "You might be able to see some advantages of using functions, through this example:\n",
    "\n",
    "- <span class=\"girk\">We write a set of instructions once</span>. We save some work in this simple example, and we save even more work in larger programs.\n",
    "- When our function works, <span class=\"girk\">we don't have to worry about that code anymore</span>. Every time you repeat code in your program, you introduce an opportunity to make a mistake. Writing a function means there is <span class=\"girk\">one place to fix mistakes</span>, and when those bugs are fixed, we can be confident that this function will continue to work correctly.\n",
    "- <span class=\"girk\">We can modify our function's behavior, and that change takes effect every time the function is called</span>. This is much better than deciding we need some new behavior, and then having to change code in many different places in our program."
   ]
  },
  {
   "cell_type": "markdown",
   "metadata": {},
   "source": [
    "For a quick example, let's say we decide our printed output would look better with some form of a bulleted list. Without functions, we'd have to change each print statement. With a function, we change just the print statement in the function:"
   ]
  },
  {
   "cell_type": "code",
   "execution_count": 10,
   "metadata": {
    "collapsed": false,
    "jupyter": {
     "outputs_hidden": false
    }
   },
   "outputs": [
    {
     "name": "stdout",
     "output_type": "stream",
     "text": [
      "Our students are currently in alphabetical order.\n",
      "- Aaron\n",
      "- Bernice\n",
      "- Cody\n",
      "\n",
      "Our students are now in reverse alphabetical order.\n",
      "- Cody\n",
      "- Bernice\n",
      "- Aaron\n"
     ]
    }
   ],
   "source": [
    "def show_students(students, message):\n",
    "    # Print out a message, and then the list of students\n",
    "    print(message)\n",
    "    for student in students:\n",
    "        print(\"- \" + student.title())\n",
    "\n",
    "students = ['bernice', 'aaron', 'cody']\n",
    "\n",
    "# Put students in alphabetical order.\n",
    "students.sort()\n",
    "show_students(students, \"Our students are currently in alphabetical order.\")\n",
    "\n",
    "#Put students in reverse alphabetical order.\n",
    "students.sort(reverse=True)\n",
    "show_students(students, \"\\nOur students are now in reverse alphabetical order.\")"
   ]
  },
  {
   "cell_type": "markdown",
   "metadata": {},
   "source": [
    "You can think of functions as a way to \"teach\" Python some new behavior. In this case, we taught Python how to create a list of students using hyphens; now we can tell Python to do this with our students whenever we want to."
   ]
  },
  {
   "cell_type": "markdown",
   "metadata": {},
   "source": [
    "Returning a Value\n",
    "---\n",
    "Each function you create can return a value. This can be in addition to the primary work the function does, or it can be the function's main job. The following function takes in a number, and returns the corresponding word for that number:"
   ]
  },
  {
   "cell_type": "code",
   "execution_count": 3,
   "metadata": {
    "collapsed": false,
    "jupyter": {
     "outputs_hidden": false
    }
   },
   "outputs": [
    {
     "name": "stdout",
     "output_type": "stream",
     "text": [
      "0 None\n",
      "1 one\n",
      "2 two\n",
      "3 three\n"
     ]
    }
   ],
   "source": [
    "def get_number_word(number):\n",
    "    # Takes in a numerical value, and returns\n",
    "    #  the word corresponding to that number.\n",
    "    if number == 1:\n",
    "        return 'one'\n",
    "    elif number == 2:\n",
    "        return 'two'\n",
    "    elif number == 3:\n",
    "        return 'three'\n",
    "    # ...\n",
    "    \n",
    "# Let's try out our function.\n",
    "for current_number in range(0,4):\n",
    "    number_word = get_number_word(current_number)\n",
    "    print(current_number, number_word)"
   ]
  },
  {
   "cell_type": "markdown",
   "metadata": {},
   "source": [
    "It's helpful sometimes to see programs that don't quite work as they are supposed to, and then see how those programs can be improved. In this case, there are no Python errors; all of the code has proper Python syntax. But there is a logical error, in the first line of the output.\n",
    "\n",
    "We want to either not include 0 in the range we send to the function, or have the function return something other than `None` when it receives a value that it doesn't know. Let's teach our function the word 'zero', but let's also add an `else` clause that returns a more informative message for numbers that are not in the if-chain."
   ]
  },
  {
   "cell_type": "code",
   "execution_count": 5,
   "metadata": {
    "collapsed": false,
    "jupyter": {
     "outputs_hidden": false
    }
   },
   "outputs": [
    {
     "name": "stdout",
     "output_type": "stream",
     "text": [
      "0 zero\n",
      "1 one\n",
      "2 two\n",
      "3 three\n",
      "4 I'm sorry, I don't know that number.\n",
      "5 I'm sorry, I don't know that number.\n"
     ]
    }
   ],
   "source": [
    "###highlight=[13,14,17]\n",
    "def get_number_word(number):\n",
    "    # Takes in a numerical value, and returns\n",
    "    #  the word corresponding to that number.\n",
    "    if number == 0:\n",
    "        return 'zero'\n",
    "    elif number == 1:\n",
    "        return 'one'\n",
    "    elif number == 2:\n",
    "        return 'two'\n",
    "    elif number == 3:\n",
    "        return 'three'\n",
    "    else:\n",
    "        return \"I'm sorry, I don't know that number.\"\n",
    "    \n",
    "# Let's try out our function.\n",
    "for current_number in range(0,6):\n",
    "    number_word = get_number_word(current_number)\n",
    "    print(current_number, number_word)"
   ]
  },
  {
   "cell_type": "markdown",
   "metadata": {},
   "source": [
    "If you use a return statement in one of your functions, keep in mind that the function stops executing as soon as it hits a return statement. For example, we can add a line to the *get\\_number\\_word()* function that will never execute, because it comes after the function has returned a value:"
   ]
  },
  {
   "cell_type": "code",
   "execution_count": 7,
   "metadata": {
    "collapsed": false,
    "jupyter": {
     "outputs_hidden": false
    }
   },
   "outputs": [
    {
     "name": "stdout",
     "output_type": "stream",
     "text": [
      "0 zero\n",
      "1 one\n",
      "2 two\n",
      "3 three\n",
      "4 I'm sorry, I don't know that number.\n",
      "5 I'm sorry, I don't know that number.\n"
     ]
    }
   ],
   "source": [
    "###highlight=[16,17,18]\n",
    "def get_number_word(number):\n",
    "    # Takes in a numerical value, and returns\n",
    "    #  the word corresponding to that number.\n",
    "    if number == 0:\n",
    "        return 'zero'\n",
    "    elif number == 1:\n",
    "        return 'one'\n",
    "    elif number == 2:\n",
    "        return 'two'\n",
    "    elif number == 3:\n",
    "        return 'three'\n",
    "    else:\n",
    "        return \"I'm sorry, I don't know that number.\"\n",
    "    \n",
    "    # This line will never execute, because the function has already\n",
    "    #  returned a value and stopped executing.\n",
    "    print(\"This message will never be printed.\")\n",
    "    \n",
    "# Let's try out our function.\n",
    "for current_number in range(0,6):\n",
    "    number_word = get_number_word(current_number)\n",
    "    print(current_number, number_word)"
   ]
  },
  {
   "cell_type": "markdown",
   "metadata": {},
   "source": [
    "More Later\n",
    "---\n",
    "There is much more to learn about functions, but we will get to those details later. For now, feel free to use functions whenever you find yourself writing the same code several times in a program. Some of the things you will learn when we focus on functions:\n",
    "\n",
    "- How to give the arguments in your function default values.\n",
    "- How to let your functions accept different numbers of arguments."
   ]
  },
  {
   "cell_type": "markdown",
   "metadata": {},
   "source": [
    "Exercises\n",
    "---\n",
    "#### Greeter\n",
    "- Write a function that takes in a person's name, and prints out a greeting.\n",
    "    - The greeting must be at least three lines, and the person's name must be in each line.\n",
    "- Use your function to greet at least three different people.\n",
    "- **Bonus:** Store your three people in a list, and call your function from a `for` loop.\n",
    "\n",
    "#### Full Names\n",
    "- Write a function that takes in a first name and a last name, and prints out a nicely formatted full name, in a sentence. Your sentence could be as simple as, \"Hello, *full\\_name*.\"\n",
    "- Call your function three times, with a different name each time.\n",
    "\n",
    "#### Addition Calculator\n",
    "- Write a function that takes in two numbers, and adds them together. Make your function print out a sentence showing the two numbers, and the result.\n",
    "- Call your function with three different sets of numbers.\n",
    "\n",
    "#### Return Calculator\n",
    "- Modify *Addition Calculator* so that your function returns the sum of the two numbers. The printing should happen outside of the function.\n",
    "\n",
    "#### List Exercises - Functions\n",
    "- Go back to our last exercice on lists (find min, max, etc) and do it using a function\n",
    "\n"
   ]
  }
 ],
 "metadata": {
  "kernelspec": {
   "display_name": "Python 3 (ipykernel)",
   "language": "python",
   "name": "python3"
  },
  "language_info": {
   "codemirror_mode": {
    "name": "ipython",
    "version": 3
   },
   "file_extension": ".py",
   "mimetype": "text/x-python",
   "name": "python",
   "nbconvert_exporter": "python",
   "pygments_lexer": "ipython3",
   "version": "3.11.3"
  },
  "toc": {
   "base_numbering": 1,
   "nav_menu": {},
   "number_sections": true,
   "sideBar": true,
   "skip_h1_title": false,
   "title_cell": "Table of Contents",
   "title_sidebar": "Contents",
   "toc_cell": false,
   "toc_position": {},
   "toc_section_display": true,
   "toc_window_display": false
  },
  "varInspector": {
   "cols": {
    "lenName": 16,
    "lenType": 16,
    "lenVar": 40
   },
   "kernels_config": {
    "python": {
     "delete_cmd_postfix": "",
     "delete_cmd_prefix": "del ",
     "library": "var_list.py",
     "varRefreshCmd": "print(var_dic_list())"
    },
    "r": {
     "delete_cmd_postfix": ") ",
     "delete_cmd_prefix": "rm(",
     "library": "var_list.r",
     "varRefreshCmd": "cat(var_dic_list()) "
    }
   },
   "types_to_exclude": [
    "module",
    "function",
    "builtin_function_or_method",
    "instance",
    "_Feature"
   ],
   "window_display": false
  }
 },
 "nbformat": 4,
 "nbformat_minor": 4
}
