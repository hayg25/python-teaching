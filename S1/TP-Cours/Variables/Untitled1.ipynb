{
 "cells": [
  {
   "cell_type": "code",
   "execution_count": 13,
   "id": "f554a7cf-8e6b-429b-aa11-681671bcd2c9",
   "metadata": {
    "tags": []
   },
   "outputs": [
    {
     "data": {
      "text/plain": [
       "['maison', 'voiture', 'chat', '112']"
      ]
     },
     "execution_count": 13,
     "metadata": {},
     "output_type": "execute_result"
    }
   ],
   "source": [
    "chaine = 'maison,voiture,chat,112'\n",
    "liste_noms = chaine.split(sep=',')\n",
    "liste_noms"
   ]
  },
  {
   "cell_type": "code",
   "execution_count": 12,
   "id": "51f99cf5-994c-49ff-a13e-d3b4a62703e1",
   "metadata": {
    "tags": []
   },
   "outputs": [
    {
     "name": "stdout",
     "output_type": "stream",
     "text": [
      "1 maison\n",
      "2 voiture\n",
      "3 chat\n",
      "4 112\n"
     ]
    }
   ],
   "source": [
    "i=0\n",
    "for val in liste_noms:\n",
    "    i+=1\n",
    "    print(i, val)"
   ]
  },
  {
   "cell_type": "code",
   "execution_count": null,
   "id": "928f38be-7c0f-4efd-be99-ede8c3684fd7",
   "metadata": {},
   "outputs": [],
   "source": []
  },
  {
   "cell_type": "code",
   "execution_count": 9,
   "id": "d6c56dc9-b647-44cf-bc4a-17f265e89efc",
   "metadata": {
    "tags": []
   },
   "outputs": [
    {
     "name": "stdout",
     "output_type": "stream",
     "text": [
      "0 maison\n",
      "1 voiture\n",
      "2 chat\n",
      "3 112\n"
     ]
    }
   ],
   "source": [
    "for i in range(len(liste_noms)):\n",
    "    print(i, liste_noms[i])"
   ]
  },
  {
   "cell_type": "code",
   "execution_count": 10,
   "id": "1336296c-a4a4-4dcc-aecc-ed2c4e9c8d1b",
   "metadata": {
    "tags": []
   },
   "outputs": [
    {
     "name": "stdout",
     "output_type": "stream",
     "text": [
      "0 maison\n",
      "1 voiture\n",
      "2 chat\n",
      "3 112\n"
     ]
    }
   ],
   "source": [
    "for i, val in enumerate(liste_noms):\n",
    "    print(i, val)"
   ]
  },
  {
   "cell_type": "code",
   "execution_count": null,
   "id": "1f401ecf-15ad-46df-93c8-7a59b81b9f37",
   "metadata": {},
   "outputs": [],
   "source": []
  },
  {
   "cell_type": "code",
   "execution_count": 14,
   "id": "a455fa16-7550-42a1-aa8d-a495ff7d3579",
   "metadata": {
    "scrolled": true,
    "slideshow": {
     "slide_type": "subslide"
    },
    "tags": []
   },
   "outputs": [],
   "source": [
    "dictionnaire = {\"livre\": \"Assemblage de feuilles imprimées et réunies en un volume, broché ou relié\",\n",
    "           \"épée\": \"Arme de main faite d'une lame d'acier pointue fixée à une poignée munie d'une garde.\",\n",
    "           \"archive\": \"Pièce, document d'archives.\"}"
   ]
  },
  {
   "cell_type": "code",
   "execution_count": 23,
   "id": "566d7399-b4bd-4872-afb1-895ddc0a548a",
   "metadata": {
    "tags": []
   },
   "outputs": [
    {
     "name": "stdout",
     "output_type": "stream",
     "text": [
      "----- livre\n",
      "Assemblage de feuilles imprimées et réunies en un volume, broché ou relié\n",
      "----- épée\n",
      "Arme de main faite d'une lame d'acier pointue fixée à une poignée munie d'une garde.\n",
      "----- archive\n",
      "Pièce, document d'archives.\n"
     ]
    }
   ],
   "source": [
    "li = list(dictionnaire.keys())\n",
    "for mot in li:\n",
    "    print('-----', mot) \n",
    "    print(dictionnaire[mot])"
   ]
  },
  {
   "cell_type": "code",
   "execution_count": 17,
   "id": "7ccccabb-7afd-4870-b7f4-37975813aa6f",
   "metadata": {
    "tags": []
   },
   "outputs": [
    {
     "data": {
      "text/plain": [
       "'Assemblage de feuilles imprimées et réunies en un volume, broché ou relié'"
      ]
     },
     "execution_count": 17,
     "metadata": {},
     "output_type": "execute_result"
    }
   ],
   "source": [
    "dictionnaire['livre']"
   ]
  },
  {
   "cell_type": "code",
   "execution_count": 25,
   "id": "ef57c5da-8cc9-4f36-bb51-ff7cad60b605",
   "metadata": {
    "tags": []
   },
   "outputs": [
    {
     "data": {
      "text/plain": [
       "dict_values(['Assemblage de feuilles imprimées et réunies en un volume, broché ou relié', \"Arme de main faite d'une lame d'acier pointue fixée à une poignée munie d'une garde.\", \"Pièce, document d'archives.\"])"
      ]
     },
     "execution_count": 25,
     "metadata": {},
     "output_type": "execute_result"
    }
   ],
   "source": [
    "dictionnaire.values()"
   ]
  },
  {
   "cell_type": "code",
   "execution_count": 28,
   "id": "3b6cdc66-7438-4430-8cdb-c9d24f8f831c",
   "metadata": {
    "tags": []
   },
   "outputs": [
    {
     "name": "stdout",
     "output_type": "stream",
     "text": [
      "livre\n",
      "Assemblage de feuilles imprimées et réunies en un volume, broché ou relié\n",
      "épée\n",
      "Arme de main faite d'une lame d'acier pointue fixée à une poignée munie d'une garde.\n",
      "archive\n",
      "Pièce, document d'archives.\n"
     ]
    }
   ],
   "source": [
    "for mot, phrase in dictionnaire.items():\n",
    "    print(mot)\n",
    "    print(phrase)"
   ]
  },
  {
   "cell_type": "code",
   "execution_count": 44,
   "id": "46bde0d8-2b9f-423d-a76f-d02c3cd5d2d5",
   "metadata": {
    "tags": []
   },
   "outputs": [
    {
     "name": "stdout",
     "output_type": "stream",
     "text": [
      "-----------    livre\n",
      "valeur =  Assemblage de feuilles imprimées et réunies en un volume, broché ou relié\n",
      "Assemblage\n",
      "de\n",
      "feuilles\n",
      "imprimées\n",
      "et\n",
      "réunies\n",
      "en\n",
      "un\n",
      "volume,\n",
      "broché\n",
      "ou\n",
      "relié\n",
      "-----------    épée\n",
      "valeur =  Arme de main faite d'une lame d'acier pointue fixée à une poignée munie d'une garde.\n",
      "Arme\n",
      "de\n",
      "main\n",
      "faite\n",
      "d'une\n",
      "lame\n",
      "d'acier\n",
      "pointue\n",
      "fixée\n",
      "à\n",
      "une\n",
      "poignée\n",
      "munie\n",
      "d'une\n",
      "garde.\n",
      "-----------    archive\n",
      "valeur =  Pièce, document d'archives.\n",
      "Pièce,\n",
      "document\n",
      "d'archives.\n"
     ]
    }
   ],
   "source": [
    "for clef in dictionnaire.keys():\n",
    "    print('-----------   ',clef)\n",
    "    print(\"valeur = \",dictionnaire[clef])\n",
    "    chaine = dictionnaire[clef]\n",
    "    liste_chaine = chaine.split()\n",
    "    for mot in liste_chaine:\n",
    "        print(mot)"
   ]
  },
  {
   "cell_type": "code",
   "execution_count": 45,
   "id": "3585911c-4527-46bd-8d11-f4d03e93ac76",
   "metadata": {
    "tags": []
   },
   "outputs": [
    {
     "data": {
      "text/plain": [
       "{'livre': 'Assemblage de feuilles imprimées et réunies en un volume, broché ou relié',\n",
       " 'épée': \"Arme de main faite d'une lame d'acier pointue fixée à une poignée munie d'une garde.\",\n",
       " 'archive': \"Pièce, document d'archives.\"}"
      ]
     },
     "execution_count": 45,
     "metadata": {},
     "output_type": "execute_result"
    }
   ],
   "source": [
    "dictionnaire."
   ]
  },
  {
   "cell_type": "code",
   "execution_count": 55,
   "id": "74475d7c-3cdb-451b-8631-7901d04a0f4b",
   "metadata": {
    "scrolled": true,
    "slideshow": {
     "slide_type": "subslide"
    },
    "tags": []
   },
   "outputs": [],
   "source": [
    "distribution = {'1821': 1, '2006': 1, 'Depuis': 1, 'Enseignement': 1, 'Fondée': 1, \n",
    "'L': 1, 'Recherche': 1, 'Technologies': 1, 'a': 1, 'appliquées': 1, \n",
    "'aux': 1, 'chartes': 2, 'd': 1, 'dans': 1, 'de': 3, 'des': 2, 'du': 1, \n",
    "'en': 1, 'est': 2, 'et': 2, 'fondamentales': 1, 'formant': 1, 'formation': 1, \n",
    "'française': 1, 'grand': 1, 'grande': 1, 'histoire': 2, 'intitulé': 1, 'l': 6, \n",
    "'la': 3, 'le': 1, 'master': 1, 'ministère': 1, 'nationale': 2, 'numériques': 1, \n",
    "'ouvert': 1, 'par': 1, 'placée': 1, 'possède': 1, 'promotion': 1, 'sciences': 1, \n",
    "'sous': 1, 'spécialisée': 1, 'statut': 1, 'supérieur': 1, 'tutelle': 1, 'un': 1, \n",
    "'une': 2, 'vingtaine': 1, '«': 1, '»': 1, 'École': 3, 'Éducation': 1, 'à': 1, 'école': 1, \n",
    "'établissement': 1, 'étudiants': 1}"
   ]
  },
  {
   "cell_type": "code",
   "execution_count": 61,
   "id": "3a06fd0d-056d-40c5-b847-64df051f0c1a",
   "metadata": {
    "tags": []
   },
   "outputs": [
    {
     "name": "stdout",
     "output_type": "stream",
     "text": [
      "1821 1\n",
      "2006 1\n",
      "Depuis 1\n",
      "Enseignement 1\n",
      "Fondée 1\n",
      "L 1\n",
      "Recherche 1\n",
      "Technologies 1\n",
      "a 1\n",
      "appliquées 1\n",
      "aux 1-- a\n",
      "chartes 2\n",
      "d 1---- a\n",
      "dans 1\n",
      "de 3--- a\n",
      "des 2\n",
      "du 1\n",
      "en 1\n",
      "est 2\n",
      "et 2\n",
      "fondamentales 1\n",
      "formant 1\n",
      "formation 1\n",
      "française 1\n",
      "grand 1 a\n",
      "grande 1a\n",
      "histoire 2\n",
      "intitulé 1\n",
      "l 6\n",
      "la 3\n",
      "le 1--- a\n",
      "master 1\n",
      "ministère 1\n",
      "nationale 2\n",
      "numériques 1\n",
      "ouvert 1\n",
      "par 1\n",
      "placée 1a\n",
      "possède 1\n",
      "promotion 1\n",
      "sciences 1\n",
      "sous 1\n",
      "spécialisée 1\n",
      "statut 1a\n",
      "supérieur 1\n",
      "tutelle 1\n",
      "un 1\n",
      "une 2\n",
      "vingtaine 1\n",
      "« 1---- a\n",
      "» 1\n",
      "École 3\n",
      "Éducation 1\n",
      "à 1---- a\n",
      "école 1\n",
      "établissement 1\n",
      "étudiants 1\n",
      "------- a\r"
     ]
    }
   ],
   "source": [
    "import time\n",
    "for clef in distribution.keys():\n",
    "    print(clef, distribution[clef])\n",
    "    for lettre in clef:\n",
    "        if 'a' in lettre:\n",
    "            time.sleep(1)\n",
    "            print('-------',lettre,end='\\r')"
   ]
  },
  {
   "cell_type": "markdown",
   "id": "de5843fd-ce62-4033-bdc4-8d23e37a0785",
   "metadata": {},
   "source": [
    "# CONDITIONS "
   ]
  },
  {
   "cell_type": "code",
   "execution_count": 36,
   "id": "d4c220f5-607a-4807-a754-15f4b6ca061f",
   "metadata": {
    "tags": []
   },
   "outputs": [
    {
     "ename": "NameError",
     "evalue": "name 'e' is not defined",
     "output_type": "error",
     "traceback": [
      "\u001b[0;31m---------------------------------------------------------------------------\u001b[0m",
      "\u001b[0;31mNameError\u001b[0m                                 Traceback (most recent call last)",
      "Cell \u001b[0;32mIn[36], line 3\u001b[0m\n\u001b[1;32m      1\u001b[0m mot\u001b[38;5;241m=\u001b[39m\u001b[38;5;124m'\u001b[39m\u001b[38;5;124mdeoiuydeoi\u001b[39m\u001b[38;5;124m'\u001b[39m\n\u001b[1;32m      2\u001b[0m \u001b[38;5;66;03m# savoir si e est dans le mot ??\u001b[39;00m\n\u001b[0;32m----> 3\u001b[0m \u001b[38;5;28;01mif\u001b[39;00m e \u001b[38;5;129;01min\u001b[39;00m mot:\n\u001b[1;32m      4\u001b[0m     \u001b[38;5;28mprint\u001b[39m(\u001b[38;5;124m'\u001b[39m\u001b[38;5;124mok\u001b[39m\u001b[38;5;124m'\u001b[39m)\n",
      "\u001b[0;31mNameError\u001b[0m: name 'e' is not defined"
     ]
    }
   ],
   "source": [
    "mot='deoiuydeoi'\n",
    "# savoir si e est dans le mot ??\n",
    "if e in mot:\n",
    "    print('ok')"
   ]
  },
  {
   "cell_type": "code",
   "execution_count": 50,
   "id": "b8c68825-f217-493b-b700-c290690d1fb5",
   "metadata": {
    "tags": []
   },
   "outputs": [
    {
     "name": "stdin",
     "output_type": "stream",
     "text": [
      " age ?  19\n"
     ]
    }
   ],
   "source": [
    "var = int(input(' age ? '))"
   ]
  },
  {
   "cell_type": "code",
   "execution_count": 51,
   "id": "5237e113-df9e-4885-b14a-3283d0da8558",
   "metadata": {
    "tags": []
   },
   "outputs": [
    {
     "data": {
      "text/plain": [
       "False"
      ]
     },
     "execution_count": 51,
     "metadata": {},
     "output_type": "execute_result"
    }
   ],
   "source": [
    "var > 20"
   ]
  },
  {
   "cell_type": "code",
   "execution_count": 52,
   "id": "a1aef012-1b1c-4910-b72f-ccc8dd79a3f0",
   "metadata": {
    "tags": []
   },
   "outputs": [],
   "source": [
    "di = {}"
   ]
  },
  {
   "cell_type": "code",
   "execution_count": 53,
   "id": "4b8b1477-f07a-476b-b359-bcc52340039e",
   "metadata": {
    "tags": []
   },
   "outputs": [],
   "source": [
    "di['key1'] = 15"
   ]
  },
  {
   "cell_type": "code",
   "execution_count": 54,
   "id": "9ae9a0a8-b4c9-4aff-a88d-13cf6a4b522d",
   "metadata": {
    "tags": []
   },
   "outputs": [
    {
     "data": {
      "text/plain": [
       "{'key1': 15}"
      ]
     },
     "execution_count": 54,
     "metadata": {},
     "output_type": "execute_result"
    }
   ],
   "source": [
    "di"
   ]
  },
  {
   "cell_type": "code",
   "execution_count": null,
   "id": "df48ef25-7abf-4d3c-99f7-97182cebfd3a",
   "metadata": {},
   "outputs": [],
   "source": []
  }
 ],
 "metadata": {
  "kernelspec": {
   "display_name": "Python 3 (ipykernel)",
   "language": "python",
   "name": "python3"
  },
  "language_info": {
   "codemirror_mode": {
    "name": "ipython",
    "version": 3
   },
   "file_extension": ".py",
   "mimetype": "text/x-python",
   "name": "python",
   "nbconvert_exporter": "python",
   "pygments_lexer": "ipython3",
   "version": "3.11.7"
  }
 },
 "nbformat": 4,
 "nbformat_minor": 5
}
