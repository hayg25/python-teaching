{
 "cells": [
  {
   "cell_type": "code",
   "execution_count": 1,
   "id": "4991a8d1-fb9d-4ac0-9ad9-da7b36e69257",
   "metadata": {},
   "outputs": [
    {
     "name": "stdout",
     "output_type": "stream",
     "text": [
      "t\n",
      "o\n",
      "t\n",
      "o\n"
     ]
    }
   ],
   "source": [
    "for i in 'toto':\n",
    "    print(i)"
   ]
  },
  {
   "cell_type": "code",
   "execution_count": 3,
   "id": "2bdbe002-f0ba-48ae-874a-5bff30ea4a8a",
   "metadata": {},
   "outputs": [
    {
     "name": "stdout",
     "output_type": "stream",
     "text": [
      "0\n",
      "1\n",
      "2\n",
      "3\n",
      "4\n",
      "5\n",
      "6\n",
      "7\n",
      "8\n",
      "9\n",
      "10\n",
      "11\n"
     ]
    }
   ],
   "source": [
    "for i in range(12):\n",
    "    print(i)"
   ]
  },
  {
   "cell_type": "code",
   "execution_count": 9,
   "id": "4ad9f94d-be5f-4fe6-9a16-2fdb92578e13",
   "metadata": {},
   "outputs": [
    {
     "name": "stdout",
     "output_type": "stream",
     "text": [
      "2 o\n",
      "4 c\n",
      "6  \n",
      "8 n\n",
      "10 e\n",
      "12 e\n",
      "14 p\n",
      "16 e\n",
      "18 d\n",
      "20  \n",
      "22 h\n",
      "24 i\n",
      "26 e\n"
     ]
    }
   ],
   "source": [
    "chaine = 'voici un exemple de chaine '\n",
    "count = 0\n",
    "for lettre in chaine:\n",
    "    count+=1\n",
    "    if count %2 == 0:\n",
    "        print(count, lettre)"
   ]
  },
  {
   "cell_type": "code",
   "execution_count": 13,
   "id": "ee6d524b-b79d-42b1-ab9c-bff882466669",
   "metadata": {},
   "outputs": [
    {
     "name": "stdout",
     "output_type": "stream",
     "text": [
      "0 v\n",
      "2 i\n",
      "4 i\n",
      "6 u\n",
      "8  \n",
      "10 x\n",
      "12 m\n",
      "14 l\n",
      "16  \n",
      "18 e\n",
      "20 c\n",
      "22 a\n",
      "24 n\n",
      "26  \n"
     ]
    }
   ],
   "source": [
    "for count in range(0, len(chaine), 2):\n",
    "    print(count, chaine[count])\n"
   ]
  },
  {
   "cell_type": "code",
   "execution_count": 15,
   "id": "ae54945c-b154-419c-987f-f80b54e52fcd",
   "metadata": {},
   "outputs": [
    {
     "data": {
      "text/plain": [
       "'e'"
      ]
     },
     "execution_count": 15,
     "metadata": {},
     "output_type": "execute_result"
    }
   ],
   "source": [
    "chaine = 'nouvelle'\n",
    "chaine[-1]"
   ]
  },
  {
   "cell_type": "code",
   "execution_count": 16,
   "id": "547622b5-c71d-43df-a289-642b88957783",
   "metadata": {},
   "outputs": [
    {
     "data": {
      "text/plain": [
       "'2.10.9'"
      ]
     },
     "execution_count": 16,
     "metadata": {},
     "output_type": "execute_result"
    }
   ],
   "source": [
    "v='2.1'\n",
    "k='0.9'\n",
    "v+k"
   ]
  },
  {
   "cell_type": "code",
   "execution_count": 20,
   "id": "7460d7e5-e1e1-4f11-ab61-644e806aa23a",
   "metadata": {},
   "outputs": [
    {
     "data": {
      "text/plain": [
       "'nou'"
      ]
     },
     "execution_count": 20,
     "metadata": {},
     "output_type": "execute_result"
    }
   ],
   "source": [
    "chaine[0:3]"
   ]
  },
  {
   "cell_type": "code",
   "execution_count": null,
   "id": "ee1e6155-f787-47ea-9be8-024a756aae98",
   "metadata": {},
   "outputs": [],
   "source": []
  }
 ],
 "metadata": {
  "kernelspec": {
   "display_name": "Python 3 (ipykernel)",
   "language": "python",
   "name": "python3"
  },
  "language_info": {
   "codemirror_mode": {
    "name": "ipython",
    "version": 3
   },
   "file_extension": ".py",
   "mimetype": "text/x-python",
   "name": "python",
   "nbconvert_exporter": "python",
   "pygments_lexer": "ipython3",
   "version": "3.11.7"
  }
 },
 "nbformat": 4,
 "nbformat_minor": 5
}
