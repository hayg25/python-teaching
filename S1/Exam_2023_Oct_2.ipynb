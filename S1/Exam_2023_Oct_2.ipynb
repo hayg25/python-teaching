{
 "cells": [
  {
   "cell_type": "markdown",
   "metadata": {},
   "source": [
    "# Examen de python niveau 1 \n",
    "\n",
    "Vous avez 2h pour faire un maximum d'exercices. Surtout pas d'inquiétude.   \n",
    "Première chose à faire : renommer le fichier en l'appelant **Exam_2023_2_Nom_Prenom.ipynb**  \n",
    "Dès que vous avec fini envoyez moi le fichier à mon adresse (hayg.guler@ijclab.in2p3.fr)  \n",
    "\n",
    "* Pour chaque exercice, vous ouvrer une cellule en dessous \n",
    "    * la commande b le fait pour vous\n",
    "    * pour effacer une cellule, on utilise la commande dd\n",
    "    * pour executer une cellule : Shift-Entrée\n"
   ]
  },
  {
   "cell_type": "markdown",
   "metadata": {},
   "source": [
    "### exercice 1\n",
    "---\n",
    "Écrire un programme, qui définit 3 variables : une variable de type liste, une variable de type nombre entier, une variable de type chaîne de caractères et qui affiche leur type."
   ]
  },
  {
   "cell_type": "markdown",
   "metadata": {},
   "source": [
    "### exercice 2\n",
    "---\n",
    "Affecter dans une même ligne les 3 variables précédemment définies."
   ]
  },
  {
   "cell_type": "markdown",
   "metadata": {
    "jp-MarkdownHeadingCollapsed": true,
    "tags": []
   },
   "source": [
    "### exercice 3\n",
    "---\n",
    "Écrire un programme qui, à partir de la saisie d’un rayon calcule le rayon ainsi que le périmètre d'un cercle.\n",
    "\n",
    "Note : pour Pi, il faut voir dans le module math qu'il faudra importer"
   ]
  },
  {
   "cell_type": "markdown",
   "metadata": {
    "jp-MarkdownHeadingCollapsed": true,
    "tags": []
   },
   "source": [
    "### exercice 4\n",
    "---\n",
    "Ecrire un programme en langage Python qui demande à l'utilisateur de saisir son nom prenom et adresse mail (sur une meme ligne) et de lui afficher sous la forme : \n",
    "\n",
    "* nom : \n",
    "* prenom : \n",
    "* email : "
   ]
  },
  {
   "cell_type": "markdown",
   "metadata": {
    "jp-MarkdownHeadingCollapsed": true,
    "tags": []
   },
   "source": [
    "### exercice 5\n",
    "---\n",
    "Ecrire un programme en Python qui demande à l'utilisateur de saisir deux nombres a et b et de lui afficher leur quotient : a / (a + b)\n",
    "\n",
    "mettez une condition pour que si le dénominateur est nul, alors la fraction n'existe pas. \n"
   ]
  },
  {
   "cell_type": "markdown",
   "metadata": {
    "tags": []
   },
   "source": [
    "### exercice 6\n",
    "--------------------\n",
    "Ecrire un programme en Python qui demande à l'utilisateur de saisir deux mots et de lui afficher celui qui est le plus long, le plus court ainsi que leur tailles respectives.\n"
   ]
  },
  {
   "cell_type": "markdown",
   "metadata": {
    "tags": []
   },
   "source": [
    "### exercice 7\n",
    "------------------------\n",
    "Entrée : \n",
    "* list1 = [\"M\", \"na\", \"i\", \"Sa\"]\n",
    "* list2 = [\"y\", \"me\", \"s\", \"suke\"]\n",
    "\n",
    "trouver la methode pour avoir en sortie : \n",
    "* ['My', 'name', 'is', 'Sasuke']"
   ]
  },
  {
   "cell_type": "markdown",
   "metadata": {
    "tags": []
   },
   "source": [
    "### exercice 8\n",
    "---------------------------\n",
    "Entrée : \n",
    "* numbers = [1, 2, 3, 4, 5, 6, 7]\n",
    "sortie attendue : \n",
    "* [6, 13, 32, 69, 130, 221, 348]\n",
    "\n",
    "Astuce : 2^3 + 5 = 13"
   ]
  },
  {
   "cell_type": "markdown",
   "metadata": {
    "tags": []
   },
   "source": [
    "### exercice 9\n",
    "-------------------\n",
    "Ecrit un programme qui ajoute 4000 juste avant le 5000 de la liste : \n",
    "\n",
    "\n",
    "* list1 = [10, 20, [300, 400, [5000, 6000], 500], 30, 40]\n",
    "\n",
    "Sortie attendue :\n",
    "\n",
    "* [10, 20, [300, 400, [4000, 5000, 6000], 500], 30, 40]"
   ]
  },
  {
   "cell_type": "markdown",
   "metadata": {},
   "source": [
    "### exercice 1\n",
    "---------------------------------\n",
    "\n",
    "Vous devez générer, un \"nombre mystère\" aléatoirement entre 1 et 50 inclus que vous stockerez dans une variable.\n",
    "\n",
    "Puis vous demanderez à l'utilisateur d'essayer de deviner le nombre, si le nombre entré n'est pas le même que le nombre mystère alors vous affichez si le nombre mystère est plus petit ou plus grand du nombre entré, sachant que l'utilisateur a maximum 5 essais si il ne trouve pas le nombre après les 5 essais, le joueur aura perdu.\n",
    "\n",
    "Modules : random (randint)"
   ]
  },
  {
   "cell_type": "markdown",
   "metadata": {
    "tags": []
   },
   "source": [
    "### exercice 2\n",
    "----------------------\n",
    "\n",
    "Il s'agit d'écrire, d'une part, un programme principal et, d'autre part, une fonction utilisée dans le programme principal.\n",
    "\n",
    "La fonction listAleaInt(n, a, b) retourne une liste de n entiers aléatoires dans [a .. b] en utilisant la fonction randint(a, b) du module random.\n",
    "\n",
    "calculer l'index de la case qui contient le minimum ;\n",
    "échangez le premier élément du tableau avec son minimum.\n",
    "\n",
    "Exemple : \n",
    "```python\n",
    "from random import randint\n",
    "randint(0,2)\n",
    "```"
   ]
  },
  {
   "cell_type": "markdown",
   "metadata": {},
   "source": [
    "### exercice 3\n",
    "---\n",
    "L'utilisateur donne un entier positif et le programme annonce combien de fois de suite cet entier est divisible par 3.\n",
    "Il faudra utiliser une fonction qui prenda en argument un entier positif, ainsi qu'un autre argument, égal à 3 mais generalisable à d'autres valeurs. \n"
   ]
  },
  {
   "cell_type": "markdown",
   "metadata": {},
   "source": [
    "### exercice 4\n",
    "---\n",
    "Ecrire un programme en Python sous forme de fonction qui prend en argument un nombre entier n et de lui afficher la valeur de la somme 1 + 3 + 5 + 7 …  (2n+1) =. \n",
    "La fonction renvera la somme indiquée que vous devrez afficher. \n"
   ]
  },
  {
   "cell_type": "markdown",
   "metadata": {},
   "source": [
    "### exercice 5\n",
    "---\n",
    "Ecrire une fonction qui prend en entrée un entier n et qui renvoie le produit des nombres impairs stricement inferieurs à n.\n",
    "\n",
    "Tester dans la fonction les cas ou n <0 ... "
   ]
  },
  {
   "cell_type": "markdown",
   "metadata": {},
   "source": [
    "### exercice 6\n",
    "---\n",
    "Initialisez deux entiers : a = 0 et b = 10 .\n",
    "Écrire une boucle affichant et incrémentant la valeur de a tant qu’elle reste inférieure\n",
    "à celle de b .\n",
    "Écrire une autre boucle décrémentant la valeur de b et affichant sa valeur si elle est\n",
    "impaire. Boucler tant que b n’est pas nul."
   ]
  },
  {
   "cell_type": "markdown",
   "metadata": {},
   "source": [
    "### exercice 7\n",
    "---\n",
    "\n",
    "Écrivez une fonction appelée calcul_surface_cercle qui prendra le rayon d'un cercle en argument et retournera la surface de ce cercle. Ensuite, appelez cette fonction avec un rayon de votre choix et imprimez le résultat."
   ]
  },
  {
   "cell_type": "markdown",
   "metadata": {},
   "source": [
    "###  exercice 8\n",
    "---\n",
    "Écrire un programme Python sous forme de fonction qui prend deux entiers n, et m comme argument et renvoie le plus petit entier multiple de m supérieur ou égal à n.\n",
    "\n",
    "    Exemple pour n = 7, et m = 3, la fonction renvoie le plus petit nombre multiple de 3 supérieur ou égal à 7 qui est 3x3 = 9."
   ]
  },
  {
   "cell_type": "markdown",
   "metadata": {},
   "source": [
    "### exercice 9\n",
    "---\n",
    "\n",
    "Écrivez une fonction appelée analyse_phrase qui prendra deux arguments : une chaîne de caractères et une liste de mots. La fonction devra analyser la chaîne pour déterminer si chaque mot dans la liste apparaît dans la phrase. \n",
    "\n",
    "La fonction doit renvoyer un dictionnaire avec les mots comme clés et une liste de positions où ces mots apparaissent dans la phrase comme valeurs. Testez la fonction avec une chaîne et une liste de mots de votre choix."
   ]
  },
  {
   "cell_type": "markdown",
   "metadata": {},
   "source": [
    "###  exercice 10\n",
    "---\n",
    "Écrivez une fonction appelée somme_liste_carre qui prendra une liste d'entiers en argument et retournera la somme des carrés de ces entiers. Utilisez une boucle pour parcourir la liste et accumuler la somme des carrés. Ensuite, appelez cette fonction avec une liste d'entiers de votre choix et imprimez le résultat."
   ]
  },
  {
   "cell_type": "markdown",
   "metadata": {},
   "source": [
    "###  exercice 11\n",
    "------\n",
    "\n",
    "Écrivez une fonction appelée analyse_liste qui prendra une liste d'entiers en argument. Cette fonction devra renvoyer un dictionnaire contenant la somme, la valeur maximale, la valeur minimale et la moyenne des éléments de la liste. \n",
    "\n",
    "Ensuite, appelez cette fonction avec une liste d'entiers de votre choix et imprimez le dictionnaire résultant."
   ]
  },
  {
   "cell_type": "markdown",
   "metadata": {},
   "source": [
    "###  exercice 12\n",
    "---\n",
    "Ecrire un programme en Python qui demande à l’utilisateur de saisir une chaine de caractère s et de lui renvoyer un message indiquant si la chaine contient la lettre 'a' tout en indiquant sa position sur la chaine. Exemple si l’utilisateur tape la chaine s = ‘langage’ le programme lui renvoie : La lettre 'a' se trouve à la position : 1 La lettre 'a' se trouve à la position : 4"
   ]
  },
  {
   "cell_type": "markdown",
   "metadata": {},
   "source": [
    "###  exercice 13\n",
    "\n",
    "Ecrire une fonction qui prend en argument une chaine de caracteres, et renvoie une liste contenant les voyelles présentes dans la chaine. "
   ]
  },
  {
   "cell_type": "markdown",
   "metadata": {},
   "source": [
    "###  exercice 14\n",
    "---\n",
    "\n",
    "Comme pour l'exercice 13 mais la fonction renvoie un dictionnaire avec la liste des voyelles, avec leur nombre de fois qu'elle sont apparus dans la chaine. \n",
    "\n",
    "exemple de sortie : \n",
    "\n",
    "```python\n",
    "voyelles = {'a':3, 'e':7, 'i':0, 'o':1, ...}\n",
    "```"
   ]
  },
  {
   "cell_type": "markdown",
   "metadata": {},
   "source": [
    "###  exercice 15\n",
    "----\n",
    "Ecrire un programme qui prend 2 arguments : \n",
    "- une chaine de caracteres, par exemple une phrase \n",
    "- un autre chaine qu'on doit rechercher dans la premiere chaine \n",
    "\n",
    "le programme donne l'indice du mot dans lequel apparait la chaine. \n",
    "\n",
    "Ex : \n",
    "- Le petit chat noir et gris est parti \n",
    "- on cherche 'ti'\n",
    "il apparait dans les mots d'indice 1 et 7\n",
    "On veut donc une liste en sortie de programme. \n",
    "On utilisera la liste pour ecrire les mots dans lesquels apparait la chaine. "
   ]
  },
  {
   "cell_type": "markdown",
   "metadata": {
    "tags": []
   },
   "source": [
    "###  exercice 16\n",
    "---\n",
    "Écrire un programme Python qui teste si une liste est vide ou non. Même question pour une chaine de caractères.\n"
   ]
  },
  {
   "cell_type": "code",
   "execution_count": null,
   "metadata": {},
   "outputs": [],
   "source": [
    "p"
   ]
  },
  {
   "cell_type": "markdown",
   "metadata": {},
   "source": [
    "### exercice 17\n",
    "---\n",
    "\n",
    "Écrivez un programme qui prend un nombre en entrée, vérifie s'il est pair ou impair, le met au carré s'il est pair, et le cube s'il est impair, puis imprime le résultat. \n",
    "\n",
    "Pour ce faire, vous devrez définir au moins deux fonctions, l'une pour vérifier si le nombre est pair ou impair et l'autre pour effectuer le calcul en conséquence."
   ]
  },
  {
   "cell_type": "markdown",
   "metadata": {},
   "source": [
    "###  exercice 18\n",
    "---\n",
    "Écrire une fonction prend en argument une liste et qui permet de supprimer les éléments dupliqués d'une liste.\n",
    "\n",
    "la nouvelle liste est rentournée par la fonction. \n"
   ]
  },
  {
   "cell_type": "markdown",
   "metadata": {},
   "source": [
    "###  exercice 19\n",
    "---\n",
    "Ecrire une fonction en Python qui permet de comparer deux listes et de nous indiquer si ces deux listes ont une valeur communes ou non."
   ]
  },
  {
   "cell_type": "markdown",
   "metadata": {
    "tags": []
   },
   "source": [
    "###  exercice 20\n",
    "---\n",
    "Etant donnée la liste des notes des élèves :  notes = [12 , 04 , 14 , 11 ,  18 , 13 ,  07, 10 , 05 , 09 , 15 , 08 , 14 , 16]  \n",
    "Ecrire une fonction qui renvoie : \n",
    "* la liste qui contient uniquement les notes au dessus de la myenne ( les notes  >= 10 )\n",
    "* La liste avec les notes < 10. \n",
    "* les moyennes correspondantes\n",
    "* en sortie de fonction imprimez chacune des listes avec leur moyennes et ecart type\n",
    "    * vous pouvez utiliser la fonction std de numpy \n",
    "    * import numpy as np \n",
    "    * puis np.std(...)"
   ]
  },
  {
   "cell_type": "markdown",
   "metadata": {
    "tags": []
   },
   "source": [
    "###  exercice 37\n",
    "---\n",
    "\n",
    "    On dispose d’un dictionnaire associant à des noms de commerciaux d’une société le nombre de ventes qu’ils ont réalisées. Par exemple :\n",
    "\n",
    "```python\n",
    "ventes={\"Dupont\":14, \"Hervy\":19, \"Geoffroy\":15, \"Layec\":21}\n",
    "```\n",
    "\n",
    "    1. Écrivez une fonction qui prend en entrée un tel dictionnaire et renvoie le nombre total de ventes dans la société.\n",
    "    2. Écrivez une fonction qui prend en entrée un tel dictionnaire et renvoie le nom du vendeur ayant réalisé le plus de ventes. Si plusieurs vendeurs sont ex-aequo sur ce critère, la fonction devra retourner le nom de l’un d’entre eux.\n"
   ]
  },
  {
   "cell_type": "markdown",
   "metadata": {},
   "source": [
    "# Merci à tous "
   ]
  }
 ],
 "metadata": {
  "kernelspec": {
   "display_name": "Python 3 (ipykernel)",
   "language": "python",
   "name": "python3"
  },
  "language_info": {
   "codemirror_mode": {
    "name": "ipython",
    "version": 3
   },
   "file_extension": ".py",
   "mimetype": "text/x-python",
   "name": "python",
   "nbconvert_exporter": "python",
   "pygments_lexer": "ipython3",
   "version": "3.11.5"
  },
  "toc": {
   "base_numbering": 1,
   "nav_menu": {},
   "number_sections": true,
   "sideBar": true,
   "skip_h1_title": false,
   "title_cell": "Table of Contents",
   "title_sidebar": "Contents",
   "toc_cell": false,
   "toc_position": {},
   "toc_section_display": true,
   "toc_window_display": false
  },
  "varInspector": {
   "cols": {
    "lenName": 16,
    "lenType": 16,
    "lenVar": 40
   },
   "kernels_config": {
    "python": {
     "delete_cmd_postfix": "",
     "delete_cmd_prefix": "del ",
     "library": "var_list.py",
     "varRefreshCmd": "print(var_dic_list())"
    },
    "r": {
     "delete_cmd_postfix": ") ",
     "delete_cmd_prefix": "rm(",
     "library": "var_list.r",
     "varRefreshCmd": "cat(var_dic_list()) "
    }
   },
   "types_to_exclude": [
    "module",
    "function",
    "builtin_function_or_method",
    "instance",
    "_Feature"
   ],
   "window_display": false
  }
 },
 "nbformat": 4,
 "nbformat_minor": 4
}
