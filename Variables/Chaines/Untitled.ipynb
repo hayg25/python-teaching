{
 "cells": [
  {
   "cell_type": "code",
   "execution_count": 1,
   "id": "c5bca9f2-0277-40ab-878f-8899829b520c",
   "metadata": {},
   "outputs": [],
   "source": [
    "import numpy as np"
   ]
  },
  {
   "cell_type": "code",
   "execution_count": 7,
   "id": "5ab12d19-b92f-4976-aa98-6188f091b5c7",
   "metadata": {},
   "outputs": [],
   "source": [
    "x = np.linspace(0,10)"
   ]
  }
 ],
 "metadata": {
  "kernelspec": {
   "display_name": "crypto",
   "language": "python",
   "name": "crypto"
  },
  "language_info": {
   "codemirror_mode": {
    "name": "ipython",
    "version": 3
   },
   "file_extension": ".py",
   "mimetype": "text/x-python",
   "name": "python",
   "nbconvert_exporter": "python",
   "pygments_lexer": "ipython3",
   "version": "3.9.1"
  }
 },
 "nbformat": 4,
 "nbformat_minor": 5
}
