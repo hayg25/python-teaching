{
 "cells": [
  {
   "cell_type": "markdown",
   "metadata": {},
   "source": [
    "# Examen de python niveau 1 \n",
    "\n",
    "Vous avez 2h pour faire un maximum d'exercices. Surtout pas d'inquiétude.   \n",
    "Première chose à faire : renommer le fichier en l'appelant **Exam_2022_Nom_Prenom.ipynb**  \n",
    "Dès que vous avec fini envoyez moi le fichier à mon adresse (hayg.guler@ijclab.in2p3.fr)  \n",
    "\n",
    "* Pour chaque exercice, vous ouvrer une cellule en dessous \n",
    "    * la commande b le fait pour vous\n",
    "    * pour effacer une cellule, on utilise la commande dd\n",
    "    * pour executer une cellule : Shift-Entrée\n"
   ]
  },
  {
   "cell_type": "markdown",
   "metadata": {},
   "source": [
    "## Variables"
   ]
  },
  {
   "cell_type": "markdown",
   "metadata": {},
   "source": [
    "### exercice 1\n",
    "Écrire un programme, qui définit 3 variables : une variable de type texte, une variable de type nombre entier, une variable de type nombre décimal et qui affiche leur type."
   ]
  },
  {
   "cell_type": "markdown",
   "metadata": {},
   "source": [
    "### exercice 2\n",
    "\n",
    "Affecter dans une même ligne les 3 variables précédemment définies."
   ]
  },
  {
   "cell_type": "markdown",
   "metadata": {},
   "source": [
    "### exercice 3\n",
    "\n",
    "Écrire un programme qui, à partir de la saisie d’un rayon et d’une hauteur, calcule le volume d’un\n",
    "cône droit : V = 13 × π×r 2 × h. Comparer la précision de calcul avec votre calculatrice ou celle de l’ordinateur.\n",
    "\n",
    "Note : pour Pi, il faut voir dans le module math qu'il faudra importer"
   ]
  },
  {
   "cell_type": "markdown",
   "metadata": {},
   "source": [
    "### exercice 4\n",
    "\n",
    "Ecrire un programme en langage Python qui demande à l'utilisateur de saisir son nom prenom et adresse mail (sur une meme ligne) et de lui afficher sous la forme : \n",
    "\n",
    "* nom : \n",
    "* prenom : \n",
    "* email : "
   ]
  },
  {
   "cell_type": "markdown",
   "metadata": {},
   "source": [
    "### exercice 5\n",
    "\n",
    "Ecrire un programme en Python qui demande à l'utilisateur de saisir deux nombres a et b et de lui afficher leur quotient : a / b\n",
    "mettez une condition pour que si le dénominateur est nul, alors la fraction n'existe pas. \n"
   ]
  },
  {
   "cell_type": "markdown",
   "metadata": {
    "tags": []
   },
   "source": [
    "### exercice 6\n",
    "\n",
    "Ecrire un programme en Python qui demande à l'utilisateur de saisir deux mots et de lui afficher celui qui est le plus long, le plus court ainsi que leur tailles respectives.\n"
   ]
  },
  {
   "cell_type": "markdown",
   "metadata": {
    "tags": []
   },
   "source": [
    "### exercice 6-1\n",
    "Entrée : \n",
    "* list1 = [\"M\", \"na\", \"i\", \"Na\"]\n",
    "* list2 = [\"y\", \"me\", \"s\", \"ruto\"]\n",
    "\n",
    "trouver la methode pour avoir en sortie : \n",
    "* ['My', 'name', 'is', 'Naruto']"
   ]
  },
  {
   "cell_type": "markdown",
   "metadata": {
    "tags": []
   },
   "source": [
    "### exercice 6-2\n",
    "Entrée : \n",
    "* numbers = [1, 2, 3, 4, 5, 6, 7]\n",
    "sortie attendue : \n",
    "* [2, 5, 10, 17, 26, 37, 50] "
   ]
  },
  {
   "cell_type": "markdown",
   "metadata": {},
   "source": [
    "### exercice 6-3\n",
    "Ecrit un programme qui ajoute 7000 à la suite du 6000 de la liste : \n",
    "\n",
    "\n",
    "* list1 = [10, 20, [300, 400, [5000, 6000], 500], 30, 40]\n",
    "\n",
    "Sortie attendue :\n",
    "\n",
    "* [10, 20, [300, 400, [5000, 6000, 7000], 500], 30, 40]"
   ]
  },
  {
   "cell_type": "markdown",
   "metadata": {},
   "source": [
    "## Fonctions Boucles tests "
   ]
  },
  {
   "cell_type": "markdown",
   "metadata": {},
   "source": [
    "### exercice 7\n",
    "\n",
    "Ecrire un programme en langage Python qui affiche les 100 premiers nombres entiers\n"
   ]
  },
  {
   "cell_type": "markdown",
   "metadata": {},
   "source": [
    "### exercice 8\n",
    "Ecrire un programme en langage Python qui demande à l'utilisateur de saisir son nombre entier et de lui afficher si ce nombre est pair ou impair.\n"
   ]
  },
  {
   "cell_type": "markdown",
   "metadata": {},
   "source": [
    "### exercice 9\n",
    "\n",
    "Ecrire un programme en langage Python qui demande à l'utilisateur de saisir son âge et de lui afficher le message « vous êtes Majeur ! » si l’âge tapé est supérieur ou égale à 18 et le message « vous êtes mineur ! » si l’âge tapé est inférieur à 18\n"
   ]
  },
  {
   "cell_type": "markdown",
   "metadata": {},
   "source": [
    "### exercice 10\n",
    "\n",
    "Ecrire un programme en Python qui demande à l'utilisateur de saisir 3 nombre x, y et z et de lui afficher leur maximum"
   ]
  },
  {
   "cell_type": "markdown",
   "metadata": {},
   "source": [
    "### exercice 11\n",
    "Ecrire un programme en Python qui demande à l'utilisateur de saisir un nombre entier n et de lui afficher la valeur de la somme 1 + 2 + … + n =\n"
   ]
  },
  {
   "cell_type": "markdown",
   "metadata": {},
   "source": [
    "### exercice 12\n",
    "Ecrire un programme en Python qui demande à l'utilisateur de saisir un nombre entier n et de lui afficher n !\n"
   ]
  },
  {
   "cell_type": "markdown",
   "metadata": {},
   "source": [
    "### exercice 13\n",
    "Ecrire un programme en Python qui demande à l’utilisateur de saisir le rayon d'un cercle et de lui renvoyer la surface et le périmètre.\n"
   ]
  },
  {
   "cell_type": "markdown",
   "metadata": {},
   "source": [
    "### exercice 14 \n",
    "\n",
    "Ecrire un programme en Python qui demande à l’utilisateur de saisir un nombre entier n et de lui afficher tous les diviseurs de ce nombre.\n",
    "\n",
    "aide : utiliser l'opérateur modulo (%) "
   ]
  },
  {
   "cell_type": "markdown",
   "metadata": {},
   "source": [
    "### exercice 15\n",
    "\n",
    "Ecrire un programme en langage Python qui demande à l'utilisateur de saisir un nombre entier n et de lui afficher si ce nombre est carré parfait ou non\n"
   ]
  },
  {
   "cell_type": "markdown",
   "metadata": {},
   "source": [
    "###  exercice 16\n",
    "Ecrire un programme en langage Python qui demande à l'utilisateur de saisir un nombre entier n et de lui afficher si ce nombre est premier ou non."
   ]
  },
  {
   "cell_type": "markdown",
   "metadata": {},
   "source": [
    "### exercice 17 \n",
    "Faire un programme qui va remplir une liste de noms qu'on va devoir entrer à la main et ce jusqu'au mot clef 'quit'.  \n",
    "à ce moment, vous imprimez à l'écran la taille de la liste ainsi que tous les noms.\n"
   ]
  },
  {
   "cell_type": "markdown",
   "metadata": {},
   "source": [
    "## Chaines de caractère, Listes "
   ]
  },
  {
   "cell_type": "markdown",
   "metadata": {},
   "source": [
    "###  exercice 18\n",
    "Ecrire un programme en langage Python qui permet de parcourir et afficher les caractères d’une variable du type chaine de caractères. Exemple pour s = « Python » , le programme affiche les caractères :  \n",
    "* P   \n",
    "* y  \n",
    "* t  \n",
    "* h  \n",
    "* o  \n",
    "* n  "
   ]
  },
  {
   "cell_type": "markdown",
   "metadata": {},
   "source": [
    "###  exercice 19\n",
    "Ecrire un programme en Python permettant d’afficher pour une chaine de caractères donnée, le nombre d’occurrences de chaque caractère dans la chaine. Exemple pour la chaine de caractère s = « Python.org » le programme doit afficher :  \n",
    "Le caractère : \" P \" figure 1 fois dans la chaine s  \n",
    "Le caractère : \" y \" figure 1 fois dans la chaine s  \n",
    "Le caractère : \" t \" figure 1 fois dans la chaine s  \n",
    "Le caractère : \" h \" figure 1 fois dans la chaine s  \n",
    "Le caractère : \" o \" figure 2 fois dans la chaine s  \n",
    "Le caractère : \" n \" figure 1 fois dans la chaine s  \n",
    "Le caractère : \" . \" figure 1 fois dans la chaine s  \n",
    "Le caractère : \" r \" figure 1 fois dans la chaine s  \n",
    "Le caractère : \" g \" figure 1 fois dans la chaine s  "
   ]
  },
  {
   "cell_type": "markdown",
   "metadata": {},
   "source": [
    "###  exercice 20\n",
    "Ecrire un programme en Python qui demande à l’utilisateur de saisir une chaine de caractère s et de lui renvoyer un message indiquant si la chaine contient la lettre 'a' tout en indiquant sa position sur la chaine. Exemple si l’utilisateur tape la chaine s = ‘langage’ le programme lui renvoie : La lettre 'a' se trouve à la position : 1 La lettre 'a' se trouve à la position : 4"
   ]
  },
  {
   "cell_type": "markdown",
   "metadata": {},
   "source": [
    "###  exercice 21\n",
    "Ecrire un programme en Python qui permet de lister les chaines qui composent la liste l = [\"laptop\", \"iphone\", \"tablet\"] tout en indiquant la longueur de chaque chaine."
   ]
  },
  {
   "cell_type": "markdown",
   "metadata": {},
   "source": [
    "###  exercice 22\n",
    "Ecrire un programme en langage Python, permettant d’échanger le premier et le dernier caractère d’une chaine donnée.\n"
   ]
  },
  {
   "cell_type": "markdown",
   "metadata": {},
   "source": [
    "###  exercice 23\n",
    "Ecrire un programme en langage Python, qui permet de compter le nombre de voyelles dans une chaine donnée. Exemple pour la chaine s='anticonstitutionellement' le programme doit renvoyer le message suivant : La chaine anticonstitutionellement possède 10 voyelles."
   ]
  },
  {
   "cell_type": "markdown",
   "metadata": {},
   "source": [
    "###  exercice 24\n",
    "Ecrire un programme en Python, qui permet de renvoyer le premier mot d’un texte donné. Exemple pour le texte : t ='Python est un merveilleux langage de programmation', le programme doit renvoyer Python"
   ]
  },
  {
   "cell_type": "markdown",
   "metadata": {},
   "source": [
    "###  exercice 25\n",
    "Ecrire un programme en langage Python qui demande à l’utilisateur de saisir le nom d’un fichier et de lui renvoyer son extension. Exemple si l’utilisateur saisie coursPython.pdf le programme lui renvoie le message « L’extension du fichier est .pdf »."
   ]
  },
  {
   "cell_type": "markdown",
   "metadata": {},
   "source": [
    "###  exercice 26\n",
    "Ecrire un programme qui demande à l’utilisateur de saisir un mot et de lui renvoyer son inverse. Exemple si l’utilisateur saisi le mot python , le programme lui renvoie nohtyp."
   ]
  },
  {
   "cell_type": "markdown",
   "metadata": {},
   "source": [
    "###  exercice 27\n",
    "Écrire un programme Python qui teste si une liste est vide ou non. Même question pour une chaine de caractères.\n"
   ]
  },
  {
   "cell_type": "markdown",
   "metadata": {},
   "source": [
    "###  exercice 28\n",
    "Écrire un programme Python qui permet de supprimer les éléments dupliqués d'une liste.\n"
   ]
  },
  {
   "cell_type": "markdown",
   "metadata": {},
   "source": [
    "###  exercice 29\n",
    "Ecrire une fonction en Python qui permet de comparer deux listes et de nous indiquer si ces deux listes ont une valeur communes ou non."
   ]
  },
  {
   "cell_type": "markdown",
   "metadata": {},
   "source": [
    "###  exercice 30\n",
    "Etant donnée la liste des notes des élèves :  notes = [12 , 04 , 14 , 11 ,  18 , 13 ,  07, 10 , 05 , 09 , 15 , 08 , 14 , 16]  \n",
    "* Ecrire un programme Python qui permet d'extraire  de cette liste et créer une autre liste qui contient uniquement les notes au dessus de la myenne ( les notes  >= 10 )\n",
    "* Idem avec les notes < 10. Dites quel groupe est le plus grand. \n",
    "* calculez la moyenne \n"
   ]
  },
  {
   "cell_type": "markdown",
   "metadata": {},
   "source": [
    "###  exercice 31\n",
    "Ecrire un programme Python qui permet de regrouper dans une liste les mots communs à deux chaines s1 et s2.\n"
   ]
  },
  {
   "cell_type": "markdown",
   "metadata": {},
   "source": [
    "###  exercice 32\n",
    "Créez une fonction Python, appelée nombreDivisibles, qui s'applique à une liste de nombres et un entier n, et qui renvoie le nombre d’éléments de la liste qui sont divisible par n."
   ]
  },
  {
   "cell_type": "markdown",
   "metadata": {},
   "source": [
    "###  exercice 33\n",
    "Créer une fonction Python nommée InsertEtoile() qui place des \"étoiles \" entre chaque caractères d'une chaine fournie en entrée. Exemple pour la chaine s = \"Python\" , InsertEtoile(s) donne P*t*h*o*n"
   ]
  },
  {
   "cell_type": "markdown",
   "metadata": {},
   "source": [
    "###  exercice 34\n",
    "\n",
    " L = [0, 1, 2, 3, 4, 5, 6, 7, 8, 9]\n",
    " à partir de L:  \n",
    "    1. Ajouter la valeur 1 à chacun de ses éléments.  \n",
    "    2. Ajouter la valeur 11 à la fin de la liste.  \n",
    "    3. Ajouter les valeurs 12 et 13 à la fin de la liste.  \n",
    "    4. Afficher le premier élément, les deux premiers éléments, le dernier élément, les deux derniers éléments.  \n",
    "    5. Construire la liste \"paires\" qui contient les nombres paires de L et la liste \"impaire\" qui contient les nombres \"impaires\" de L.\n",
    "    -> boucle for et liste compréhension  \n",
    "    6. Ajouter la valeur 3.5 entre 3 et 4.  \n",
    "    7. Supprimer la valeur 3.5.  \n",
    "    8. Inverser l'ordre des éléments de L.  \n",
    "    9 Demander à l'utilisateur de fournir un nombre au hasard et dire si ce nombre est présent dans L.  "
   ]
  },
  {
   "cell_type": "markdown",
   "metadata": {},
   "source": [
    "## Dictionnaires "
   ]
  },
  {
   "cell_type": "markdown",
   "metadata": {},
   "source": [
    "### exercice 35\n",
    "voici un dictionnaire : dict1 = {\"a\": 1, \"d\": 4, \"g\": 7}\n",
    "1. faire une boucle dans laquelle vous ecrivez les couples clef/valeur\n",
    "2. remplacez une des valeur par exemple celle associée à la clef \"d\" par la somme des valeurs associées aux deux autres clefs"
   ]
  },
  {
   "cell_type": "markdown",
   "metadata": {},
   "source": [
    "###  exercice 36\n",
    "d = {'nom': 'Dupuis', 'prenom': 'Jacque', 'age': 30}\n",
    "\n",
    "    1. Corriger l'erreur dans le prénom, la bonne valeur est 'Jacques'.\n",
    "    2. Afficher la liste des clés du dictionnaire.\n",
    "    3. Afficher la liste des valeurs du dictionnaire.\n",
    "    4. Afficher la liste des paires clé/valeur du dictionnaire.\n",
    "    5. Ecrire la phrase \"Jacques Dupuis a 30 ans\".\n"
   ]
  },
  {
   "cell_type": "markdown",
   "metadata": {},
   "source": [
    "###  exercice 37\n",
    "\n",
    "    On dispose d’un dictionnaire associant à des noms de commerciaux d’une société le nombre de ventes qu’ils ont réalisées. Par exemple :\n",
    "\n",
    "```python\n",
    "ventes={\"Dupont\":14, \"Hervy\":19, \"Geoffroy\":15, \"Layec\":21}\n",
    "```\n",
    "\n",
    "    1. Écrivez une fonction qui prend en entrée un tel dictionnaire et renvoie le nombre total de ventes dans la société.\n",
    "    2. Écrivez une fonction qui prend en entrée un tel dictionnaire et renvoie le nom du vendeur ayant réalisé le plus de ventes. Si plusieurs vendeurs sont ex-aequo sur ce critère, la fonction devra retourner le nom de l’un d’entre eux.\n"
   ]
  },
  {
   "cell_type": "markdown",
   "metadata": {},
   "source": [
    "### exercice 38\n",
    "\n",
    "1. créer un table de taille 100 entre 0 et 10 uniformément espacés\n",
    "2. utiliser ce tableau pour remplir un second tableau de même taille mais avec des nombres aléatoires (rand())\n",
    "3. remplir un tableau de même taille avec des nombres entiers aléatoires (randint())\n",
    "4. remplir un dernier tableau avec une fonction sin²(x)+tan²(x)\n",
    "5. faire 4 graphes avec chacunes des fonctions avec toujours en abscisse le tableau rempli en 1. "
   ]
  },
  {
   "cell_type": "markdown",
   "metadata": {},
   "source": [
    "# Merci à tous "
   ]
  }
 ],
 "metadata": {
  "kernelspec": {
   "display_name": "Python 3 (ipykernel)",
   "language": "python",
   "name": "python3"
  },
  "language_info": {
   "codemirror_mode": {
    "name": "ipython",
    "version": 3
   },
   "file_extension": ".py",
   "mimetype": "text/x-python",
   "name": "python",
   "nbconvert_exporter": "python",
   "pygments_lexer": "ipython3",
   "version": "3.8.12"
  },
  "toc": {
   "base_numbering": 1,
   "nav_menu": {},
   "number_sections": true,
   "sideBar": true,
   "skip_h1_title": false,
   "title_cell": "Table of Contents",
   "title_sidebar": "Contents",
   "toc_cell": false,
   "toc_position": {},
   "toc_section_display": true,
   "toc_window_display": false
  },
  "varInspector": {
   "cols": {
    "lenName": 16,
    "lenType": 16,
    "lenVar": 40
   },
   "kernels_config": {
    "python": {
     "delete_cmd_postfix": "",
     "delete_cmd_prefix": "del ",
     "library": "var_list.py",
     "varRefreshCmd": "print(var_dic_list())"
    },
    "r": {
     "delete_cmd_postfix": ") ",
     "delete_cmd_prefix": "rm(",
     "library": "var_list.r",
     "varRefreshCmd": "cat(var_dic_list()) "
    }
   },
   "types_to_exclude": [
    "module",
    "function",
    "builtin_function_or_method",
    "instance",
    "_Feature"
   ],
   "window_display": false
  }
 },
 "nbformat": 4,
 "nbformat_minor": 4
}
